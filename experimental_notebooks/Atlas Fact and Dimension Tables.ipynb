{
 "cells": [
  {
   "cell_type": "code",
   "execution_count": 1,
   "id": "d9e4575b",
   "metadata": {},
   "outputs": [
    {
     "name": "stderr",
     "output_type": "stream",
     "text": [
      "Setting default log level to \"WARN\".\n",
      "To adjust logging level use sc.setLogLevel(newLevel). For SparkR, use setLogLevel(newLevel).\n",
      "23/12/04 17:32:39 WARN NativeCodeLoader: Unable to load native-hadoop library for your platform... using builtin-java classes where applicable\n",
      "23/12/04 17:32:40 WARN Utils: Service 'SparkUI' could not bind on port 4040. Attempting port 4041.\n"
     ]
    }
   ],
   "source": [
    "import os\n",
    "from pyspark.sql import SparkSession, types\n",
    "from pyspark.sql import functions as F\n",
    "from pyspark.sql import Row\n",
    "\n",
    "spark = SparkSession.builder.getOrCreate()"
   ]
  },
  {
   "cell_type": "code",
   "execution_count": 2,
   "id": "cca42e56",
   "metadata": {},
   "outputs": [],
   "source": [
    "# from countryguess import guess_country"
   ]
  },
  {
   "cell_type": "code",
   "execution_count": 3,
   "id": "6250095e",
   "metadata": {},
   "outputs": [],
   "source": [
    "input_mhdb = \"Datasets/MH Database - Combined Countries.csv\"\n",
    "output_atlas_countries_facts = \"Datasets/temp_atlas_outputs/atlas_countries_facts\""
   ]
  },
  {
   "cell_type": "markdown",
   "id": "8e1c0070",
   "metadata": {},
   "source": [
    "### List of countries in Mental Health Atlas"
   ]
  },
  {
   "cell_type": "code",
   "execution_count": 4,
   "id": "985edabb",
   "metadata": {},
   "outputs": [
    {
     "name": "stderr",
     "output_type": "stream",
     "text": [
      "\r",
      "[Stage 0:>                                                          (0 + 1) / 1]\r",
      "\r",
      "                                                                                \r"
     ]
    }
   ],
   "source": [
    "countries = spark.read.option(\"header\", True).option(\"multiline\", \"true\").csv(input_mhdb)"
   ]
  },
  {
   "cell_type": "code",
   "execution_count": 5,
   "id": "c676dfe8",
   "metadata": {},
   "outputs": [
    {
     "name": "stderr",
     "output_type": "stream",
     "text": [
      "                                                                                \r"
     ]
    },
    {
     "data": {
      "text/plain": [
       "164"
      ]
     },
     "execution_count": 5,
     "metadata": {},
     "output_type": "execute_result"
    }
   ],
   "source": [
    "countries.count()"
   ]
  },
  {
   "cell_type": "code",
   "execution_count": 6,
   "id": "da5a2932",
   "metadata": {},
   "outputs": [
    {
     "name": "stderr",
     "output_type": "stream",
     "text": [
      "                                                                                \r"
     ]
    }
   ],
   "source": [
    "list_of_countries = countries.select([\"country\"]).distinct().collect()"
   ]
  },
  {
   "cell_type": "code",
   "execution_count": 7,
   "id": "7703013d",
   "metadata": {},
   "outputs": [
    {
     "name": "stdout",
     "output_type": "stream",
     "text": [
      "164\n"
     ]
    }
   ],
   "source": [
    "atlas_countries_list = [list_of_countries[i][\"country\"] for i in range(len(list_of_countries))]\n",
    "print(len(atlas_countries_list))"
   ]
  },
  {
   "cell_type": "markdown",
   "id": "1c34aa98",
   "metadata": {},
   "source": [
    "### Create a country_dict_df of country_name, official_name, iso3, un_region to avoid using countryguess"
   ]
  },
  {
   "cell_type": "code",
   "execution_count": 8,
   "id": "628adf07",
   "metadata": {},
   "outputs": [],
   "source": [
    "# total_countries = set(atlas_countries_list)"
   ]
  },
  {
   "cell_type": "code",
   "execution_count": 9,
   "id": "4825b7dd",
   "metadata": {},
   "outputs": [],
   "source": [
    "# country_dict_schema = types.StructType([\n",
    "#     types.StructField(\"country\", types.StringType()),\n",
    "# ])\n",
    "# rows = [Row(row) for row in total_countries]\n",
    "# country_dict_df = spark.createDataFrame(rows, schema=country_dict_schema)\n",
    "# country_dict_df = country_dict_df.withColumn(\"country_name\", get_country_name(F.col(\"country\"))).withColumn(\"country_code\", get_country_code(F.col(\"country\"))).withColumn(\"un_region\", get_country_region(F.col(\"country\")))\n",
    "# country_dict_df.show()\n",
    "# country_dict_df.write.csv(\"atlas_country_dict\", mode=\"overwrite\")"
   ]
  },
  {
   "cell_type": "markdown",
   "id": "45a28321",
   "metadata": {},
   "source": [
    "### Create fact table of countries"
   ]
  },
  {
   "cell_type": "code",
   "execution_count": 10,
   "id": "41750c51",
   "metadata": {},
   "outputs": [],
   "source": [
    "# # Need to change these functions to make use of a country_name, official_name, iso3, un_region dictionary\n",
    "# # That way I won't have to install a separate package on EMR\n",
    "# @F.udf(returnType=types.StringType())\n",
    "# def get_country_code(country):\n",
    "#     return guess_country(country)[\"iso3\"]\n",
    "\n",
    "# @F.udf(returnType=types.StringType())\n",
    "# def get_country_name(country):\n",
    "#     return guess_country(country)[\"name_official\"]\n",
    "\n",
    "# @F.udf(returnType=types.StringType())\n",
    "# def get_country_region(country):\n",
    "#     return guess_country(country)[\"unregion\"]"
   ]
  },
  {
   "cell_type": "markdown",
   "id": "fdd0bf56",
   "metadata": {},
   "source": [
    "### Read atlas_country_dict :D"
   ]
  },
  {
   "cell_type": "code",
   "execution_count": 11,
   "id": "8c09ea61",
   "metadata": {},
   "outputs": [],
   "source": [
    "countries_dict_schema = types.StructType([\n",
    "    types.StructField(\"country_dict_country\", types.StringType()),\n",
    "    types.StructField(\"country_dict_country_name\", types.StringType()),\n",
    "    types.StructField(\"country_dict_country_code\", types.StringType()),\n",
    "    types.StructField(\"country_dict_un_region\", types.StringType()),\n",
    "])\n",
    "\n",
    "countries_dict_df = spark.read.csv(\"atlas_country_dict\", schema=countries_dict_schema)"
   ]
  },
  {
   "cell_type": "code",
   "execution_count": 12,
   "id": "d4b5f230",
   "metadata": {},
   "outputs": [
    {
     "name": "stderr",
     "output_type": "stream",
     "text": [
      "                                                                                \r"
     ]
    },
    {
     "data": {
      "text/plain": [
       "164"
      ]
     },
     "execution_count": 12,
     "metadata": {},
     "output_type": "execute_result"
    }
   ],
   "source": [
    "countries_dict_df.count() # 164"
   ]
  },
  {
   "cell_type": "code",
   "execution_count": 13,
   "id": "2b517081",
   "metadata": {},
   "outputs": [],
   "source": [
    "# countries_dict_df.show()"
   ]
  },
  {
   "cell_type": "code",
   "execution_count": 14,
   "id": "352d79aa",
   "metadata": {},
   "outputs": [],
   "source": [
    "# countries_1 = countries.join(countries_dict_df.hint(\"broadcast\"), (countries[\"country\"]==countries_dict_df[\"country\"]))"
   ]
  },
  {
   "cell_type": "code",
   "execution_count": 15,
   "id": "fd1cbc17",
   "metadata": {},
   "outputs": [],
   "source": [
    "# countries_1.select([\"country_code\"]).distinct().count()"
   ]
  },
  {
   "cell_type": "code",
   "execution_count": 16,
   "id": "3d227f3c",
   "metadata": {},
   "outputs": [],
   "source": [
    "countries = countries.join(countries_dict_df.hint(\"broadcast\"), (countries[\"country\"]==countries_dict_df[\"country_dict_country\"]), how='left')"
   ]
  },
  {
   "cell_type": "code",
   "execution_count": 17,
   "id": "96b2b908",
   "metadata": {},
   "outputs": [
    {
     "name": "stderr",
     "output_type": "stream",
     "text": [
      "                                                                                \r"
     ]
    },
    {
     "data": {
      "text/plain": [
       "164"
      ]
     },
     "execution_count": 17,
     "metadata": {},
     "output_type": "execute_result"
    }
   ],
   "source": [
    "countries.count()"
   ]
  },
  {
   "cell_type": "code",
   "execution_count": 18,
   "id": "097b6731",
   "metadata": {},
   "outputs": [],
   "source": [
    "countries = countries.drop(\"country\").withColumnsRenamed({\n",
    "    \"country_dict_country\": \"country\",\n",
    "    \"country_dict_country_name\": \"country_name\",\n",
    "    \"country_dict_country_code\": \"country_code\",\n",
    "    \"country_dict_un_region\": \"un_region\"\n",
    "})"
   ]
  },
  {
   "cell_type": "code",
   "execution_count": 19,
   "id": "36fa863b",
   "metadata": {},
   "outputs": [],
   "source": [
    "atlas_countries_df = countries.select([\n",
    "    \"country_name\",\n",
    "    \"country_code\",\n",
    "    \"un_region\"\n",
    "])"
   ]
  },
  {
   "cell_type": "code",
   "execution_count": 20,
   "id": "2ced8e3d",
   "metadata": {},
   "outputs": [
    {
     "data": {
      "text/plain": [
       "164"
      ]
     },
     "execution_count": 20,
     "metadata": {},
     "output_type": "execute_result"
    }
   ],
   "source": [
    "atlas_countries_df.select([\"country_code\"]).distinct().count() # 164, checks out fine"
   ]
  },
  {
   "cell_type": "code",
   "execution_count": 106,
   "id": "12d8d31a",
   "metadata": {},
   "outputs": [
    {
     "name": "stdout",
     "output_type": "stream",
     "text": [
      "root\n",
      " |-- country_name: string (nullable = true)\n",
      " |-- country_code: string (nullable = true)\n",
      " |-- un_region: string (nullable = true)\n",
      "\n"
     ]
    }
   ],
   "source": [
    "atlas_countries_df.printSchema()"
   ]
  },
  {
   "cell_type": "code",
   "execution_count": 21,
   "id": "b89c5bc0",
   "metadata": {},
   "outputs": [],
   "source": [
    "atlas_countries_df.write.csv(output_atlas_countries_facts, mode='overwrite')"
   ]
  },
  {
   "cell_type": "markdown",
   "id": "eb3e442c",
   "metadata": {},
   "source": [
    "### Create dimension table of basic population, income_group, expenditure (CAD) and who_region"
   ]
  },
  {
   "cell_type": "code",
   "execution_count": 22,
   "id": "cb1699d0",
   "metadata": {},
   "outputs": [],
   "source": [
    "input_currency_rates = \"Datasets/rates.csv\"\n",
    "output_atlas_countries_basic_info_dims = \"Datasets/temp_atlas_outputs/atlas_countries_basic_info_dims\""
   ]
  },
  {
   "cell_type": "code",
   "execution_count": 23,
   "id": "e366f1fd",
   "metadata": {},
   "outputs": [],
   "source": [
    "atlas_countries_basic_info_df = countries.select([\n",
    "    \"country_code\",\n",
    "    \"population\",\n",
    "    \"income_group\",\n",
    "    \"expenditure($)\",\n",
    "    \"who_region\"\n",
    "])"
   ]
  },
  {
   "cell_type": "code",
   "execution_count": 24,
   "id": "02d12cce",
   "metadata": {},
   "outputs": [],
   "source": [
    "@F.udf(returnType=types.IntegerType())\n",
    "def convert_population(population):\n",
    "    if population == \"-\":\n",
    "        return None\n",
    "    if isinstance(population, type(None)):\n",
    "        return\n",
    "    if isinstance(population, int):\n",
    "        return population\n",
    "    population = population.replace(\" \", \"\").replace(\",\", \"\").replace(\", \", \"\")\n",
    "    return int(population)"
   ]
  },
  {
   "cell_type": "code",
   "execution_count": 25,
   "id": "a01921e6",
   "metadata": {},
   "outputs": [],
   "source": [
    "@F.udf(returnType=types.StringType())\n",
    "def convert_who_region(region):\n",
    "    if region == \"-\":\n",
    "        return None\n",
    "    if isinstance(region, type(None)):\n",
    "        return\n",
    "    return region.lower()"
   ]
  },
  {
   "cell_type": "code",
   "execution_count": 26,
   "id": "87575173",
   "metadata": {},
   "outputs": [],
   "source": [
    "@F.udf(returnType=types.StringType())\n",
    "def convert_income_group(val):\n",
    "    if val == \"-\":\n",
    "        return None\n",
    "    if isinstance(val, type(None)):\n",
    "        return\n",
    "    return val.lower()"
   ]
  },
  {
   "cell_type": "code",
   "execution_count": 27,
   "id": "0a5209b4",
   "metadata": {},
   "outputs": [],
   "source": [
    "atlas_countries_basic_info_df = atlas_countries_basic_info_df.withColumn(\"population\", convert_population(F.col(\"population\")))"
   ]
  },
  {
   "cell_type": "code",
   "execution_count": 28,
   "id": "7d11f41d",
   "metadata": {},
   "outputs": [],
   "source": [
    "atlas_countries_basic_info_df = atlas_countries_basic_info_df.withColumn(\"who_region\", convert_who_region(F.col(\"who_region\")))"
   ]
  },
  {
   "cell_type": "code",
   "execution_count": 29,
   "id": "078c368d",
   "metadata": {},
   "outputs": [],
   "source": [
    "atlas_countries_basic_info_df = atlas_countries_basic_info_df.withColumn(\"income_group\", convert_income_group(F.col(\"income_group\")))"
   ]
  },
  {
   "cell_type": "code",
   "execution_count": 30,
   "id": "ebd30c47",
   "metadata": {},
   "outputs": [],
   "source": [
    "import re\n",
    "\n",
    "code_pattern = r'[A-Z]{3}'\n",
    "\n",
    "@F.udf(returnType=types.StringType())\n",
    "def extract_code(value):\n",
    "    if value == \"-\":\n",
    "        return None\n",
    "    if isinstance(value, type(None)):\n",
    "        return\n",
    "    value_str = str(value).upper()\n",
    "    if re.search(code_pattern, value_str):\n",
    "        match = re.search(code_pattern, value_str)\n",
    "        if match:\n",
    "            start, end = match.span()\n",
    "            return value_str[start:end] \n",
    "        else:\n",
    "            None\n",
    "\n",
    "@F.udf(returnType=types.FloatType())\n",
    "def extract_exp(value):\n",
    "    if value == \"-\":\n",
    "        return None\n",
    "    if isinstance(value, type(None)):\n",
    "        return\n",
    "    value_str = str(value).upper()\n",
    "    if re.search(code_pattern, value_str):\n",
    "        match = re.search(code_pattern, value_str)\n",
    "        if match:\n",
    "            start, end = match.span()\n",
    "            return float(value_str[0:start-1].replace(\" \", \"\").replace(\",\", \"\").replace(\", \", \"\")) \n",
    "        else:\n",
    "            None"
   ]
  },
  {
   "cell_type": "code",
   "execution_count": 31,
   "id": "9f55e7ee",
   "metadata": {},
   "outputs": [],
   "source": [
    "atlas_countries_basic_info_df = atlas_countries_basic_info_df.withColumn(\"expenditure_amount\", extract_exp(F.col(\"expenditure($)\")))"
   ]
  },
  {
   "cell_type": "code",
   "execution_count": 32,
   "id": "b5c6b57a",
   "metadata": {},
   "outputs": [],
   "source": [
    "atlas_countries_basic_info_df = atlas_countries_basic_info_df.withColumn(\"expenditure_currency\", extract_code(F.col(\"expenditure($)\")))"
   ]
  },
  {
   "cell_type": "code",
   "execution_count": 33,
   "id": "2931207b",
   "metadata": {},
   "outputs": [],
   "source": [
    "rates_schema = types.StructType([\n",
    "    types.StructField('currency', types.StringType()),\n",
    "    types.StructField('rate', types.StringType()),\n",
    "])\n",
    "\n",
    "rates_df = spark.read.option(\"header\", True).csv(input_currency_rates, schema=rates_schema)"
   ]
  },
  {
   "cell_type": "code",
   "execution_count": 34,
   "id": "caed9615",
   "metadata": {},
   "outputs": [],
   "source": [
    "atlas_basic_info_df_currency = atlas_countries_basic_info_df.join(rates_df.hint(\"broadcast\"), (atlas_countries_basic_info_df[\"expenditure_currency\"]==rates_df[\"currency\"]), how=\"left\")"
   ]
  },
  {
   "cell_type": "code",
   "execution_count": 35,
   "id": "0c27549b",
   "metadata": {},
   "outputs": [
    {
     "name": "stderr",
     "output_type": "stream",
     "text": [
      "23/12/04 17:33:02 WARN CSVHeaderChecker: CSV header does not conform to the schema.\n",
      " Header: country, rate\n",
      " Schema: currency, rate\n",
      "Expected: currency but found: country\n",
      "CSV file: file:///Users/fayad/Documents/Canada/SFU/Term%20Fall%2023/CMPT%20732%20G1%20-%20Programming%20For%20Big%20Data/Project/Datasets/rates.csv\n",
      "                                                                                \r"
     ]
    }
   ],
   "source": [
    "rate = atlas_basic_info_df_currency.filter(atlas_basic_info_df_currency[\"expenditure_currency\"]==\"CAD\").collect()[0][\"rate\"]"
   ]
  },
  {
   "cell_type": "code",
   "execution_count": 36,
   "id": "205323df",
   "metadata": {},
   "outputs": [],
   "source": [
    "atlas_basic_info_df_currency = atlas_basic_info_df_currency.withColumn(\"expenditure_cad\", F.col(\"expenditure_amount\")/F.col(\"rate\")*rate)"
   ]
  },
  {
   "cell_type": "code",
   "execution_count": 37,
   "id": "fcbe94f7",
   "metadata": {},
   "outputs": [],
   "source": [
    "atlas_basic_info_final_df = atlas_basic_info_df_currency.select([\n",
    "    \"country_code\",\n",
    "    \"population\",\n",
    "    \"income_group\",\n",
    "    \"who_region\",\n",
    "    \"expenditure_cad\"\n",
    "])"
   ]
  },
  {
   "cell_type": "code",
   "execution_count": 107,
   "id": "2af23f8d",
   "metadata": {},
   "outputs": [
    {
     "name": "stdout",
     "output_type": "stream",
     "text": [
      "root\n",
      " |-- country_code: string (nullable = true)\n",
      " |-- population: integer (nullable = true)\n",
      " |-- income_group: string (nullable = true)\n",
      " |-- who_region: string (nullable = true)\n",
      " |-- expenditure_cad: double (nullable = true)\n",
      "\n"
     ]
    }
   ],
   "source": [
    "atlas_basic_info_final_df.printSchema()"
   ]
  },
  {
   "cell_type": "code",
   "execution_count": 39,
   "id": "154773fa",
   "metadata": {},
   "outputs": [
    {
     "name": "stderr",
     "output_type": "stream",
     "text": [
      "23/12/04 17:33:05 WARN CSVHeaderChecker: CSV header does not conform to the schema.\n",
      " Header: country, rate\n",
      " Schema: currency, rate\n",
      "Expected: currency but found: country\n",
      "CSV file: file:///Users/fayad/Documents/Canada/SFU/Term%20Fall%2023/CMPT%20732%20G1%20-%20Programming%20For%20Big%20Data/Project/Datasets/rates.csv\n"
     ]
    }
   ],
   "source": [
    "atlas_basic_info_final_df.write.csv(output_atlas_countries_basic_info_dims, mode='overwrite')"
   ]
  },
  {
   "cell_type": "code",
   "execution_count": 40,
   "id": "56a5cd3f",
   "metadata": {},
   "outputs": [
    {
     "name": "stderr",
     "output_type": "stream",
     "text": [
      "23/12/04 17:33:06 WARN CSVHeaderChecker: CSV header does not conform to the schema.\n",
      " Header: country, rate\n",
      " Schema: currency, rate\n",
      "Expected: currency but found: country\n",
      "CSV file: file:///Users/fayad/Documents/Canada/SFU/Term%20Fall%2023/CMPT%20732%20G1%20-%20Programming%20For%20Big%20Data/Project/Datasets/rates.csv\n"
     ]
    },
    {
     "name": "stdout",
     "output_type": "stream",
     "text": [
      "+------------+----------+------------+----------+---------------+\n",
      "|country_code|population|income_group|who_region|expenditure_cad|\n",
      "+------------+----------+------------+----------+---------------+\n",
      "|         AFG|      null|        null|      null|           null|\n",
      "+------------+----------+------------+----------+---------------+\n",
      "\n"
     ]
    }
   ],
   "source": [
    "atlas_basic_info_final_df.filter(atlas_basic_info_final_df[\"country_code\"]==\"AFG\").show()"
   ]
  },
  {
   "cell_type": "markdown",
   "id": "8bcc2ad6",
   "metadata": {},
   "source": [
    "### Create dimension table for SMR rates from 2013-2019"
   ]
  },
  {
   "cell_type": "code",
   "execution_count": 41,
   "id": "b4a438ea",
   "metadata": {},
   "outputs": [],
   "source": [
    "output_atlas_smr_info_dims = \"Datasets/temp_atlas_outputs/atlas_smr_info_dims\""
   ]
  },
  {
   "cell_type": "code",
   "execution_count": 42,
   "id": "126b349a",
   "metadata": {},
   "outputs": [],
   "source": [
    "smr_info_df = countries.select([\n",
    "    \"country_code\",\n",
    "    \"smr_2013\",\n",
    "    \"smr_2016\",\n",
    "    \"smr_2019\"\n",
    "])"
   ]
  },
  {
   "cell_type": "code",
   "execution_count": 43,
   "id": "7bcaecf8",
   "metadata": {},
   "outputs": [],
   "source": [
    "@F.udf(returnType=types.FloatType())\n",
    "def convert_smr(value):\n",
    "    if value == \"-\":\n",
    "        return None\n",
    "    if isinstance(value, type(None)):\n",
    "        return\n",
    "    else:\n",
    "        return float(value)"
   ]
  },
  {
   "cell_type": "code",
   "execution_count": 44,
   "id": "fd0ebb6d",
   "metadata": {},
   "outputs": [],
   "source": [
    "smr_info_df = smr_info_df.withColumn(\"suicide_mortality_rate_2013\", convert_smr(F.col(\"smr_2013\"))).withColumn(\"suicide_mortality_rate_2016\", convert_smr(F.col(\"smr_2016\"))).withColumn(\"suicide_mortality_rate_2019\", convert_smr(F.col(\"smr_2019\"))).drop(\"smr_2013\").drop(\"smr_2016\").drop(\"smr_2019\")"
   ]
  },
  {
   "cell_type": "code",
   "execution_count": 45,
   "id": "d27683ac",
   "metadata": {},
   "outputs": [
    {
     "data": {
      "text/plain": [
       "164"
      ]
     },
     "execution_count": 45,
     "metadata": {},
     "output_type": "execute_result"
    }
   ],
   "source": [
    "smr_info_df.count()"
   ]
  },
  {
   "cell_type": "code",
   "execution_count": 46,
   "id": "0a69970c",
   "metadata": {
    "scrolled": true
   },
   "outputs": [],
   "source": [
    "smr_info_df.write.csv(output_atlas_smr_info_dims, mode='overwrite')"
   ]
  },
  {
   "cell_type": "code",
   "execution_count": 47,
   "id": "8a2c52e6",
   "metadata": {},
   "outputs": [
    {
     "name": "stdout",
     "output_type": "stream",
     "text": [
      "root\n",
      " |-- country_code: string (nullable = true)\n",
      " |-- suicide_mortality_rate_2013: float (nullable = true)\n",
      " |-- suicide_mortality_rate_2016: float (nullable = true)\n",
      " |-- suicide_mortality_rate_2019: float (nullable = true)\n",
      "\n"
     ]
    }
   ],
   "source": [
    "smr_info_df.printSchema()"
   ]
  },
  {
   "cell_type": "markdown",
   "id": "a3a0e857",
   "metadata": {},
   "source": [
    "### Create dimension table for policies"
   ]
  },
  {
   "cell_type": "code",
   "execution_count": 48,
   "id": "8516fcd1",
   "metadata": {},
   "outputs": [],
   "source": [
    "output_atlas_policies_info_dims = \"Datasets/temp_atlas_outputs/atlas_policies_info_dims\""
   ]
  },
  {
   "cell_type": "code",
   "execution_count": 49,
   "id": "4a42eb2b",
   "metadata": {},
   "outputs": [],
   "source": [
    "policies_info_df = countries.select([\n",
    "    \"country_code\",\n",
    "    \"policy\",\n",
    "    \"year_policy\",\n",
    "    \"hr_resources_plan\",\n",
    "    \"finance_resources_plan\",\n",
    "    \"mh_law\",\n",
    "    \"law_year\",\n",
    "    \"dedcated_body\",\n",
    "    \"mh_child_policy\",\n",
    "    \"year_child_policy\",\n",
    "    \"mh_adolescent_policy\",\n",
    "    \"year_adolescent_policy\",\n",
    "    \"mh_suicide_prevention_policy\",\n",
    "    \"year_suicide_prevention_policy\"\n",
    "])"
   ]
  },
  {
   "cell_type": "code",
   "execution_count": 50,
   "id": "425192ad",
   "metadata": {},
   "outputs": [],
   "source": [
    "policies_info_df = policies_info_df.withColumnsRenamed({\n",
    "    \"policy\": \"mental_health_policy\",\n",
    "    \"year_policy\": \"mental_health_policy_year\",\n",
    "    \"hr_resources_plan\": \"human_resources_for_mental_health_policy\",\n",
    "    \"finance_resources_plan\": \"finance_resources_for_mental_health_policy\",\n",
    "    \"mh_law\": \"mental_health_law\",\n",
    "    \"law_year\": \"mental_health_law_year\",\n",
    "    \"dedcated_body\": \"dedicated_authority\",\n",
    "    \"mh_child_policy\": \"mental_health_child_policy\",\n",
    "    \"year_child_policy\": \"mental_health_child_policy_year\",\n",
    "    \"mh_adolescent_policy\": \"mental_health_adolescent_policy\",\n",
    "    \"year_adolescent_policy\": \"mental_health_adolescent_policy_year\",\n",
    "    \"mh_suicide_prevention_policy\": \"suicide_prevention_policy\",\n",
    "    \"year_suicide_prevention_policy\": \"suicide_prevention_policy_year\"\n",
    "})"
   ]
  },
  {
   "cell_type": "code",
   "execution_count": 51,
   "id": "f48dbeca",
   "metadata": {},
   "outputs": [],
   "source": [
    "@F.udf(returnType=types.StringType())\n",
    "def convert_dash_to_null_string(value):\n",
    "    if value == \"-\":\n",
    "        return None\n",
    "    elif isinstance(value, type(None)):\n",
    "        return\n",
    "    else:\n",
    "        return str(value)"
   ]
  },
  {
   "cell_type": "code",
   "execution_count": 52,
   "id": "0eda9348",
   "metadata": {},
   "outputs": [],
   "source": [
    "for col in policies_info_df.columns:\n",
    "    policies_info_df = policies_info_df.withColumn(col, convert_dash_to_null_string(F.col(col)))"
   ]
  },
  {
   "cell_type": "code",
   "execution_count": 53,
   "id": "8df473c1",
   "metadata": {},
   "outputs": [],
   "source": [
    "replacement_pattern = \"[\\\\n\\\\r]\"\n",
    "\n",
    "policies_info_df = policies_info_df.withColumn(\"dedicated_authority\", F.regexp_replace(\"dedicated_authority\", replacement_pattern, \" \"))"
   ]
  },
  {
   "cell_type": "code",
   "execution_count": 54,
   "id": "cd8b8e61",
   "metadata": {},
   "outputs": [],
   "source": [
    "# N - does not exist, EW - exists and functions well, EP - exists and functions poorly\n",
    "@F.udf(returnType=types.StringType())\n",
    "def convert_authority(value):\n",
    "    transformation_dictionary = {\n",
    "        'A dedicated body authority does not exist': \"N\",\n",
    "        'A dedicated authority body does  not exist': \"N\",\n",
    "        'Exist and provides regular inspections of facilities and reports at least annually': \"EW\",\n",
    "        'A dedicated body authority undertakes regular inspections, responds to complaints, and reports its findings at least once a year': \"EW\",\n",
    "        'A dedicated authority body does not exist': \"N\",\n",
    "        'A dedicated authority undertakes regular inspections,responds to complaints and reports its findings at least once a year': \"EW\",\n",
    "        'A dedicated body exists but it is not functioning well': \"EP\",\n",
    "        'exists but not fully functioning': \"EP\",\n",
    "        'A dedicated authority undertakes  irregular inspections of mental  health services and irregularly  responds to complaints of human  rights violations': \"EP\",\n",
    "        'A dedicated body does not exist': \"N\",\n",
    "        'A dedicated body undertakes irregular inspections of mental health services and irregularly responds to complaints of human rights violations': \"EP\",\n",
    "        'A dedicated authority undertakes irregular inspections of mental health services and irregularly responds to complaints of human rights violations': \"EP\",\n",
    "        'A dedicated authority body exists  but it is not functioning well': \"EP\",\n",
    "        'A dedicated authority undertakes regular inspections, responds to complaints, and reports its finding at least once a year': \"EW\",\n",
    "        'A dedicated authority undertakes regular inspections, responds to complaints, and reports its findings at least once a year': \"EW\",\n",
    "        'A dedicated authority body exists but it is not functioning well': \"EP\",\n",
    "        'A dedicated authority undertakes regular inspections, responds to complaints and reports its findings at least once a year': \"EW\",\n",
    "        'A dedicated authority undertakes  regular inspections, responds to  complaints, and reports its findings  at least once a year': \"EW\"\n",
    "    }\n",
    "    if value == \"-\":\n",
    "        return None\n",
    "    if isinstance(value, type(None)) or value in [\"N\", \"EW\", \"EP\"]:\n",
    "        return value\n",
    "    else:\n",
    "        return transformation_dictionary[value]"
   ]
  },
  {
   "cell_type": "code",
   "execution_count": 55,
   "id": "816592f6",
   "metadata": {},
   "outputs": [],
   "source": [
    "policies_info_df = policies_info_df.withColumn(\"dedicated_authority\", convert_authority(F.col(\"dedicated_authority\")))"
   ]
  },
  {
   "cell_type": "code",
   "execution_count": 56,
   "id": "c5a4ae07",
   "metadata": {},
   "outputs": [
    {
     "data": {
      "text/plain": [
       "164"
      ]
     },
     "execution_count": 56,
     "metadata": {},
     "output_type": "execute_result"
    }
   ],
   "source": [
    "policies_info_df.count()"
   ]
  },
  {
   "cell_type": "code",
   "execution_count": 57,
   "id": "d2985561",
   "metadata": {},
   "outputs": [
    {
     "name": "stdout",
     "output_type": "stream",
     "text": [
      "root\n",
      " |-- country_code: string (nullable = true)\n",
      " |-- mental_health_policy: string (nullable = true)\n",
      " |-- mental_health_policy_year: string (nullable = true)\n",
      " |-- human_resources_for_mental_health_policy: string (nullable = true)\n",
      " |-- finance_resources_for_mental_health_policy: string (nullable = true)\n",
      " |-- mental_health_law: string (nullable = true)\n",
      " |-- mental_health_law_year: string (nullable = true)\n",
      " |-- dedicated_authority: string (nullable = true)\n",
      " |-- mental_health_child_policy: string (nullable = true)\n",
      " |-- mental_health_child_policy_year: string (nullable = true)\n",
      " |-- mental_health_adolescent_policy: string (nullable = true)\n",
      " |-- mental_health_adolescent_policy_year: string (nullable = true)\n",
      " |-- suicide_prevention_policy: string (nullable = true)\n",
      " |-- suicide_prevention_policy_year: string (nullable = true)\n",
      "\n"
     ]
    }
   ],
   "source": [
    "policies_info_df.printSchema()"
   ]
  },
  {
   "cell_type": "code",
   "execution_count": 58,
   "id": "db990632",
   "metadata": {},
   "outputs": [],
   "source": [
    "policies_info_df.write.csv(output_atlas_policies_info_dims, mode='overwrite')"
   ]
  },
  {
   "cell_type": "markdown",
   "id": "53b7f0bc",
   "metadata": {},
   "source": [
    "### Create dimension table for expenditure_and_pay_methods"
   ]
  },
  {
   "cell_type": "code",
   "execution_count": 59,
   "id": "d698d3de",
   "metadata": {},
   "outputs": [],
   "source": [
    "output_atlas_exp_and_pay_info_dims = \"Datasets/temp_atlas_outputs/atlas_exp_and_pay_info_dims\""
   ]
  },
  {
   "cell_type": "code",
   "execution_count": 60,
   "id": "1d157fa6",
   "metadata": {},
   "outputs": [],
   "source": [
    "exp_and_pay_info_df = countries.select([\n",
    "    \"country_code\",\n",
    "    \"mh_expenditure\",\n",
    "    \"mh_expenditure_hospital\",\n",
    "    \"service_pay_method\",\n",
    "    \"service_pay_medication\",\n",
    "    \"mh_inclusive_schemes\"\n",
    "])"
   ]
  },
  {
   "cell_type": "code",
   "execution_count": 61,
   "id": "bce8dcef",
   "metadata": {},
   "outputs": [],
   "source": [
    "@F.udf(returnType=types.FloatType())\n",
    "def convert_dash_to_null_float(value):\n",
    "    if value == \"-\" or value == \"--\":\n",
    "        return None\n",
    "    elif isinstance(value, type(None)):\n",
    "        return\n",
    "    elif isinstance(value, float):\n",
    "        return value\n",
    "    else:\n",
    "        return float(value.replace(\" \", \"\").replace(\",\", \"\").replace(\", \", \"\"))"
   ]
  },
  {
   "cell_type": "code",
   "execution_count": 62,
   "id": "78fc8f35",
   "metadata": {},
   "outputs": [],
   "source": [
    "exp_and_pay_info_df = exp_and_pay_info_df.withColumn(\"mh_expenditure\", convert_dash_to_null_float(F.col(\"mh_expenditure\"))).withColumn(\"mh_expenditure_hospital\", convert_dash_to_null_float(F.col(\"mh_expenditure_hospital\"))).withColumn(\"mh_inclusive_schemes\", convert_dash_to_null_string(F.col(\"mh_inclusive_schemes\")))"
   ]
  },
  {
   "cell_type": "code",
   "execution_count": 63,
   "id": "247d4cb3",
   "metadata": {},
   "outputs": [],
   "source": [
    "replacement_pattern = \"[\\\\n\\\\r]\"\n",
    "\n",
    "exp_and_pay_info_df = exp_and_pay_info_df.withColumn(\"service_pay_method\", F.regexp_replace(\"service_pay_method\", replacement_pattern, \"\")).withColumn(\"service_pay_medication\", F.regexp_replace(\"service_pay_medication\", replacement_pattern, \"\"))"
   ]
  },
  {
   "cell_type": "code",
   "execution_count": 64,
   "id": "6ec535ce",
   "metadata": {},
   "outputs": [],
   "source": [
    "# FI - fully insured, 20 - at least 20% paid by individual, M - mostly paid by individual\n",
    "@F.udf(returnType=types.StringType())\n",
    "def convert_payment(value):\n",
    "    transformation_dictionary = {\n",
    "        'Persons pay nothing at the point of service use (fully insured)': \"FI\",\n",
    "        'Persons pay mostly or entirely out of pocket for services': \"M\",\n",
    "        'Persons pay mostly or entirely out of pocket medicines': \"M\",\n",
    "        'Persons pay mostly or entirely out of pocket for medicines': \"M\",\n",
    "        'Persons pay at least 20% towards the cost of services': \"20\",\n",
    "        'Persons pay at least 20% towards the cost of medicines': \"20\",\n",
    "        'Persons pay atleast 20% towards the cost of services': \"20\",\n",
    "        'nothing, fully insured': \"FI\",\n",
    "        'at least 20% paid by individual': \"20\",\n",
    "        'Persons pay nothing at the point of service use(fully insured)': \"FI\",\n",
    "        'Personds pay nothing at the point of service use(fully insured)': \"FI\",\n",
    "        'persons pay nothing at the point of service use(fully insured)': \"FI\",\n",
    "        'Personds pay nothing at the point of service use (fully insured)': \"FI\",\n",
    "        'mostly paid by individuals': \"M\"\n",
    "    }\n",
    "    if value == \"-\":\n",
    "        return None\n",
    "    if isinstance(value, type(None)) or value in [\"FI\", \"20\", \"M\"]:\n",
    "        return value\n",
    "    else:\n",
    "        return transformation_dictionary[value]"
   ]
  },
  {
   "cell_type": "code",
   "execution_count": 65,
   "id": "09fefd6d",
   "metadata": {},
   "outputs": [],
   "source": [
    "exp_and_pay_info_df = exp_and_pay_info_df.withColumn(\"service_pay_medication\", convert_payment(F.col(\"service_pay_medication\"))).withColumn(\"service_pay_method\", convert_payment(F.col(\"service_pay_method\")))"
   ]
  },
  {
   "cell_type": "code",
   "execution_count": 66,
   "id": "43fd54ee",
   "metadata": {},
   "outputs": [],
   "source": [
    "exp_and_pay_info_df = exp_and_pay_info_df.withColumnsRenamed({\n",
    "    \"mh_expenditure\": \"govt_exp_mental_health_%_budget\",\n",
    "    \"mh_hospital\": \"govt_exp_mental_health_%_hospital\",\n",
    "    \"service_pay_method\": \"pay_for_services\",\n",
    "    \"service_pay_medication\": \"pay_for_medication\",\n",
    "    \"mh_inclusive_schemes\": \"insurance_and_reimbursement_includes_mental_health\"\n",
    "})"
   ]
  },
  {
   "cell_type": "code",
   "execution_count": 67,
   "id": "35703781",
   "metadata": {},
   "outputs": [
    {
     "name": "stdout",
     "output_type": "stream",
     "text": [
      "root\n",
      " |-- country_code: string (nullable = true)\n",
      " |-- govt_exp_mental_health_%_budget: float (nullable = true)\n",
      " |-- mh_expenditure_hospital: float (nullable = true)\n",
      " |-- pay_for_services: string (nullable = true)\n",
      " |-- pay_for_medication: string (nullable = true)\n",
      " |-- insurance_and_reimbursement_includes_mental_health: string (nullable = true)\n",
      "\n"
     ]
    }
   ],
   "source": [
    "exp_and_pay_info_df.printSchema()"
   ]
  },
  {
   "cell_type": "code",
   "execution_count": 68,
   "id": "5b490a9d",
   "metadata": {},
   "outputs": [
    {
     "data": {
      "text/plain": [
       "164"
      ]
     },
     "execution_count": 68,
     "metadata": {},
     "output_type": "execute_result"
    }
   ],
   "source": [
    "exp_and_pay_info_df.count()"
   ]
  },
  {
   "cell_type": "code",
   "execution_count": 69,
   "id": "f833b323",
   "metadata": {},
   "outputs": [],
   "source": [
    "exp_and_pay_info_df.write.csv(output_atlas_exp_and_pay_info_dims, mode='overwrite')"
   ]
  },
  {
   "cell_type": "markdown",
   "id": "19269273",
   "metadata": {},
   "source": [
    "### Create dimension table for mental_health_workers from 2014-2020"
   ]
  },
  {
   "cell_type": "code",
   "execution_count": 70,
   "id": "62ef4304",
   "metadata": {},
   "outputs": [],
   "source": [
    "output_atlas_mental_health_workers_info_dims = \"Datasets/temp_atlas_outputs/atlas_mental_health_workers_info_dims\""
   ]
  },
  {
   "cell_type": "code",
   "execution_count": 71,
   "id": "105f4437",
   "metadata": {},
   "outputs": [],
   "source": [
    "mental_health_workers_info_df = countries.select([\n",
    "    \"country_code\",\n",
    "    \"no_psychiatrists\",\n",
    "    \"no_total_health_profs\",\n",
    "    \"no_psychologists\",\n",
    "    \"no_social_wrks\",\n",
    "    \"no_other_workers\",\n",
    "    \"no_total_workers\",\n",
    "    \"mh_workers_2014\",\n",
    "    \"mh_workers_2017\",\n",
    "    \"mh_workers_2020\",\n",
    "    \"mh_workers_psych\",\n",
    "    \"mh_workers_all\"\n",
    "])"
   ]
  },
  {
   "cell_type": "code",
   "execution_count": 72,
   "id": "5d1cae65",
   "metadata": {},
   "outputs": [],
   "source": [
    "for col in mental_health_workers_info_df.columns:\n",
    "    if col == \"country_code\":\n",
    "        continue\n",
    "    mental_health_workers_info_df = mental_health_workers_info_df.withColumn(col, convert_dash_to_null_float(F.col(col)))"
   ]
  },
  {
   "cell_type": "code",
   "execution_count": 73,
   "id": "b5b24524",
   "metadata": {},
   "outputs": [],
   "source": [
    "# mental_health_workers_info_df = mental_health_workers_info_df.withColumn(\"no_psychiatrists\", convert_dash_to_null_float(F.col(\"no_psychiatrists\"))).withColumn(\"no_total_health_profs\", convert_dash_to_null_float(F.col(\"no_total_health_profs\"))).withColumn(\"no_psychologists\", convert_dash_to_null_float(F.col(\"no_psychologists\"))).withColumn(\"no_social_wrks\", convert_dash_to_null_float(F.col(\"no_social_wrks\"))).withColumn(\"no_other_workers\", convert_dash_to_null_float(F.col(\"no_other_workers\"))).withColumn(\"no_total_workers\", convert_dash_to_null_float(F.col(\"no_total_workers\"))).withColumn(\"mh_workers_psych\", convert_dash_to_null_float(F.col(\"mh_workers_psych\"))).withColumn(\"mh_workers_all\", convert_dash_to_null_float(F.col(\"mh_workers_all\"))).withColumn(\"mh_workers_2014\", convert_dash_to_null_float(F.col(\"mh_workers_2014\"))).withColumn(\"mh_workers_2017\", convert_dash_to_null_float(F.col(\"mh_workers_2017\"))).withColumn(\"mh_workers_2020\", convert_dash_to_null_float(F.col(\"mh_workers_2020\")))"
   ]
  },
  {
   "cell_type": "code",
   "execution_count": 74,
   "id": "35ead3e0",
   "metadata": {},
   "outputs": [],
   "source": [
    "mental_health_workers_info_df = mental_health_workers_info_df.withColumnsRenamed({\n",
    "    \"no_psychiatrists\": \"num_psychiatrists\",\n",
    "    \"no_total_health_profs\": \"num_nurses\",\n",
    "    \"no_psychologists\": \"num_psychologists\",\n",
    "    \"no_social_wrks\": \"num_social_workers\",\n",
    "    \"no_other_workers\": \"num_other_specialized_workers\",\n",
    "    \"no_total_workers\": \"num_total_mental_health_workers\",\n",
    "    \"mh_workers_2014\": \"num_total_mental_health_workers_2014\",\n",
    "    \"mh_workers_2017\": \"num_total_mental_health_workers_2017\",\n",
    "    \"mh_workers_2020\": \"num_total_mental_health_workers_2020\",\n",
    "    \"mh_workers_psych\": \"num_child_psychiatrists\",\n",
    "    \"mh_workers_all\": \"num_child_mental_health_workers\"\n",
    "})"
   ]
  },
  {
   "cell_type": "code",
   "execution_count": 75,
   "id": "f3bbf33c",
   "metadata": {},
   "outputs": [
    {
     "name": "stdout",
     "output_type": "stream",
     "text": [
      "root\n",
      " |-- country_code: string (nullable = true)\n",
      " |-- num_psychiatrists: float (nullable = true)\n",
      " |-- num_nurses: float (nullable = true)\n",
      " |-- num_psychologists: float (nullable = true)\n",
      " |-- num_social_workers: float (nullable = true)\n",
      " |-- num_other_specialized_workers: float (nullable = true)\n",
      " |-- num_total_mental_health_workers: float (nullable = true)\n",
      " |-- num_total_mental_health_workers_2014: float (nullable = true)\n",
      " |-- num_total_mental_health_workers_2017: float (nullable = true)\n",
      " |-- num_total_mental_health_workers_2020: float (nullable = true)\n",
      " |-- num_child_psychiatrists: float (nullable = true)\n",
      " |-- num_child_mental_health_workers: float (nullable = true)\n",
      "\n"
     ]
    }
   ],
   "source": [
    "mental_health_workers_info_df.printSchema()"
   ]
  },
  {
   "cell_type": "code",
   "execution_count": 76,
   "id": "3b0f5ce6",
   "metadata": {},
   "outputs": [],
   "source": [
    "mental_health_workers_info_df.write.csv(output_atlas_mental_health_workers_info_dims, mode=\"overwrite\")"
   ]
  },
  {
   "cell_type": "markdown",
   "id": "4c76c9c3",
   "metadata": {},
   "source": [
    "### Create dimension table for patient_admission_stats from 2014-2020"
   ]
  },
  {
   "cell_type": "code",
   "execution_count": 77,
   "id": "d6bb14a1",
   "metadata": {},
   "outputs": [],
   "source": [
    "output_atlas_patient_admission_info_dims = \"Datasets/temp_atlas_outputs/atlas_patient_admission_info_dims\""
   ]
  },
  {
   "cell_type": "code",
   "execution_count": 78,
   "id": "2e8a3a57",
   "metadata": {},
   "outputs": [],
   "source": [
    "patient_admissions_info_df = countries.select([\n",
    "    \"country_code\",\n",
    "    \"ip_adm_2014\",\n",
    "    \"ip_adm_2017\",\n",
    "    \"ip_adm_2020\",\n",
    "    \"op_adm_2014\",\n",
    "    \"op_adm_2017\",\n",
    "    \"op_adm_2020\",\n",
    "    \"ca_services_2014\",\n",
    "    \"ca_services_2017\",\n",
    "    \"ca_services_2020\",\n",
    "    \"hosp_facilities_vists\",\n",
    "    \"non_hosp_facilities_visits\",\n",
    "    \"other_facilities_vists\",\n",
    "    \"op_facilities_ca_visits\",\n",
    "    \"mh_annual\",\n",
    "    \"psych_admission\",\n",
    "    \"community_admissions\",\n",
    "    \"ca_adminssions\",\n",
    "    \"mh_hosps_total_adm\",\n",
    "    \"involuntary_adms\",\n",
    "    \"follow_up\",\n",
    "    \"ip_lt_1yr\",\n",
    "    \"ip_1_5\",\n",
    "    \"ip_gt_5\",\n",
    "    \"ip_timely_servies\",\n",
    "    \"total_pshycosis\",\n",
    "    \"total_pshycosis_male\",\n",
    "    \"total_pshycosis_female\"\n",
    "])"
   ]
  },
  {
   "cell_type": "code",
   "execution_count": 79,
   "id": "bbd79ec0",
   "metadata": {},
   "outputs": [],
   "source": [
    "for col in patient_admissions_info_df.columns:\n",
    "    if col == \"country_code\" or col == \"follow_up\" or col == \"ip_timely_servies\":\n",
    "        continue\n",
    "    patient_admissions_info_df = patient_admissions_info_df.withColumn(col, convert_dash_to_null_float(F.col(col)))"
   ]
  },
  {
   "cell_type": "code",
   "execution_count": 80,
   "id": "bb2c7136",
   "metadata": {},
   "outputs": [],
   "source": [
    "# patient_admissions_info_df = patient_admissions_info_df.withColumn(\"ip_adm_2014\", convert_dash_to_null_float(F.col(\"ip_adm_2014\"))).withColumn(\"ip_adm_2017\", convert_dash_to_null_float(F.col(\"ip_adm_2017\"))).withColumn(\"ip_adm_2020\", convert_dash_to_null_float(F.col(\"ip_adm_2020\"))).withColumn(\"op_adm_2014\", convert_dash_to_null_float(F.col(\"op_adm_2014\"))).withColumn(\"op_adm_2017\", convert_dash_to_null_float(F.col(\"op_adm_2017\"))).withColumn(\"op_adm_2020\", convert_dash_to_null_float(F.col(\"op_adm_2020\"))).withColumn(\"ca_services_2014\", convert_dash_to_null_float(F.col(\"ca_services_2014\"))).withColumn(\"ca_services_2017\", convert_dash_to_null_float(F.col(\"ca_services_2017\"))).withColumn(\"ca_services_2020\", convert_dash_to_null_float(F.col(\"ca_services_2020\"))).withColumn(\"hosp_facilities_vists\", convert_dash_to_null_float(F.col(\"hosp_facilities_vists\"))).withColumn(\"non_hosp_facilities_visits\", convert_dash_to_null_float(F.col(\"non_hosp_facilities_visits\"))).withColumn(\"other_facilities_vists\", convert_dash_to_null_float(F.col(\"other_facilities_vists\"))).withColumn(\"op_facilities_ca_visits\", convert_dash_to_null_float(F.col(\"op_facilities_ca_visits\"))).withColumn(\"mh_annual\", convert_dash_to_null_float(F.col(\"mh_annual\"))).withColumn(\"psych_admission\", convert_dash_to_null_float(F.col(\"psych_admission\"))).withColumn(\"community_admissions\", convert_dash_to_null_float(F.col(\"community_admissions\"))).withColumn(\"ca_adminssions\", convert_dash_to_null_float(F.col(\"ca_adminssions\"))).withColumn(\"mh_hosps_total_adm\", convert_dash_to_null_float(F.col(\"mh_hosps_total_adm\"))).withColumn(\"involuntary_adms\", convert_dash_to_null_float(F.col(\"involuntary_adms\"))).withColumn(\"ip_lt_1yr\", convert_dash_to_null_float(F.col(\"ip_lt_1yr\"))).withColumn(\"ip_1_5\", convert_dash_to_null_float(F.col(\"ip_1_5\"))).withColumn(\"ip_gt_5\", convert_dash_to_null_float(F.col(\"ip_gt_5\"))).withColumn(\"total_pshycosis\", convert_dash_to_null_float(F.col(\"total_pshycosis\"))).withColumn(\"total_pshycosis_male\", convert_dash_to_null_float(F.col(\"total_pshycosis_male\"))).withColumn(\"total_pshycosis_female\", convert_dash_to_null_float(F.col(\"total_pshycosis_female\")))"
   ]
  },
  {
   "cell_type": "code",
   "execution_count": 81,
   "id": "5a209699",
   "metadata": {},
   "outputs": [],
   "source": [
    "@F.udf(returnType=types.FloatType())\n",
    "def convert_percentage_to_category_float(value):\n",
    "    transformation_dictionary = {\n",
    "        \"less-25\": 1,\n",
    "        \"25-less\": 1,\n",
    "        \"25\": 1,\n",
    "        \"26-50\": 2,\n",
    "        \"51-75\": 3,\n",
    "        \"more-75\": 4,\n",
    "        \"More-75\": 4\n",
    "    }\n",
    "    if value == \"-\" or value == \"--\":\n",
    "        return None\n",
    "    elif isinstance(value, type(None)):\n",
    "        return\n",
    "    elif isinstance(value, float):\n",
    "        return value\n",
    "    else:\n",
    "        return float(transformation_dictionary[value])"
   ]
  },
  {
   "cell_type": "code",
   "execution_count": 82,
   "id": "36ce93ef",
   "metadata": {},
   "outputs": [],
   "source": [
    "patient_admissions_info_df = patient_admissions_info_df.withColumn(\"follow_up\", convert_percentage_to_category_float(F.col(\"follow_up\"))).withColumn(\"ip_timely_servies\", convert_percentage_to_category_float(F.col(\"ip_timely_servies\")))"
   ]
  },
  {
   "cell_type": "code",
   "execution_count": 83,
   "id": "a8bcd58c",
   "metadata": {},
   "outputs": [],
   "source": [
    "patient_admissions_info_df = patient_admissions_info_df.withColumnsRenamed({\n",
    "    \"ip_adm_2014\": \"inpatient_admissions_2014\",\n",
    "    \"ip_adm_2017\": \"inpatient_admissions_2017\",\n",
    "    \"ip_adm_2020\": \"inpatient_admissions_2020\",\n",
    "    \"op_adm_2014\": \"outpatient_admissions_2014\",\n",
    "    \"op_adm_2017\": \"outpatient_admissions_2017\",\n",
    "    \"op_adm_2020\": \"outpatient_admissions_2020\",\n",
    "    \"ca_services_2014\": \"community_based_mental_health_services_2014\",\n",
    "    \"ca_services_2017\": \"community_based_mental_health_services_2017\",\n",
    "    \"ca_services_2020\": \"community_based_mental_health_services_2020\",\n",
    "    \"hosp_facilities_vists\": \"hospital_attached_facilities_visits\",\n",
    "    \"non_hosp_facilities_visits\": \"non_hospital_attached_facilities_visits\",\n",
    "    \"op_facilities_ca_visits\": \"children_specific_facilities_visits\",\n",
    "    \"other_facilities_vists\": \"other_facilities_visits\",\n",
    "    \"mh_annual\": \"annual_mental_hospital_admissions\",\n",
    "    \"involuntary_adms\": \"total_involuntary_admissions\",\n",
    "    \"follow_up\": \"follow_up_post_discharge\",\n",
    "    \"ip_lt_1yr\": \"inpatients_staying_less_1_year\",\n",
    "    \"ip_1_5\": \"inpatients_staying_1_5_year\",\n",
    "    \"ip_gt_5\": \"inpatients_staying_more_5_year\",\n",
    "    \"ip_timely_servies\": \"received_timely_services\",\n",
    "    \"total_pshycosis\": \"total_psychosis\",\n",
    "    \"total_pshycosis_male\": \"total_psychosis_male\",\n",
    "    \"total_pshycosis_female\": \"total_psychosis_female\",\n",
    "})"
   ]
  },
  {
   "cell_type": "code",
   "execution_count": 84,
   "id": "da43842e",
   "metadata": {},
   "outputs": [
    {
     "name": "stdout",
     "output_type": "stream",
     "text": [
      "root\n",
      " |-- country_code: string (nullable = true)\n",
      " |-- inpatient_admissions_2014: float (nullable = true)\n",
      " |-- inpatient_admissions_2017: float (nullable = true)\n",
      " |-- inpatient_admissions_2020: float (nullable = true)\n",
      " |-- outpatient_admissions_2014: float (nullable = true)\n",
      " |-- outpatient_admissions_2017: float (nullable = true)\n",
      " |-- outpatient_admissions_2020: float (nullable = true)\n",
      " |-- community_based_mental_health_services_2014: float (nullable = true)\n",
      " |-- community_based_mental_health_services_2017: float (nullable = true)\n",
      " |-- community_based_mental_health_services_2020: float (nullable = true)\n",
      " |-- hospital_attached_facilities_visits: float (nullable = true)\n",
      " |-- non_hospital_attached_facilities_visits: float (nullable = true)\n",
      " |-- other_facilities_visits: float (nullable = true)\n",
      " |-- children_specific_facilities_visits: float (nullable = true)\n",
      " |-- annual_mental_hospital_admissions: float (nullable = true)\n",
      " |-- psych_admission: float (nullable = true)\n",
      " |-- community_admissions: float (nullable = true)\n",
      " |-- ca_adminssions: float (nullable = true)\n",
      " |-- mh_hosps_total_adm: float (nullable = true)\n",
      " |-- total_involuntary_admissions: float (nullable = true)\n",
      " |-- follow_up_post_discharge: float (nullable = true)\n",
      " |-- inpatients_staying_less_1_year: float (nullable = true)\n",
      " |-- inpatients_staying_1_5_year: float (nullable = true)\n",
      " |-- inpatients_staying_more_5_year: float (nullable = true)\n",
      " |-- received_timely_services: float (nullable = true)\n",
      " |-- total_psychosis: float (nullable = true)\n",
      " |-- total_psychosis_male: float (nullable = true)\n",
      " |-- total_psychosis_female: float (nullable = true)\n",
      "\n"
     ]
    }
   ],
   "source": [
    "patient_admissions_info_df.printSchema()"
   ]
  },
  {
   "cell_type": "code",
   "execution_count": 85,
   "id": "e2b09123",
   "metadata": {},
   "outputs": [
    {
     "name": "stderr",
     "output_type": "stream",
     "text": [
      "23/12/04 17:33:13 WARN package: Truncated the string representation of a plan since it was too large. This behavior can be adjusted by setting 'spark.sql.debug.maxToStringFields'.\n"
     ]
    }
   ],
   "source": [
    "patient_admissions_info_df.write.csv(output_atlas_patient_admission_info_dims, mode=\"overwrite\")"
   ]
  },
  {
   "cell_type": "markdown",
   "id": "c2b75ae3",
   "metadata": {},
   "source": [
    "### Create dimension table for mental_health_facilities"
   ]
  },
  {
   "cell_type": "code",
   "execution_count": 86,
   "id": "81b62ec4",
   "metadata": {},
   "outputs": [],
   "source": [
    "output_atlas_mental_health_facilities_info_dims = \"Datasets/temp_atlas_outputs/atlas_mental_health_facilities_info_dims\""
   ]
  },
  {
   "cell_type": "code",
   "execution_count": 87,
   "id": "650a904d",
   "metadata": {},
   "outputs": [],
   "source": [
    "atlas_mental_health_facilities_info_df = countries.select([\n",
    "    \"country_code\",\n",
    "    \"mh_op_facilities_hosp\",\n",
    "    \"non_hosp_op_facilities\",\n",
    "    \"other_op_facilities\",\n",
    "    \"op_facilities_ca\",\n",
    "    \"ip_hosp\",\n",
    "    \"ip_psych\",\n",
    "    \"ip_community\",\n",
    "    \"ip_ca\",\n",
    "    \"mh_beds\",\n",
    "    \"psych_bed\",\n",
    "    \"community_beds\",\n",
    "    \"caa_beds\",\n",
    "    \"total_comm_facilities\"\n",
    "])"
   ]
  },
  {
   "cell_type": "code",
   "execution_count": 88,
   "id": "c7c38d0e",
   "metadata": {},
   "outputs": [],
   "source": [
    "for col in atlas_mental_health_facilities_info_df.columns:\n",
    "    if col == \"country_code\":\n",
    "        continue\n",
    "    atlas_mental_health_facilities_info_df = atlas_mental_health_facilities_info_df.withColumn(col, convert_dash_to_null_float(F.col(col)))"
   ]
  },
  {
   "cell_type": "code",
   "execution_count": 89,
   "id": "1b1e99f1",
   "metadata": {},
   "outputs": [],
   "source": [
    "# atlas_mental_health_facilities_info_df = atlas_mental_health_facilities_info_df.withColumn(\"mh_op_facilities_hosp\", convert_dash_to_null_float(F.col(\"mh_op_facilities_hosp\"))).withColumn(\"non_hosp_op_facilities\", convert_dash_to_null_float(F.col(\"non_hosp_op_facilities\"))).withColumn(\"other_op_facilities\", convert_dash_to_null_float(F.col(\"other_op_facilities\"))).withColumn(\"op_facilities_ca\", convert_dash_to_null_float(F.col(\"op_facilities_ca\"))).withColumn(\"ip_hosp\", convert_dash_to_null_float(F.col(\"ip_hosp\"))).withColumn(\"ip_psych\", convert_dash_to_null_float(F.col(\"ip_psych\"))).withColumn(\"ip_community\", convert_dash_to_null_float(F.col(\"ip_community\"))).withColumn(\"ip_ca\", convert_dash_to_null_float(F.col(\"ip_ca\"))).withColumn(\"mh_beds\", convert_dash_to_null_float(F.col(\"mh_beds\"))).withColumn(\"psych_bed\", convert_dash_to_null_float(F.col(\"psych_bed\"))).withColumn(\"community_beds\", convert_dash_to_null_float(F.col(\"community_beds\"))).withColumn(\"caa_beds\", convert_dash_to_null_float(F.col(\"caa_beds\"))).withColumn(\"total_comm_facilities\", convert_dash_to_null_float(F.col(\"total_comm_facilities\")))"
   ]
  },
  {
   "cell_type": "code",
   "execution_count": 90,
   "id": "cd773d7f",
   "metadata": {},
   "outputs": [],
   "source": [
    "atlas_mental_health_facilities_info_df = atlas_mental_health_facilities_info_df.withColumnsRenamed({\n",
    "    \"mh_op_facilities_hosp\": \"outpatient_facilities_attached_to_hospitals\",\n",
    "    \"non_hosp_op_facilities\": \"outpatient_facilities_not_attached_to_hospitals\",\n",
    "    \"other_op_facilities\": \"other_outpatient_facilities\",\n",
    "    \"op_facilities_ca\": \"children_specific_outpatient_facilities\",\n",
    "    \"ip_hosp\": \"inpatient_hospitals\",\n",
    "    \"ip_psych\": \"inpatient_psychiatric_units\",\n",
    "    \"ip_community\": \"community_residential_facilities\",\n",
    "    \"ip_ca\": \"children_specific_inpatient_facilities\",\n",
    "    \"mh_beds\": \"mental_hospital_beds\",\n",
    "    \"psych_beds\": \"psychiatric_beds\",\n",
    "    \"community_beds\": \"community_beds\",\n",
    "    \"caa_beds\": \"children_specific_beds\",\n",
    "    \"total_comm_facilities\": \"total_community_facilities\"\n",
    "})"
   ]
  },
  {
   "cell_type": "code",
   "execution_count": 91,
   "id": "8ba4c097",
   "metadata": {},
   "outputs": [
    {
     "name": "stdout",
     "output_type": "stream",
     "text": [
      "root\n",
      " |-- country_code: string (nullable = true)\n",
      " |-- outpatient_facilities_attached_to_hospitals: float (nullable = true)\n",
      " |-- outpatient_facilities_not_attached_to_hospitals: float (nullable = true)\n",
      " |-- other_outpatient_facilities: float (nullable = true)\n",
      " |-- children_specific_outpatient_facilities: float (nullable = true)\n",
      " |-- inpatient_hospitals: float (nullable = true)\n",
      " |-- inpatient_psychiatric_units: float (nullable = true)\n",
      " |-- community_residential_facilities: float (nullable = true)\n",
      " |-- children_specific_inpatient_facilities: float (nullable = true)\n",
      " |-- mental_hospital_beds: float (nullable = true)\n",
      " |-- psych_bed: float (nullable = true)\n",
      " |-- community_beds: float (nullable = true)\n",
      " |-- children_specific_beds: float (nullable = true)\n",
      " |-- total_community_facilities: float (nullable = true)\n",
      "\n"
     ]
    }
   ],
   "source": [
    "atlas_mental_health_facilities_info_df.printSchema()"
   ]
  },
  {
   "cell_type": "code",
   "execution_count": 92,
   "id": "0f5a60f9",
   "metadata": {},
   "outputs": [],
   "source": [
    "atlas_mental_health_facilities_info_df.write.csv(output_atlas_mental_health_facilities_info_dims, mode=\"overwrite\")"
   ]
  },
  {
   "cell_type": "markdown",
   "id": "357410b6",
   "metadata": {},
   "source": [
    "### Create dimensions table for programs"
   ]
  },
  {
   "cell_type": "code",
   "execution_count": 93,
   "id": "b960c704",
   "metadata": {},
   "outputs": [],
   "source": [
    "input_mhdb_tables = \"Datasets/MH Database - Table Combined.csv\"\n",
    "output_atlas_countries_programs_info_dims = \"Datasets/temp_atlas_outputs/atlas_countries_programs_info_dims\""
   ]
  },
  {
   "cell_type": "code",
   "execution_count": 94,
   "id": "b04deab6",
   "metadata": {},
   "outputs": [],
   "source": [
    "atlas_countries_programs_info_df = spark.read.option(\"header\", True).option(\"multiline\", \"true\").csv(input_mhdb_tables)"
   ]
  },
  {
   "cell_type": "code",
   "execution_count": 95,
   "id": "55941625",
   "metadata": {},
   "outputs": [
    {
     "data": {
      "text/plain": [
       "164"
      ]
     },
     "execution_count": 95,
     "metadata": {},
     "output_type": "execute_result"
    }
   ],
   "source": [
    "atlas_countries_programs_info_df.select([\"Country\"]).distinct().count()"
   ]
  },
  {
   "cell_type": "code",
   "execution_count": 96,
   "id": "1f491763",
   "metadata": {},
   "outputs": [],
   "source": [
    "atlas_countries_programs_info_df = atlas_countries_programs_info_df.join(countries_dict_df.hint(\"broadcast\"), (atlas_countries_programs_info_df[\"Country\"]==countries_dict_df[\"country_dict_country\"]), how=\"left\")"
   ]
  },
  {
   "cell_type": "code",
   "execution_count": 97,
   "id": "d0356780",
   "metadata": {},
   "outputs": [
    {
     "data": {
      "text/plain": [
       "164"
      ]
     },
     "execution_count": 97,
     "metadata": {},
     "output_type": "execute_result"
    }
   ],
   "source": [
    "atlas_countries_programs_info_df.select([\"country_dict_country_name\"]).count()"
   ]
  },
  {
   "cell_type": "code",
   "execution_count": 98,
   "id": "a8638d91",
   "metadata": {},
   "outputs": [
    {
     "name": "stdout",
     "output_type": "stream",
     "text": [
      "root\n",
      " |-- Country: string (nullable = true)\n",
      " |-- Suicide prevention programme: string (nullable = true)\n",
      " |-- Mental Health Awareness /Anti- stigma: string (nullable = true)\n",
      " |-- Early Child Development: string (nullable = true)\n",
      " |-- School based mental health prevention and promotion: string (nullable = true)\n",
      " |-- Parental / Maternal mental health promotion and prevention: string (nullable = true)\n",
      " |-- Work-related mental health prevention and promotion: string (nullable = true)\n",
      " |-- Mental health and psychosocial component of disaster preparedness, disaster risk reduction: string (nullable = true)\n",
      " |-- country_dict_country: string (nullable = true)\n",
      " |-- country_dict_country_name: string (nullable = true)\n",
      " |-- country_dict_country_code: string (nullable = true)\n",
      " |-- country_dict_un_region: string (nullable = true)\n",
      "\n"
     ]
    }
   ],
   "source": [
    "atlas_countries_programs_info_df.printSchema()"
   ]
  },
  {
   "cell_type": "code",
   "execution_count": 99,
   "id": "6cc0097b",
   "metadata": {},
   "outputs": [],
   "source": [
    "atlas_countries_programs_info_df = atlas_countries_programs_info_df.drop(\"Country\").drop(\"country_dict_country\").drop(\"country_dict_country_name\").drop(\"country_dict_un_region\").withColumnsRenamed({\n",
    "    \"Suicide prevention programme\": \"suicide_prevention_program\",\n",
    "    \"Mental Health Awareness /Anti- stigma\": \"awareness_anti_stigma_program\",\n",
    "    \"Early Child Development\": \"early_child_development_program\",\n",
    "    \"School based mental health prevention and promotion\": \"school_based_program\",\n",
    "    \"Parental / Maternal mental health promotion and prevention\": \"parental_health_program\",\n",
    "    \"Work-related mental health prevention and promotion\": \"work_related_program\",\n",
    "    \"Mental health and psychosocial component of disaster preparedness, disaster risk reduction\": \"disaster_preparation_program\",\n",
    "    \"country_dict_country_code\": \"country_code\",\n",
    "})"
   ]
  },
  {
   "cell_type": "code",
   "execution_count": 100,
   "id": "5a53a55a",
   "metadata": {},
   "outputs": [],
   "source": [
    "@F.udf(returnType=types.StringType())\n",
    "def convert_dash_to_null_table_string(value):\n",
    "    if value == \"-\" or value == \"-,-,-,-\" or value == \"??\":\n",
    "        return None\n",
    "    elif isinstance(value, type(None)):\n",
    "        return\n",
    "    else:\n",
    "        return value"
   ]
  },
  {
   "cell_type": "code",
   "execution_count": 101,
   "id": "a81cc3f4",
   "metadata": {},
   "outputs": [],
   "source": [
    "for col in atlas_countries_programs_info_df.columns:\n",
    "    if col == \"country_code\":\n",
    "        continue\n",
    "    atlas_countries_programs_info_df = atlas_countries_programs_info_df.withColumn(col, convert_dash_to_null_table_string(F.col(col)))"
   ]
  },
  {
   "cell_type": "code",
   "execution_count": 102,
   "id": "d77355a6",
   "metadata": {},
   "outputs": [],
   "source": [
    "atlas_countries_programs_info_df = atlas_countries_programs_info_df.withColumn(\"suicide_prevention_program\", convert_dash_to_null_table_string(F.col(\"suicide_prevention_program\"))).withColumn(\"awareness_anti_stigma_program\", convert_dash_to_null_table_string(F.col(\"awareness_anti_stigma_program\"))).withColumn(\"early_child_development_program\", convert_dash_to_null_table_string(F.col(\"early_child_development_program\"))).withColumn(\"school_based_program\", convert_dash_to_null_table_string(F.col(\"school_based_program\"))).withColumn(\"parental_health_program\", convert_dash_to_null_table_string(F.col(\"parental_health_program\"))).withColumn(\"work_related_program\", convert_dash_to_null_table_string(F.col(\"work_related_program\"))).withColumn(\"disaster_preparation_program\", convert_dash_to_null_table_string(F.col(\"disaster_preparation_program\")))"
   ]
  },
  {
   "cell_type": "code",
   "execution_count": 105,
   "id": "574c1239",
   "metadata": {},
   "outputs": [
    {
     "name": "stdout",
     "output_type": "stream",
     "text": [
      "root\n",
      " |-- suicide_prevention_program: string (nullable = true)\n",
      " |-- awareness_anti_stigma_program: string (nullable = true)\n",
      " |-- early_child_development_program: string (nullable = true)\n",
      " |-- school_based_program: string (nullable = true)\n",
      " |-- parental_health_program: string (nullable = true)\n",
      " |-- work_related_program: string (nullable = true)\n",
      " |-- disaster_preparation_program: string (nullable = true)\n",
      " |-- country_code: string (nullable = true)\n",
      "\n"
     ]
    }
   ],
   "source": [
    "atlas_countries_programs_info_df.printSchema()"
   ]
  },
  {
   "cell_type": "code",
   "execution_count": 104,
   "id": "e51e6a15",
   "metadata": {},
   "outputs": [],
   "source": [
    "atlas_countries_programs_info_df.write.csv(output_atlas_countries_programs_info_dims, mode=\"overwrite\")"
   ]
  }
 ],
 "metadata": {
  "kernelspec": {
   "display_name": "Python 3 (ipykernel)",
   "language": "python",
   "name": "python3"
  },
  "language_info": {
   "codemirror_mode": {
    "name": "ipython",
    "version": 3
   },
   "file_extension": ".py",
   "mimetype": "text/x-python",
   "name": "python",
   "nbconvert_exporter": "python",
   "pygments_lexer": "ipython3",
   "version": "3.8.15"
  }
 },
 "nbformat": 4,
 "nbformat_minor": 5
}
