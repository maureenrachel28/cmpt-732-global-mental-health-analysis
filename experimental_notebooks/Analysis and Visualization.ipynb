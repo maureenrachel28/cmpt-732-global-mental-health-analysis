{
 "cells": [
  {
   "cell_type": "code",
   "execution_count": 1,
   "id": "8a835a92",
   "metadata": {},
   "outputs": [
    {
     "name": "stderr",
     "output_type": "stream",
     "text": [
      "Setting default log level to \"WARN\".\n",
      "To adjust logging level use sc.setLogLevel(newLevel). For SparkR, use setLogLevel(newLevel).\n",
      "23/12/05 23:40:54 WARN NativeCodeLoader: Unable to load native-hadoop library for your platform... using builtin-java classes where applicable\n"
     ]
    }
   ],
   "source": [
    "import os\n",
    "from pyspark.sql import SparkSession, types\n",
    "from pyspark.sql import functions as F\n",
    "from pyspark.sql import Row\n",
    "\n",
    "spark = SparkSession.builder.getOrCreate()"
   ]
  },
  {
   "cell_type": "code",
   "execution_count": 2,
   "id": "66d74803",
   "metadata": {},
   "outputs": [],
   "source": [
    "import plotly.express as px\n",
    "import plotly.graph_objs as go\n",
    "from plotly.subplots import make_subplots\n",
    "import pandas as pd"
   ]
  },
  {
   "cell_type": "code",
   "execution_count": 3,
   "id": "99b9ec4c",
   "metadata": {},
   "outputs": [],
   "source": [
    "def save_pandas_csv(df, location, filename):\n",
    "    df.to_csv(location + \"/\" + filename + '.csv', index=False)"
   ]
  },
  {
   "cell_type": "markdown",
   "id": "b21993ec",
   "metadata": {},
   "source": [
    "#### Analysis bits"
   ]
  },
  {
   "cell_type": "code",
   "execution_count": 4,
   "id": "5e74cb51",
   "metadata": {},
   "outputs": [],
   "source": [
    "# MHDD schema\n",
    "mhdd_schema = types.StructType([\n",
    "    types.StructField(\"country_name\", types.StringType()),\n",
    "    types.StructField(\"country_code\", types.StringType()),\n",
    "    types.StructField(\"un_region\", types.StringType()),\n",
    "    types.StructField(\"year\", types.IntegerType()),\n",
    "    types.StructField(\"schizophrenia_%\", types.FloatType()),\n",
    "    types.StructField(\"bipolar_disorder_%\", types.FloatType()),\n",
    "    types.StructField(\"eating_disorders_%\", types.FloatType()),\n",
    "    types.StructField(\"anxiety_disorders_%\", types.FloatType()),\n",
    "    types.StructField(\"drug_use_disorders_%\", types.FloatType()),\n",
    "    types.StructField(\"depression_%\", types.FloatType()),\n",
    "    types.StructField(\"alcohol_use_disorders_%\", types.FloatType()),\n",
    "])"
   ]
  },
  {
   "cell_type": "code",
   "execution_count": 5,
   "id": "7e3e22ca",
   "metadata": {},
   "outputs": [
    {
     "data": {
      "text/plain": [
       "DataFrame[country_name: string, country_code: string, un_region: string, year: int, schizophrenia_%: float, bipolar_disorder_%: float, eating_disorders_%: float, anxiety_disorders_%: float, drug_use_disorders_%: float, depression_%: float, alcohol_use_disorders_%: float]"
      ]
     },
     "execution_count": 5,
     "metadata": {},
     "output_type": "execute_result"
    }
   ],
   "source": [
    "# Load MHDD dataset\n",
    "mhdd_df = spark.read.option(\"multiline\", \"true\").csv(\"datasets_output/gmh_fact_dims/mhdd\", schema=mhdd_schema)\n",
    "mhdd_df.cache()"
   ]
  },
  {
   "cell_type": "code",
   "execution_count": 6,
   "id": "6b6cfb41",
   "metadata": {},
   "outputs": [
    {
     "name": "stderr",
     "output_type": "stream",
     "text": [
      "                                                                                \r"
     ]
    },
    {
     "data": {
      "text/plain": [
       "4424"
      ]
     },
     "execution_count": 6,
     "metadata": {},
     "output_type": "execute_result"
    }
   ],
   "source": [
    "mhdd_df.count()"
   ]
  },
  {
   "cell_type": "code",
   "execution_count": 7,
   "id": "622727f5",
   "metadata": {},
   "outputs": [],
   "source": [
    "# mhdd_viz_df = mhdd_df.select([\"year\",\"country_name\",\"schizophrenia_%\"]).toPandas()\n",
    "mhdd_viz_df = mhdd_df.toPandas() # Save this"
   ]
  },
  {
   "cell_type": "code",
   "execution_count": 8,
   "id": "2538ffab",
   "metadata": {},
   "outputs": [],
   "source": [
    "save_pandas_csv(mhdd_viz_df, \"csv_out/gmh\", \"mhdd_viz_df\")"
   ]
  },
  {
   "cell_type": "code",
   "execution_count": 9,
   "id": "040fd877",
   "metadata": {},
   "outputs": [],
   "source": [
    "def generate_top_bottom_mean_for_problem_in_mhdd(problem):\n",
    "    # Select year, country_name, problem and add average as row\n",
    "    problem_average = mhdd_df.groupby(\"year\").agg(F.avg(problem).alias(problem)).withColumn(\"country_name\", F.lit(\"Mean\")).select([\"year\", \"country_name\", problem])\n",
    "\n",
    "    problem_df = mhdd_df.select([\"year\", \"country_name\", problem])\n",
    "\n",
    "    problem_df_final = problem_df.union(problem_average)\n",
    "\n",
    "    # Find top 5 and bottom 5 countries\n",
    "    top_bottom = mhdd_df.groupBy(\"country_name\").agg(F.avg(problem).alias(problem)).sort(problem, ascending=False)\n",
    "    top_5_countries = top_bottom.select([\"country_name\"]).limit(5).collect()\n",
    "    countries_list = [top_5_countries[i][\"country_name\"] for i in range(len(top_5_countries))]\n",
    "    bottom_5_countries = top_bottom.select([\"country_name\"]).tail(5)\n",
    "    countries_list = countries_list + [bottom_5_countries[i][\"country_name\"] for i in range(len(bottom_5_countries))]\n",
    "    countries_list.append(\"Mean\")\n",
    "    return problem_df_final.select([\"year\", \"country_name\", problem]).filter((mhdd_df[\"country_name\"].isin(countries_list))).toPandas()"
   ]
  },
  {
   "cell_type": "code",
   "execution_count": 10,
   "id": "14283709",
   "metadata": {},
   "outputs": [
    {
     "name": "stderr",
     "output_type": "stream",
     "text": [
      "                                                                                \r"
     ]
    }
   ],
   "source": [
    "# Save these\n",
    "sch_df = generate_top_bottom_mean_for_problem_in_mhdd(\"schizophrenia_%\")\n",
    "bpd_df = generate_top_bottom_mean_for_problem_in_mhdd(\"bipolar_disorder_%\")\n",
    "ed_df = generate_top_bottom_mean_for_problem_in_mhdd(\"eating_disorders_%\")\n",
    "ad_df = generate_top_bottom_mean_for_problem_in_mhdd(\"anxiety_disorders_%\")\n",
    "du_df = generate_top_bottom_mean_for_problem_in_mhdd(\"drug_use_disorders_%\")\n",
    "au_df = generate_top_bottom_mean_for_problem_in_mhdd(\"alcohol_use_disorders_%\")\n",
    "dep_df = generate_top_bottom_mean_for_problem_in_mhdd(\"depression_%\")"
   ]
  },
  {
   "cell_type": "code",
   "execution_count": 11,
   "id": "32733213",
   "metadata": {},
   "outputs": [],
   "source": [
    "save_pandas_csv(sch_df, \"csv_out/gmh\", \"sch_df\")\n",
    "save_pandas_csv(bpd_df, \"csv_out/gmh\", \"bpd_df\")\n",
    "save_pandas_csv(ed_df, \"csv_out/gmh\", \"ed_df\")\n",
    "save_pandas_csv(ad_df, \"csv_out/gmh\", \"ad_df\")\n",
    "save_pandas_csv(du_df, \"csv_out/gmh\", \"du_df\")\n",
    "save_pandas_csv(au_df, \"csv_out/gmh\", \"au_df\")\n",
    "save_pandas_csv(dep_df, \"csv_out/gmh\", \"dep_df\")"
   ]
  },
  {
   "cell_type": "markdown",
   "id": "aa92cd37",
   "metadata": {},
   "source": [
    "Which income group, un_region had the worst of the problems?\n",
    "\n",
    "Merge with atlas countries basic facts\n",
    "\n",
    "Group by income_group/un_region\n",
    "\n",
    "Compute the average of each problem over the years and take the maximum\n",
    "\n",
    "Plot average for that problem for that income_group/un_region"
   ]
  },
  {
   "cell_type": "code",
   "execution_count": 12,
   "id": "ce586f7b",
   "metadata": {},
   "outputs": [],
   "source": [
    "atlas_countries_facts_schema = types.StructType([\n",
    "    types.StructField(\"country_name\", types.StringType()),\n",
    "    types.StructField(\"facts_country_code\", types.StringType()),\n",
    "    types.StructField(\"un_region\", types.StringType()),\n",
    "])\n",
    "\n",
    "atlas_countries_facts = spark.read.csv(\"datasets_output/atlas_fact_dims/atlas_countries_facts/\", schema=atlas_countries_facts_schema)"
   ]
  },
  {
   "cell_type": "code",
   "execution_count": 13,
   "id": "4581723b",
   "metadata": {},
   "outputs": [],
   "source": [
    "atlas_countries_basic_info_schema = types.StructType([\n",
    "    types.StructField(\"basic_country_code\", types.StringType()),\n",
    "    types.StructField(\"population\", types.IntegerType()),\n",
    "    types.StructField(\"income_group\", types.StringType()),\n",
    "    types.StructField(\"who_region\", types.StringType()),\n",
    "    types.StructField(\"expenditure_cad\", types.FloatType()),\n",
    "])\n",
    "\n",
    "atlas_countries_basic_info = spark.read.csv(\"datasets_output/atlas_fact_dims/atlas_countries_basic_info_dims/\", schema=atlas_countries_basic_info_schema)"
   ]
  },
  {
   "cell_type": "code",
   "execution_count": 14,
   "id": "988a2f50",
   "metadata": {},
   "outputs": [],
   "source": [
    "atlas_basic_combined = atlas_countries_basic_info.join(atlas_countries_facts.hint(\"broadcast\"), (atlas_countries_basic_info[\"basic_country_code\"]==atlas_countries_facts[\"facts_country_code\"]))"
   ]
  },
  {
   "cell_type": "code",
   "execution_count": 15,
   "id": "ab0129d0",
   "metadata": {},
   "outputs": [
    {
     "data": {
      "text/plain": [
       "0"
      ]
     },
     "execution_count": 15,
     "metadata": {},
     "output_type": "execute_result"
    }
   ],
   "source": [
    "atlas_basic_combined.filter(atlas_basic_combined[\"income_group\"].isNull()).count()"
   ]
  },
  {
   "cell_type": "code",
   "execution_count": 16,
   "id": "b7234309",
   "metadata": {},
   "outputs": [],
   "source": [
    "atlas_basic_combined = atlas_basic_combined.drop(\"facts_country_code\").drop(\"un_region\").drop(\"who_region\").drop(\"country_name\")"
   ]
  },
  {
   "cell_type": "code",
   "execution_count": 17,
   "id": "b2911d93",
   "metadata": {},
   "outputs": [
    {
     "name": "stdout",
     "output_type": "stream",
     "text": [
      "root\n",
      " |-- basic_country_code: string (nullable = true)\n",
      " |-- population: integer (nullable = true)\n",
      " |-- income_group: string (nullable = true)\n",
      " |-- expenditure_cad: float (nullable = true)\n",
      "\n"
     ]
    }
   ],
   "source": [
    "atlas_basic_combined.printSchema()"
   ]
  },
  {
   "cell_type": "code",
   "execution_count": 18,
   "id": "009a6e79",
   "metadata": {
    "scrolled": true
   },
   "outputs": [],
   "source": [
    "combined_mhdd_df = mhdd_df.join(atlas_basic_combined.hint(\"broadcast\"), (mhdd_df[\"country_code\"]==atlas_basic_combined[\"basic_country_code\"])).drop(\"basic_country_code\")"
   ]
  },
  {
   "cell_type": "code",
   "execution_count": 19,
   "id": "452dbe61",
   "metadata": {},
   "outputs": [
    {
     "name": "stdout",
     "output_type": "stream",
     "text": [
      "root\n",
      " |-- country_name: string (nullable = true)\n",
      " |-- country_code: string (nullable = true)\n",
      " |-- un_region: string (nullable = true)\n",
      " |-- year: integer (nullable = true)\n",
      " |-- schizophrenia_%: float (nullable = true)\n",
      " |-- bipolar_disorder_%: float (nullable = true)\n",
      " |-- eating_disorders_%: float (nullable = true)\n",
      " |-- anxiety_disorders_%: float (nullable = true)\n",
      " |-- drug_use_disorders_%: float (nullable = true)\n",
      " |-- depression_%: float (nullable = true)\n",
      " |-- alcohol_use_disorders_%: float (nullable = true)\n",
      " |-- population: integer (nullable = true)\n",
      " |-- income_group: string (nullable = true)\n",
      " |-- expenditure_cad: float (nullable = true)\n",
      "\n"
     ]
    }
   ],
   "source": [
    "combined_mhdd_df.printSchema()"
   ]
  },
  {
   "cell_type": "code",
   "execution_count": 20,
   "id": "42e5eeb6",
   "metadata": {},
   "outputs": [
    {
     "data": {
      "text/plain": [
       "0"
      ]
     },
     "execution_count": 20,
     "metadata": {},
     "output_type": "execute_result"
    }
   ],
   "source": [
    "combined_mhdd_df.filter(combined_mhdd_df[\"income_group\"].isNull()).count()"
   ]
  },
  {
   "cell_type": "code",
   "execution_count": 21,
   "id": "1ca22045",
   "metadata": {},
   "outputs": [],
   "source": [
    "def problematic_region_df(group, problem):\n",
    "    group_val = combined_mhdd_df.groupby(group).agg(F.avg(problem).alias(problem)).orderBy(F.desc(problem)).first()[group]\n",
    "    viz_df = combined_mhdd_df.filter(combined_mhdd_df[group]==group_val).groupby(\"country_name\").agg(F.avg(problem).alias(problem))\n",
    "    return (group_val, viz_df.toPandas())"
   ]
  },
  {
   "cell_type": "code",
   "execution_count": 22,
   "id": "bcfa6557",
   "metadata": {},
   "outputs": [],
   "source": [
    "# Save the dfs here\n",
    "sch_un_group, sch_df_un_region = problematic_region_df(\"un_region\", \"schizophrenia_%\")\n",
    "sch_inc_group, sch_df_income_group = problematic_region_df(\"income_group\", \"schizophrenia_%\")\n",
    "bpd_un_group, bpd_df_un_region = problematic_region_df(\"un_region\", \"bipolar_disorder_%\")\n",
    "bpd_inc_group, bpd_df_income_group = problematic_region_df(\"income_group\", \"bipolar_disorder_%\")\n",
    "ed_un_group, ed_df_un_region = problematic_region_df(\"un_region\", \"eating_disorders_%\")\n",
    "ed_inc_group, ed_df_income_group = problematic_region_df(\"income_group\", \"eating_disorders_%\")\n",
    "ad_un_group, ad_df_un_region = problematic_region_df(\"un_region\", \"anxiety_disorders_%\")\n",
    "ad_inc_group, ad_df_income_group = problematic_region_df(\"income_group\", \"anxiety_disorders_%\")\n",
    "du_un_group, du_df_un_region = problematic_region_df(\"un_region\", \"drug_use_disorders_%\")\n",
    "du_inc_group, du_df_income_group = problematic_region_df(\"income_group\", \"drug_use_disorders_%\")\n",
    "dep_un_group, dep_df_un_region = problematic_region_df(\"un_region\", \"depression_%\")\n",
    "dep_inc_group, dep_df_income_group = problematic_region_df(\"income_group\", \"depression_%\")\n",
    "au_un_group, aud_df_un_region = problematic_region_df(\"un_region\", \"alcohol_use_disorders_%\")\n",
    "au_inc_group, aud_df_income_group = problematic_region_df(\"income_group\", \"alcohol_use_disorders_%\")"
   ]
  },
  {
   "cell_type": "code",
   "execution_count": 23,
   "id": "971a91a2",
   "metadata": {},
   "outputs": [
    {
     "name": "stdout",
     "output_type": "stream",
     "text": [
      "Australia and New Zealand\n",
      "high\n",
      "Australia and New Zealand\n",
      "high\n",
      "Australia and New Zealand\n",
      "high\n",
      "Australia and New Zealand\n",
      "high\n",
      "Northern America\n",
      "high\n",
      "Australia and New Zealand\n",
      "low\n",
      "Eastern Europe\n",
      "upper-middle\n"
     ]
    }
   ],
   "source": [
    "print(sch_un_group)\n",
    "print(sch_inc_group)\n",
    "print(bpd_un_group)\n",
    "print(bpd_inc_group)\n",
    "print(ed_un_group)\n",
    "print(ed_inc_group)\n",
    "print(ad_un_group)\n",
    "print(ad_inc_group)\n",
    "print(du_un_group)\n",
    "print(du_inc_group)\n",
    "print(dep_un_group)\n",
    "print(dep_inc_group)\n",
    "print(au_un_group)\n",
    "print(au_inc_group)"
   ]
  },
  {
   "cell_type": "code",
   "execution_count": 24,
   "id": "ac6564ed",
   "metadata": {},
   "outputs": [],
   "source": [
    "save_pandas_csv(sch_df_un_region, \"csv_out/gmh\", \"sch_df_un_region\")\n",
    "save_pandas_csv(bpd_df_un_region, \"csv_out/gmh\", \"bpd_df_un_region\")\n",
    "save_pandas_csv(ed_df_un_region, \"csv_out/gmh\", \"ed_df_un_region\")\n",
    "save_pandas_csv(ad_df_un_region, \"csv_out/gmh\", \"ad_df_un_region\")\n",
    "save_pandas_csv(du_df_un_region, \"csv_out/gmh\", \"du_df_un_region\")\n",
    "save_pandas_csv(aud_df_un_region, \"csv_out/gmh\", \"au_df_un_region\")\n",
    "save_pandas_csv(dep_df_un_region, \"csv_out/gmh\", \"dep_df_un_region\")\n",
    "save_pandas_csv(sch_df_income_group, \"csv_out/gmh\", \"sch_df_income_group\")\n",
    "save_pandas_csv(bpd_df_income_group, \"csv_out/gmh\", \"bpd_df_income_group\")\n",
    "save_pandas_csv(ed_df_income_group, \"csv_out/gmh\", \"ed_df_income_group\")\n",
    "save_pandas_csv(ad_df_income_group, \"csv_out/gmh\", \"ad_df_income_group\")\n",
    "save_pandas_csv(du_df_income_group, \"csv_out/gmh\", \"du_df_income_group\")\n",
    "save_pandas_csv(aud_df_income_group, \"csv_out/gmh\", \"au_df_income_group\")\n",
    "save_pandas_csv(dep_df_income_group, \"csv_out/gmh\", \"dep_df_income_group\")"
   ]
  },
  {
   "cell_type": "markdown",
   "id": "ba916d20",
   "metadata": {},
   "source": [
    "How much has each problem grown in each region?"
   ]
  },
  {
   "cell_type": "code",
   "execution_count": 25,
   "id": "e480f4dc",
   "metadata": {},
   "outputs": [],
   "source": [
    "def generate_problem_growth_df(combined_mhdd_df, problem):\n",
    "    test = combined_mhdd_df.select([\"un_region\", \"year\", problem]).groupby(\"un_region\", \"year\").agg(\n",
    "        F.avg(problem).alias(problem),\n",
    "    ).filter((F.col(\"year\")==1990)|(F.col(\"year\")==2017))\n",
    "\n",
    "    test_1990 = test.filter(test[\"year\"]==1990).drop(\"year\").withColumnsRenamed({\n",
    "        problem: problem + \"_1990\",\n",
    "        \"un_region\": \"un_region_1990\"\n",
    "    })\n",
    "\n",
    "    test_2017 = test.filter(test[\"year\"]==2017).drop(\"year\").withColumnsRenamed({\n",
    "        problem: problem + \"_2017\",\n",
    "        \"un_region\": \"un_region_2017\"\n",
    "    })\n",
    "\n",
    "    diff_df = test_1990.join(test_2017, (test_1990[\"un_region_1990\"]==test_2017[\"un_region_2017\"])).drop(\"un_region_2017\").withColumnRenamed(\"un_region_1990\", \"un_region\")\n",
    "    diff_df = diff_df.withColumn(problem.capitalize()+\" growth\", F.col(problem+\"_2017\")-F.col(problem+\"_1990\")).drop(problem+\"_1990\").drop(problem+\"_2017\")\n",
    "\n",
    "    return diff_df.toPandas()"
   ]
  },
  {
   "cell_type": "code",
   "execution_count": 26,
   "id": "d8304208",
   "metadata": {},
   "outputs": [],
   "source": [
    "# Save these\n",
    "sch_problem_growth_viz_df = generate_problem_growth_df(combined_mhdd_df, \"schizophrenia_%\")\n",
    "ad_problem_growth_viz_df = generate_problem_growth_df(combined_mhdd_df, \"anxiety_disorders_%\")\n",
    "au_problem_growth_viz_df = generate_problem_growth_df(combined_mhdd_df, \"alcohol_use_disorders_%\")\n",
    "ed_problem_growth_viz_df = generate_problem_growth_df(combined_mhdd_df, \"eating_disorders_%\")\n",
    "du_problem_growth_viz_df = generate_problem_growth_df(combined_mhdd_df, \"drug_use_disorders_%\")\n",
    "bpd_problem_growth_viz_df = generate_problem_growth_df(combined_mhdd_df, \"bipolar_disorder_%\")\n",
    "dep_problem_growth_viz_df = generate_problem_growth_df(combined_mhdd_df, \"depression_%\")"
   ]
  },
  {
   "cell_type": "code",
   "execution_count": 27,
   "id": "bcbedbb7",
   "metadata": {},
   "outputs": [],
   "source": [
    "save_pandas_csv(sch_problem_growth_viz_df, \"csv_out/gmh\", \"sch_problem_growth_viz_df\")\n",
    "save_pandas_csv(ad_problem_growth_viz_df, \"csv_out/gmh\", \"ad_problem_growth_viz_df\")\n",
    "save_pandas_csv(au_problem_growth_viz_df, \"csv_out/gmh\", \"au_problem_growth_viz_df\")\n",
    "save_pandas_csv(ed_problem_growth_viz_df, \"csv_out/gmh\", \"ed_problem_growth_viz_df\")\n",
    "save_pandas_csv(du_problem_growth_viz_df, \"csv_out/gmh\", \"du_problem_growth_viz_df\")\n",
    "save_pandas_csv(bpd_problem_growth_viz_df, \"csv_out/gmh\", \"bpd_problem_growth_viz_df\")\n",
    "save_pandas_csv(dep_problem_growth_viz_df, \"csv_out/gmh\", \"dep_problem_growth_viz_df\")"
   ]
  },
  {
   "cell_type": "code",
   "execution_count": 28,
   "id": "ce15c867",
   "metadata": {},
   "outputs": [],
   "source": [
    "def generate_correlation_heatmap_df(combined_mhdd_df):\n",
    "    averaged_df = combined_mhdd_df.groupby(\"un_region\", \"year\").agg(F.avg(F.col(\"schizophrenia_%\")).alias(\"Schizophrenia\"), F.avg(F.col(\"depression_%\")).alias(\"Depression\"), F.avg(F.col(\"bipolar_disorder_%\")).alias(\"Bipolar disorder\"), F.avg(F.col(\"eating_disorders_%\")).alias(\"Eating disorders\"), F.avg(F.col(\"anxiety_disorders_%\")).alias(\"Anxiety disorders\"), F.avg(F.col(\"drug_use_disorders_%\")).alias(\"Drug use disorders\"), F.avg(F.col(\"alcohol_use_disorders_%\")).alias(\"Alcohol use disorders\"))\n",
    "    return averaged_df.select([\"Schizophrenia\", \"Depression\", \"Drug use disorders\", \"Alcohol use disorders\", \"Eating disorders\", \"Anxiety disorders\", \"Bipolar disorder\"]).toPandas()"
   ]
  },
  {
   "cell_type": "code",
   "execution_count": 29,
   "id": "3be61a68",
   "metadata": {},
   "outputs": [],
   "source": [
    "# Save this\n",
    "correlation_viz_df = generate_correlation_heatmap_df(combined_mhdd_df)"
   ]
  },
  {
   "cell_type": "code",
   "execution_count": 30,
   "id": "36e89186",
   "metadata": {},
   "outputs": [],
   "source": [
    "save_pandas_csv(correlation_viz_df, \"csv_out/gmh\", \"correlation_viz_df\")"
   ]
  },
  {
   "cell_type": "code",
   "execution_count": 31,
   "id": "f2e2bbbc",
   "metadata": {},
   "outputs": [],
   "source": [
    "# Load ad_mf_df dataset\n",
    "ad_schema = types.StructType([\n",
    "    types.StructField(\"country_name\", types.StringType()),\n",
    "    types.StructField(\"country_code\", types.StringType()),\n",
    "    types.StructField(\"un_region\", types.StringType()),\n",
    "    types.StructField(\"year\", types.IntegerType()),\n",
    "    types.StructField(\"male_anxiety_disorders_%\", types.FloatType()),\n",
    "    types.StructField(\"female_anxiety_disorders_%\", types.FloatType()),\n",
    "])\n",
    "ad_mf_df = spark.read.option(\"multiline\", \"true\").csv(\"datasets_output/gmh_fact_dims/ad_mf\", schema=ad_schema)"
   ]
  },
  {
   "cell_type": "code",
   "execution_count": 32,
   "id": "ae161954",
   "metadata": {},
   "outputs": [],
   "source": [
    "# Load ad_mf_df dataset\n",
    "bpd_schema = types.StructType([\n",
    "    types.StructField(\"country_name\", types.StringType()),\n",
    "    types.StructField(\"country_code\", types.StringType()),\n",
    "    types.StructField(\"un_region\", types.StringType()),\n",
    "    types.StructField(\"year\", types.IntegerType()),\n",
    "    types.StructField(\"male_bipolar_disorder_%\", types.FloatType()),\n",
    "    types.StructField(\"female_bipolar_disorder_%\", types.FloatType()),\n",
    "])\n",
    "bpd_mf_df = spark.read.option(\"multiline\", \"true\").csv(\"datasets_output/gmh_fact_dims/bpd_mf\", schema=bpd_schema)"
   ]
  },
  {
   "cell_type": "code",
   "execution_count": 33,
   "id": "13a8e4fe",
   "metadata": {},
   "outputs": [],
   "source": [
    "# Load ad_mf_df dataset\n",
    "dep_schema = types.StructType([\n",
    "    types.StructField(\"country_name\", types.StringType()),\n",
    "    types.StructField(\"country_code\", types.StringType()),\n",
    "    types.StructField(\"un_region\", types.StringType()),\n",
    "    types.StructField(\"year\", types.IntegerType()),\n",
    "    types.StructField(\"male_depression_%\", types.FloatType()),\n",
    "    types.StructField(\"female_depression_%\", types.FloatType()),\n",
    "])\n",
    "dep_mf_df = spark.read.option(\"multiline\", \"true\").csv(\"datasets_output/gmh_fact_dims/dep_mf\", schema=dep_schema)"
   ]
  },
  {
   "cell_type": "code",
   "execution_count": 34,
   "id": "59a2bd57",
   "metadata": {},
   "outputs": [],
   "source": [
    "# Load ad_mf_df dataset\n",
    "sch_schema = types.StructType([\n",
    "    types.StructField(\"country_name\", types.StringType()),\n",
    "    types.StructField(\"country_code\", types.StringType()),\n",
    "    types.StructField(\"un_region\", types.StringType()),\n",
    "    types.StructField(\"year\", types.IntegerType()),\n",
    "    types.StructField(\"male_schizophrenia_%\", types.FloatType()),\n",
    "    types.StructField(\"female_schizophrenia_%\", types.FloatType()),\n",
    "])\n",
    "sch_mf_df = spark.read.option(\"multiline\", \"true\").csv(\"datasets_output/gmh_fact_dims/sch_mf\", schema=sch_schema)"
   ]
  },
  {
   "cell_type": "code",
   "execution_count": 35,
   "id": "477228fe",
   "metadata": {},
   "outputs": [],
   "source": [
    "# Load ad_mf_df dataset\n",
    "ed_schema = types.StructType([\n",
    "    types.StructField(\"country_name\", types.StringType()),\n",
    "    types.StructField(\"country_code\", types.StringType()),\n",
    "    types.StructField(\"un_region\", types.StringType()),\n",
    "    types.StructField(\"year\", types.IntegerType()),\n",
    "    types.StructField(\"male_eating_disorders_%\", types.FloatType()),\n",
    "    types.StructField(\"female_eating_disorders_%\", types.FloatType()),\n",
    "])\n",
    "ed_mf_df = spark.read.option(\"multiline\", \"true\").csv(\"datasets_output/gmh_fact_dims/ed_mf\", schema=ed_schema)"
   ]
  },
  {
   "cell_type": "code",
   "execution_count": 36,
   "id": "0142957f",
   "metadata": {},
   "outputs": [],
   "source": [
    "# Save these\n",
    "ad_mf_df_pd = ad_mf_df.toPandas()\n",
    "bpd_mf_df_pd = bpd_mf_df.toPandas()\n",
    "dep_mf_df_pd = dep_mf_df.toPandas()\n",
    "sch_mf_df_pd = sch_mf_df.toPandas()\n",
    "ed_mf_df_pd = ed_mf_df.toPandas()"
   ]
  },
  {
   "cell_type": "code",
   "execution_count": 37,
   "id": "d7829d47",
   "metadata": {},
   "outputs": [],
   "source": [
    "save_pandas_csv(ad_mf_df_pd, \"csv_out/gmh\", \"ad_mf_df_pd\")\n",
    "save_pandas_csv(bpd_mf_df_pd, \"csv_out/gmh\", \"bpd_mf_df_pd\")\n",
    "save_pandas_csv(dep_mf_df_pd, \"csv_out/gmh\", \"dep_mf_df_pd\")\n",
    "save_pandas_csv(sch_mf_df_pd, \"csv_out/gmh\", \"sch_mf_df_pd\")\n",
    "save_pandas_csv(ed_mf_df_pd, \"csv_out/gmh\", \"ed_mf_df_pd\")"
   ]
  },
  {
   "cell_type": "code",
   "execution_count": 38,
   "id": "b35799e6",
   "metadata": {},
   "outputs": [],
   "source": [
    "# Load ad_mf_df dataset\n",
    "sui_schema = types.StructType([\n",
    "    types.StructField(\"country_name\", types.StringType()),\n",
    "    types.StructField(\"country_code\", types.StringType()),\n",
    "    types.StructField(\"un_region\", types.StringType()),\n",
    "    types.StructField(\"year\", types.IntegerType()),\n",
    "    types.StructField(\"male_suicide_%\", types.FloatType()),\n",
    "    types.StructField(\"female_suicide_%\", types.FloatType()),\n",
    "])\n",
    "sui_mf_df = spark.read.option(\"multiline\", \"true\").csv(\"datasets_output/gmh_fact_dims/sui_mf\", schema=sui_schema)"
   ]
  },
  {
   "cell_type": "code",
   "execution_count": 39,
   "id": "2dbf1dab",
   "metadata": {},
   "outputs": [
    {
     "name": "stdout",
     "output_type": "stream",
     "text": [
      "+--------------------+------------+---------------+----+--------------+----------------+\n",
      "|        country_name|country_code|      un_region|year|male_suicide_%|female_suicide_%|\n",
      "+--------------------+------------+---------------+----+--------------+----------------+\n",
      "|Co-operative Repu...|         GUY|  South America|2019|          40.3|            63.0|\n",
      "| Kingdom of Eswatini|         SWZ|Southern Africa|2019|          29.4|            55.1|\n",
      "|   Republic of Korea|         KOR|   Eastern Asia|2019|          28.6|            40.2|\n",
      "|Republic of Kiribati|         KIR|     Micronesia|2019|          28.3|            48.6|\n",
      "|Federated States ...|         FSM|     Micronesia|2019|          28.2|            43.2|\n",
      "|Republic of Lithu...|         LTU|Northern Europe|2019|          26.1|            45.4|\n",
      "|Republic of Suriname|         SUR|  South America|2019|          25.4|            38.8|\n",
      "|  Russian Federation|         RUS| Eastern Europe|2019|          25.1|            43.6|\n",
      "|Republic of South...|         ZAF|Southern Africa|2019|          23.5|            37.6|\n",
      "|             Ukraine|         UKR| Eastern Europe|2019|          21.6|            39.2|\n",
      "| Republic of Belarus|         BLR| Eastern Europe|2019|          21.2|            36.7|\n",
      "|Oriental Republic...|         URY|  South America|2019|          21.2|            34.5|\n",
      "|          Montenegro|         MNE|Southern Europe|2019|          21.0|            31.7|\n",
      "|  Republic of Latvia|         LVA|Northern Europe|2019|          20.1|            35.5|\n",
      "|Republic of Slovenia|         SVN|Southern Europe|2019|          19.8|            31.4|\n",
      "|  Kingdom of Belgium|         BEL| Western Europe|2019|          18.3|            24.9|\n",
      "| Republic of Vanuatu|         VUT|      Melanesia|2019|          18.0|            28.1|\n",
      "|            Mongolia|         MNG|   Eastern Asia|2019|          17.9|            30.7|\n",
      "|Republic of Kazak...|         KAZ|   Central Asia|2019|          17.6|            29.0|\n",
      "| Republic of Hungary|         HUN| Eastern Europe|2019|          16.6|            25.9|\n",
      "+--------------------+------------+---------------+----+--------------+----------------+\n",
      "only showing top 20 rows\n",
      "\n"
     ]
    }
   ],
   "source": [
    "sui_mf_df.show() # This has only 2019 data"
   ]
  },
  {
   "cell_type": "code",
   "execution_count": 40,
   "id": "2c6253f2",
   "metadata": {},
   "outputs": [],
   "source": [
    "# Find average suicide % by region\n",
    "region_avg_sui_mf_df = sui_mf_df.select([\"un_region\", \"year\", \"male_suicide_%\", \"female_suicide_%\"]).groupby(\"un_region\", \"year\").agg(F.avg(\"male_suicide_%\").alias(\"male_suicide_%\"), F.avg(\"female_suicide_%\").alias(\"female_suicide_%\"))"
   ]
  },
  {
   "cell_type": "code",
   "execution_count": 41,
   "id": "657782ba",
   "metadata": {},
   "outputs": [
    {
     "name": "stdout",
     "output_type": "stream",
     "text": [
      "+--------------------+----+------------------+------------------+\n",
      "|           un_region|year|    male_suicide_%|  female_suicide_%|\n",
      "+--------------------+----+------------------+------------------+\n",
      "|Australia and New...|2019|             11.75|17.550000190734863|\n",
      "|       Middle Africa|2019| 7.679999923706054|11.480000114440918|\n",
      "|          Micronesia|2019|             28.25| 45.89999961853027|\n",
      "|      Western Europe|2019|14.724999904632568| 21.02500009536743|\n",
      "|           Polynesia|2019| 3.799999952316284|               5.0|\n",
      "|      Eastern Africa|2019| 7.507142918450492|11.421428510120936|\n",
      "|       Southern Asia|2019| 6.524999916553497|10.024999856948853|\n",
      "|      Western Africa|2019| 6.321428571428571| 9.299999986376081|\n",
      "|       South America|2019|11.649999916553497| 18.19166648387909|\n",
      "|     Northern Africa|2019| 4.049999952316284| 5.399999936421712|\n",
      "|           Melanesia|2019|11.174999952316284| 17.90000009536743|\n",
      "|     Central America|2019| 5.237500071525574|  8.72500005364418|\n",
      "|  South-eastern Asia|2019|  5.37000002861023| 7.999999928474426|\n",
      "|           Caribbean|2019| 5.350000050663948| 8.280000007152557|\n",
      "|        Western Asia|2019| 4.500000009169946| 6.307692252672636|\n",
      "|      Eastern Europe|2019| 17.17142881665911| 29.55714293888637|\n",
      "|     Southern Europe|2019|11.290908856825395|17.290909030220725|\n",
      "|     Northern Europe|2019|14.300000047683715|              22.6|\n",
      "|     Southern Africa|2019|19.674999952316284| 33.92499923706055|\n",
      "|        Eastern Asia|2019|17.475000143051147| 25.62500023841858|\n",
      "+--------------------+----+------------------+------------------+\n",
      "only showing top 20 rows\n",
      "\n"
     ]
    }
   ],
   "source": [
    "region_avg_sui_mf_df.show()"
   ]
  },
  {
   "cell_type": "code",
   "execution_count": 42,
   "id": "06b8cfb0",
   "metadata": {},
   "outputs": [],
   "source": [
    "# Find top 5 and bottom 5 by male and female\n",
    "top_male_region_sui_df = region_avg_sui_mf_df.orderBy(F.desc(\"male_suicide_%\")).limit(5)\n",
    "top_female_region_sui_df = region_avg_sui_mf_df.orderBy(F.desc(\"female_suicide_%\")).limit(5)\n",
    "bottom_male_region_sui_df = region_avg_sui_mf_df.orderBy(\"male_suicide_%\").limit(5)\n",
    "bottom_female_region_sui_df = region_avg_sui_mf_df.orderBy(\"female_suicide_%\").limit(5)\n",
    "\n",
    "# Union and then drop duplicates\n",
    "combined_sui_df = top_male_region_sui_df.union(top_female_region_sui_df).union(bottom_male_region_sui_df).union(bottom_female_region_sui_df).drop_duplicates()"
   ]
  },
  {
   "cell_type": "code",
   "execution_count": 43,
   "id": "4e27570f",
   "metadata": {
    "scrolled": false
   },
   "outputs": [
    {
     "name": "stdout",
     "output_type": "stream",
     "text": [
      "+------------------+----+------------------+-----------------+\n",
      "|         un_region|year|    male_suicide_%| female_suicide_%|\n",
      "+------------------+----+------------------+-----------------+\n",
      "|        Micronesia|2019|             28.25|45.89999961853027|\n",
      "|   Southern Africa|2019|19.674999952316284|33.92499923706055|\n",
      "|      Eastern Asia|2019|17.475000143051147|25.62500023841858|\n",
      "|    Eastern Europe|2019| 17.17142881665911|29.55714293888637|\n",
      "|    Western Europe|2019|14.724999904632568|21.02500009536743|\n",
      "|   Northern Europe|2019|14.300000047683715|             22.6|\n",
      "|      Western Asia|2019| 4.500000009169946|6.307692252672636|\n",
      "|         Caribbean|2019| 5.350000050663948|8.280000007152557|\n",
      "|   Northern Africa|2019| 4.049999952316284|5.399999936421712|\n",
      "|   Central America|2019| 5.237500071525574| 8.72500005364418|\n",
      "|         Polynesia|2019| 3.799999952316284|              5.0|\n",
      "|South-eastern Asia|2019|  5.37000002861023|7.999999928474426|\n",
      "+------------------+----+------------------+-----------------+\n",
      "\n"
     ]
    }
   ],
   "source": [
    "combined_sui_df.show()"
   ]
  },
  {
   "cell_type": "code",
   "execution_count": 44,
   "id": "8e3c53b5",
   "metadata": {},
   "outputs": [],
   "source": [
    "# Save this\n",
    "combined_sui_df_pd = combined_sui_df.toPandas()"
   ]
  },
  {
   "cell_type": "code",
   "execution_count": 45,
   "id": "36d88ab6",
   "metadata": {},
   "outputs": [],
   "source": [
    "save_pandas_csv(combined_sui_df_pd, \"csv_out/gmh\", \"combined_sui_df_pd\")"
   ]
  }
 ],
 "metadata": {
  "kernelspec": {
   "display_name": "Python 3 (ipykernel)",
   "language": "python",
   "name": "python3"
  },
  "language_info": {
   "codemirror_mode": {
    "name": "ipython",
    "version": 3
   },
   "file_extension": ".py",
   "mimetype": "text/x-python",
   "name": "python",
   "nbconvert_exporter": "python",
   "pygments_lexer": "ipython3",
   "version": "3.8.15"
  }
 },
 "nbformat": 4,
 "nbformat_minor": 5
}
