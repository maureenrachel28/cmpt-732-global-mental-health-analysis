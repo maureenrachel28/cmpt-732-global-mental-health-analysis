{
 "cells": [
  {
   "cell_type": "code",
   "execution_count": 1,
   "id": "05914ba3",
   "metadata": {},
   "outputs": [
    {
     "name": "stderr",
     "output_type": "stream",
     "text": [
      "Setting default log level to \"WARN\".\n",
      "To adjust logging level use sc.setLogLevel(newLevel). For SparkR, use setLogLevel(newLevel).\n",
      "23/12/05 23:41:01 WARN NativeCodeLoader: Unable to load native-hadoop library for your platform... using builtin-java classes where applicable\n",
      "23/12/05 23:41:02 WARN Utils: Service 'SparkUI' could not bind on port 4040. Attempting port 4041.\n"
     ]
    }
   ],
   "source": [
    "import os\n",
    "from pyspark.sql import SparkSession, types\n",
    "from pyspark.sql import functions as F\n",
    "from pyspark.sql import Row\n",
    "\n",
    "spark = SparkSession.builder.getOrCreate()"
   ]
  },
  {
   "cell_type": "code",
   "execution_count": 2,
   "id": "ac84a005",
   "metadata": {},
   "outputs": [],
   "source": [
    "import plotly.express as px\n",
    "import plotly.graph_objs as go\n",
    "from plotly.subplots import make_subplots\n",
    "import pandas as pd"
   ]
  },
  {
   "cell_type": "code",
   "execution_count": 3,
   "id": "7473abac",
   "metadata": {},
   "outputs": [],
   "source": [
    "def save_pandas_csv(df, location, filename):\n",
    "    df.to_csv(location + \"/\" + filename + '.csv', index=False)"
   ]
  },
  {
   "cell_type": "markdown",
   "id": "ef2179d0",
   "metadata": {},
   "source": [
    "#### Analysis bits"
   ]
  },
  {
   "cell_type": "code",
   "execution_count": 4,
   "id": "7890325d",
   "metadata": {},
   "outputs": [
    {
     "data": {
      "text/plain": [
       "DataFrame[facts_country_name: string, facts_country_code: string, facts_un_region: string]"
      ]
     },
     "execution_count": 4,
     "metadata": {},
     "output_type": "execute_result"
    }
   ],
   "source": [
    "# Atlas countries facts\n",
    "atlas_countries_facts_schema = types.StructType([\n",
    "    types.StructField(\"facts_country_name\", types.StringType()),\n",
    "    types.StructField(\"facts_country_code\", types.StringType()),\n",
    "    types.StructField(\"facts_un_region\", types.StringType()),\n",
    "])\n",
    "\n",
    "atlas_countries_facts = spark.read.csv(\"datasets_output/atlas_fact_dims/atlas_countries_facts/\", schema=atlas_countries_facts_schema)\n",
    "atlas_countries_facts.cache()"
   ]
  },
  {
   "cell_type": "code",
   "execution_count": 5,
   "id": "632213ee",
   "metadata": {},
   "outputs": [],
   "source": [
    "# Atlas basic info\n",
    "atlas_countries_basic_info_schema = types.StructType([\n",
    "    types.StructField(\"basic_country_code\", types.StringType()),\n",
    "    types.StructField(\"basic_population\", types.IntegerType()),\n",
    "    types.StructField(\"basic_income_group\", types.StringType()),\n",
    "    types.StructField(\"basic_who_region\", types.StringType()),\n",
    "    types.StructField(\"basic_expenditure_cad\", types.FloatType()),\n",
    "])\n",
    "\n",
    "atlas_countries_basic_info = spark.read.csv(\"datasets_output/atlas_fact_dims/atlas_countries_basic_info_dims/\", schema=atlas_countries_basic_info_schema)"
   ]
  },
  {
   "cell_type": "code",
   "execution_count": 6,
   "id": "2a9a140e",
   "metadata": {},
   "outputs": [
    {
     "data": {
      "text/plain": [
       "DataFrame[basic_country_code: string, basic_population: int, basic_income_group: string, basic_who_region: string, basic_expenditure_cad: float, facts_country_name: string, facts_country_code: string, facts_un_region: string]"
      ]
     },
     "execution_count": 6,
     "metadata": {},
     "output_type": "execute_result"
    }
   ],
   "source": [
    "# Countries with basic info\n",
    "atlas_basic_combined = atlas_countries_basic_info.join(atlas_countries_facts.hint(\"broadcast\"), (atlas_countries_basic_info[\"basic_country_code\"]==atlas_countries_facts[\"facts_country_code\"]))\n",
    "atlas_basic_combined.cache()"
   ]
  },
  {
   "cell_type": "markdown",
   "id": "2b55e3e4",
   "metadata": {},
   "source": [
    "Expenditure vs mortality rate"
   ]
  },
  {
   "cell_type": "code",
   "execution_count": 7,
   "id": "c01e0264",
   "metadata": {},
   "outputs": [],
   "source": [
    "# Atlas smr dataset\n",
    "atlas_smr_schema = types.StructType([\n",
    "    types.StructField(\"smr_country_code\", types.StringType()),\n",
    "    types.StructField(\"smr_suicide_mortality_rate_2013\", types.FloatType()),\n",
    "    types.StructField(\"smr_suicide_mortality_rate_2016\", types.FloatType()),\n",
    "    types.StructField(\"smr_suicide_mortality_rate_2019\", types.FloatType()),\n",
    "])\n",
    "\n",
    "atlas_smr_df = spark.read.option(\"multiline\", \"true\").csv(\"datasets_output/atlas_fact_dims/atlas_smr_info_dims\", schema=atlas_smr_schema)"
   ]
  },
  {
   "cell_type": "code",
   "execution_count": 8,
   "id": "3b93fd95",
   "metadata": {},
   "outputs": [
    {
     "data": {
      "text/plain": [
       "DataFrame[basic_population: int, basic_income_group: string, basic_who_region: string, basic_expenditure_cad: float, facts_country_name: string, facts_country_code: string, facts_un_region: string, smr_country_code: string, smr_suicide_mortality_rate_2013: float, smr_suicide_mortality_rate_2016: float, smr_suicide_mortality_rate_2019: float]"
      ]
     },
     "execution_count": 8,
     "metadata": {},
     "output_type": "execute_result"
    }
   ],
   "source": [
    "smr_basic_combined = atlas_basic_combined.join(atlas_smr_df.hint(\"broadcast\"), (atlas_basic_combined[\"basic_country_code\"]==atlas_smr_df[\"smr_country_code\"])).drop(\"basic_country_code\")\n",
    "smr_basic_combined.cache()"
   ]
  },
  {
   "cell_type": "code",
   "execution_count": 9,
   "id": "c3bd75ee",
   "metadata": {},
   "outputs": [],
   "source": [
    "smr_basic_combined_temp = smr_basic_combined.select([\n",
    "    \"basic_expenditure_cad\",\n",
    "    \"facts_country_name\",\n",
    "    \"smr_suicide_mortality_rate_2019\"\n",
    "]).withColumnsRenamed({\n",
    "    \"basic_expenditure_cad\": \"expenditure_cad\",\n",
    "    \"facts_country_name\": \"country_name\",\n",
    "    \"smr_suicide_mortality_rate_2019\": \"suicide_mortality_rate\"\n",
    "})"
   ]
  },
  {
   "cell_type": "code",
   "execution_count": 10,
   "id": "1345930a",
   "metadata": {},
   "outputs": [
    {
     "name": "stderr",
     "output_type": "stream",
     "text": [
      "                                                                                \r"
     ]
    }
   ],
   "source": [
    "# Save this\n",
    "smr_df_pd = smr_basic_combined_temp.toPandas()"
   ]
  },
  {
   "cell_type": "code",
   "execution_count": 11,
   "id": "70149b62",
   "metadata": {},
   "outputs": [],
   "source": [
    "save_pandas_csv(smr_df_pd, \"csv_out/atlas+gmh\", \"smr_df_pd\")"
   ]
  },
  {
   "cell_type": "code",
   "execution_count": 12,
   "id": "492f9c9a",
   "metadata": {},
   "outputs": [],
   "source": [
    "sui_schema = types.StructType([\n",
    "    types.StructField(\"sui_country_name\", types.StringType()),\n",
    "    types.StructField(\"sui_country_code\", types.StringType()),\n",
    "    types.StructField(\"sui_un_region\", types.StringType()),\n",
    "    types.StructField(\"sui_year\", types.IntegerType()),\n",
    "    types.StructField(\"sui_male_suicide_%\", types.FloatType()),\n",
    "    types.StructField(\"sui_female_suicide_%\", types.FloatType()),\n",
    "])\n",
    "sui_mf_df = spark.read.option(\"multiline\", \"true\").csv(\"datasets_output/gmh_fact_dims/sui_mf\", schema=sui_schema)"
   ]
  },
  {
   "cell_type": "code",
   "execution_count": 13,
   "id": "59edfb1f",
   "metadata": {},
   "outputs": [
    {
     "data": {
      "text/plain": [
       "DataFrame[program_suicide_prevention_program: string, program_awareness_anti_stigma_program: string, program_early_child_development_program: string, program_school_based_program: string, program_parental_health_program: string, program_work_related_program: string, program_disaster_preparation_program: string, program_country_code: string]"
      ]
     },
     "execution_count": 13,
     "metadata": {},
     "output_type": "execute_result"
    }
   ],
   "source": [
    "atlas_programs_schema = types.StructType([\n",
    "    types.StructField(\"program_suicide_prevention_program\", types.StringType()),\n",
    "    types.StructField(\"program_awareness_anti_stigma_program\", types.StringType()),\n",
    "    types.StructField(\"program_early_child_development_program\", types.StringType()),\n",
    "    types.StructField(\"program_school_based_program\", types.StringType()),\n",
    "    types.StructField(\"program_parental_health_program\", types.StringType()),\n",
    "    types.StructField(\"program_work_related_program\", types.StringType()),\n",
    "    types.StructField(\"program_disaster_preparation_program\", types.StringType()),\n",
    "    types.StructField(\"program_country_code\", types.StringType())\n",
    "])\n",
    "atlas_programs_df = spark.read.option(\"multiline\", \"true\").csv(\"datasets_output/atlas_fact_dims/atlas_countries_programs_info_dims\", schema=atlas_programs_schema)\n",
    "atlas_programs_df.fillna(\"no_program\")"
   ]
  },
  {
   "cell_type": "code",
   "execution_count": 14,
   "id": "88884743",
   "metadata": {},
   "outputs": [
    {
     "data": {
      "text/plain": [
       "DataFrame[program_suicide_prevention_program: string, program_awareness_anti_stigma_program: string, program_early_child_development_program: string, program_school_based_program: string, program_parental_health_program: string, program_work_related_program: string, program_disaster_preparation_program: string, program_country_code: string, facts_country_name: string, facts_country_code: string, facts_un_region: string]"
      ]
     },
     "execution_count": 14,
     "metadata": {},
     "output_type": "execute_result"
    }
   ],
   "source": [
    "atlas_programs_combined = atlas_programs_df.join(atlas_countries_facts.hint(\"broadcast\"), (atlas_programs_df[\"program_country_code\"]==atlas_countries_facts[\"facts_country_code\"]))\n",
    "atlas_programs_combined.cache()"
   ]
  },
  {
   "cell_type": "code",
   "execution_count": 15,
   "id": "7ccf5967",
   "metadata": {},
   "outputs": [],
   "source": [
    "# Combine with sui_mf_df\n",
    "atlas_suicide_programs_sui = atlas_programs_combined.select([\"program_country_code\", \"program_suicide_prevention_program\"]).join(sui_mf_df.hint(\"broadcast\"), (atlas_programs_combined[\"program_country_code\"]==sui_mf_df[\"sui_country_code\"]))"
   ]
  },
  {
   "cell_type": "code",
   "execution_count": 16,
   "id": "c927907f",
   "metadata": {},
   "outputs": [],
   "source": [
    "atlas_suicide_programs_sui = atlas_suicide_programs_sui.fillna(\"no_program\")"
   ]
  },
  {
   "cell_type": "code",
   "execution_count": 17,
   "id": "02490b71",
   "metadata": {},
   "outputs": [],
   "source": [
    "no_suicide_programs_sui = atlas_suicide_programs_sui.filter(atlas_suicide_programs_sui[\"program_suicide_prevention_program\"]==\"no_program\")\n",
    "suicide_programs_sui = atlas_suicide_programs_sui.filter(~(atlas_suicide_programs_sui[\"program_suicide_prevention_program\"]==\"no_program\"))"
   ]
  },
  {
   "cell_type": "code",
   "execution_count": 18,
   "id": "40c30fe2",
   "metadata": {},
   "outputs": [
    {
     "name": "stderr",
     "output_type": "stream",
     "text": [
      "\r",
      "[Stage 5:>                                                          (0 + 7) / 7]\r"
     ]
    },
    {
     "name": "stdout",
     "output_type": "stream",
     "text": [
      "83\n"
     ]
    },
    {
     "name": "stderr",
     "output_type": "stream",
     "text": [
      "\r",
      "                                                                                \r"
     ]
    }
   ],
   "source": [
    "no_suicide_programs_sui = no_suicide_programs_sui.select([\n",
    "    \"sui_country_name\",\n",
    "    \"sui_male_suicide_%\",\n",
    "    \"sui_female_suicide_%\"\n",
    "]).withColumnsRenamed({\n",
    "    \"sui_country_name\": \"country_name\",\n",
    "    \"sui_male_suicide_%\": \"male_suicide_%\",\n",
    "    \"sui_female_suicide_%\": \"female_suicide_%\",\n",
    "})\n",
    "\n",
    "no_suicide_countries = no_suicide_programs_sui.select([\"country_name\"]).distinct().count()\n",
    "print(no_suicide_countries)"
   ]
  },
  {
   "cell_type": "code",
   "execution_count": 19,
   "id": "42e94f9a",
   "metadata": {},
   "outputs": [
    {
     "name": "stdout",
     "output_type": "stream",
     "text": [
      "54\n"
     ]
    }
   ],
   "source": [
    "suicide_programs_sui = suicide_programs_sui.select([\n",
    "    \"sui_country_name\",\n",
    "    \"sui_male_suicide_%\",\n",
    "    \"sui_female_suicide_%\"\n",
    "]).withColumnsRenamed({\n",
    "    \"sui_country_name\": \"country_name\",\n",
    "    \"sui_male_suicide_%\": \"male_suicide_%\",\n",
    "    \"sui_female_suicide_%\": \"female_suicide_%\",\n",
    "})\n",
    "\n",
    "suicide_countries = suicide_programs_sui.select([\"country_name\"]).distinct().count()\n",
    "print(suicide_countries)"
   ]
  },
  {
   "cell_type": "code",
   "execution_count": 20,
   "id": "d4db6466",
   "metadata": {},
   "outputs": [
    {
     "name": "stdout",
     "output_type": "stream",
     "text": [
      "+--------------------+--------------+----------------+\n",
      "|        country_name|male_suicide_%|female_suicide_%|\n",
      "+--------------------+--------------+----------------+\n",
      "|Republic of Kiribati|          28.3|            48.6|\n",
      "|  Russian Federation|          25.1|            43.6|\n",
      "|Federated States ...|          28.2|            43.2|\n",
      "| Kingdom of Eswatini|          29.4|            55.1|\n",
      "|Republic of Suriname|          25.4|            38.8|\n",
      "+--------------------+--------------+----------------+\n",
      "\n"
     ]
    }
   ],
   "source": [
    "# Suicide rates of top 5 suicide countries by male and female without program\n",
    "top_no_program_male = no_suicide_programs_sui.orderBy(F.desc(\"male_suicide_%\")).limit(5)\n",
    "top_no_program_female = no_suicide_programs_sui.orderBy(F.desc(\"female_suicide_%\")).limit(5)\n",
    "top_no_program = top_no_program_male.union(top_no_program_female).dropDuplicates()\n",
    "top_no_program.show()"
   ]
  },
  {
   "cell_type": "code",
   "execution_count": 21,
   "id": "924ff7f9",
   "metadata": {},
   "outputs": [
    {
     "name": "stdout",
     "output_type": "stream",
     "text": [
      "+--------------------+--------------+----------------+\n",
      "|        country_name|male_suicide_%|female_suicide_%|\n",
      "+--------------------+--------------+----------------+\n",
      "|   Republic of Korea|          28.6|            40.2|\n",
      "|             Ukraine|          21.6|            39.2|\n",
      "|Republic of Lithu...|          26.1|            45.4|\n",
      "|Republic of South...|          23.5|            37.6|\n",
      "|Co-operative Repu...|          40.3|            63.0|\n",
      "+--------------------+--------------+----------------+\n",
      "\n"
     ]
    }
   ],
   "source": [
    "# Suicide rates of top 5 suicide countries by male and female without program\n",
    "top_program_male = suicide_programs_sui.orderBy(F.desc(\"male_suicide_%\")).limit(5)\n",
    "top_program_female = suicide_programs_sui.orderBy(F.desc(\"female_suicide_%\")).limit(5)\n",
    "top_program = top_program_male.union(top_program_female).dropDuplicates()\n",
    "top_program.show()"
   ]
  },
  {
   "cell_type": "code",
   "execution_count": 22,
   "id": "ac6c1587",
   "metadata": {},
   "outputs": [],
   "source": [
    "combined_top_program_no_program = top_program.union(top_no_program)"
   ]
  },
  {
   "cell_type": "code",
   "execution_count": 23,
   "id": "f9b260f9",
   "metadata": {},
   "outputs": [
    {
     "name": "stdout",
     "output_type": "stream",
     "text": [
      "+--------------------+--------------+----------------+\n",
      "|        country_name|male_suicide_%|female_suicide_%|\n",
      "+--------------------+--------------+----------------+\n",
      "|   Republic of Korea|          28.6|            40.2|\n",
      "|             Ukraine|          21.6|            39.2|\n",
      "|Republic of Lithu...|          26.1|            45.4|\n",
      "|Republic of South...|          23.5|            37.6|\n",
      "|Co-operative Repu...|          40.3|            63.0|\n",
      "|Republic of Kiribati|          28.3|            48.6|\n",
      "|  Russian Federation|          25.1|            43.6|\n",
      "|Federated States ...|          28.2|            43.2|\n",
      "| Kingdom of Eswatini|          29.4|            55.1|\n",
      "|Republic of Suriname|          25.4|            38.8|\n",
      "+--------------------+--------------+----------------+\n",
      "\n"
     ]
    }
   ],
   "source": [
    "combined_top_program_no_program.show()"
   ]
  },
  {
   "cell_type": "code",
   "execution_count": 24,
   "id": "b17c46b6",
   "metadata": {},
   "outputs": [],
   "source": [
    "combined_avg_program_no_program = atlas_suicide_programs_sui.withColumn(\n",
    "    \"program_status\",\n",
    "    F.when((atlas_suicide_programs_sui[\"program_suicide_prevention_program\"] == \"no_program\"),\n",
    "           \"No suicide prevention program\").otherwise(\"Suicide prevention program\")\n",
    ").select([\"program_status\", \"sui_male_suicide_%\", \"sui_female_suicide_%\"]).groupBy(\"program_status\").agg(\n",
    "    F.avg(F.col(\"sui_male_suicide_%\")),\n",
    "    F.avg(F.col(\"sui_female_suicide_%\"))\n",
    ")"
   ]
  },
  {
   "cell_type": "code",
   "execution_count": 25,
   "id": "9ef29010",
   "metadata": {},
   "outputs": [],
   "source": [
    "# Save this\n",
    "combined_avg_program_no_program_pd_df = combined_avg_program_no_program.toPandas()"
   ]
  },
  {
   "cell_type": "code",
   "execution_count": 26,
   "id": "97fcfee1",
   "metadata": {},
   "outputs": [],
   "source": [
    "save_pandas_csv(combined_avg_program_no_program_pd_df, \"csv_out/atlas+gmh\", \"combined_avg_program_no_program_pd_df\")"
   ]
  },
  {
   "cell_type": "markdown",
   "id": "243bcf99",
   "metadata": {},
   "source": [
    "MH expenditure vs social workers"
   ]
  },
  {
   "cell_type": "code",
   "execution_count": 27,
   "id": "0274836d",
   "metadata": {},
   "outputs": [],
   "source": [
    "# Atlas MH expenditure\n",
    "atlas_exp_and_pay_facts_schema = types.StructType([\n",
    "    types.StructField(\"ep_country_code\", types.StringType()),\n",
    "    types.StructField(\"govt_exp_mental_health_%_budget\", types.FloatType()),\n",
    "    types.StructField(\"mh_expenditure_hospital\", types.FloatType()),\n",
    "    types.StructField(\"pay_for_services\", types.StringType()),\n",
    "    types.StructField(\"pay_for_medication\", types.StringType()),\n",
    "    types.StructField(\"insurance_and_reimbursement_includes_mental_health\", types.StringType()),\n",
    "])\n",
    "\n",
    "atlas_exp_and_pay_df = spark.read.csv(\"datasets_output/atlas_fact_dims/atlas_exp_and_pay_info_dims/\", schema=atlas_exp_and_pay_facts_schema)"
   ]
  },
  {
   "cell_type": "code",
   "execution_count": 28,
   "id": "68f369fc",
   "metadata": {},
   "outputs": [],
   "source": [
    "atlas_exp_and_pay_df = atlas_exp_and_pay_df.fillna(-1, subset=[\"govt_exp_mental_health_%_budget\", \"mh_expenditure_hospital\"]).fillna(\"no_info\", subset=[\"pay_for_services\", \"pay_for_medication\"]).withColumn(\"insurance_and_reimbursement_includes_mental_health\", F.lower(\"insurance_and_reimbursement_includes_mental_health\")).fillna(\"no_info\", subset=[\"insurance_and_reimbursement_includes_mental_health\"])\n",
    "# atlas_exp_and_pay_df.show()"
   ]
  },
  {
   "cell_type": "code",
   "execution_count": 29,
   "id": "9e651d78",
   "metadata": {},
   "outputs": [],
   "source": [
    "# Atlas mental health workers dataset\n",
    "atlas_mental_health_workers_schema = types.StructType([\n",
    "    types.StructField(\"mh_country_code\", types.StringType()),\n",
    "    types.StructField(\"mh_num_psychiatrists\", types.FloatType()),\n",
    "    types.StructField(\"mh_num_nurses\", types.FloatType()),\n",
    "    types.StructField(\"mh_num_psychologists\", types.FloatType()),\n",
    "    types.StructField(\"mh_num_social_workers\", types.FloatType()),\n",
    "    types.StructField(\"mh_num_other_specialized_workers\", types.FloatType()),\n",
    "    types.StructField(\"mh_num_total_mental_health_workers\", types.FloatType()),\n",
    "    types.StructField(\"mh_num_total_mental_health_workers_2014\", types.FloatType()),\n",
    "    types.StructField(\"mh_num_total_mental_health_workers_2017\", types.FloatType()),\n",
    "    types.StructField(\"mh_num_total_mental_health_workers_2020\", types.FloatType()),\n",
    "    types.StructField(\"mh_num_child_psychiatrists\", types.FloatType()),\n",
    "    types.StructField(\"mh_num_child_mental_health_workers\", types.FloatType()),\n",
    "])\n",
    "\n",
    "atlas_mental_health_workers_df = spark.read.csv(\"datasets_output/atlas_fact_dims/atlas_mental_health_workers_info_dims/\", schema=atlas_mental_health_workers_schema)"
   ]
  },
  {
   "cell_type": "code",
   "execution_count": 30,
   "id": "f4cfdb6a",
   "metadata": {},
   "outputs": [],
   "source": [
    "atlas_mental_health_workers_df = atlas_mental_health_workers_df.fillna(-1, subset=[\"mh_num_psychiatrists\", \"mh_num_nurses\", \"mh_num_psychologists\", \"mh_num_social_workers\", \"mh_num_other_specialized_workers\", \"mh_num_total_mental_health_workers\", \"mh_num_total_mental_health_workers_2014\", \"mh_num_total_mental_health_workers_2017\", \"mh_num_total_mental_health_workers_2020\", \"mh_num_child_psychiatrists\", \"mh_num_child_mental_health_workers\"])"
   ]
  },
  {
   "cell_type": "code",
   "execution_count": 31,
   "id": "c0a9e920",
   "metadata": {},
   "outputs": [],
   "source": [
    "# atlas_mental_health_workers_df.show()"
   ]
  },
  {
   "cell_type": "code",
   "execution_count": 32,
   "id": "cd405259",
   "metadata": {},
   "outputs": [],
   "source": [
    "exp_vs_social_workers_df = atlas_exp_and_pay_df.select([\"ep_country_code\", \"govt_exp_mental_health_%_budget\"]).join(atlas_mental_health_workers_df.select([\"mh_country_code\", \"mh_num_total_mental_health_workers\"]).hint(\"broadcast\"), (atlas_exp_and_pay_df[\"ep_country_code\"]==atlas_mental_health_workers_df[\"mh_country_code\"])).drop(\"mh_country_code\")\n",
    "exp_vs_social_workers_df = exp_vs_social_workers_df.join(atlas_basic_combined.select([\"basic_country_code\", \"basic_population\", \"basic_income_group\", \"facts_country_name\"]).hint(\"broadcast\"), (atlas_basic_combined[\"basic_country_code\"]==exp_vs_social_workers_df[\"ep_country_code\"]))\n",
    "exp_vs_social_workers_df = exp_vs_social_workers_df.drop(\"ep_country_code\")"
   ]
  },
  {
   "cell_type": "code",
   "execution_count": 33,
   "id": "7d2dc8e3",
   "metadata": {},
   "outputs": [],
   "source": [
    "# Save this\n",
    "exp_vs_social_workers_pd_df = exp_vs_social_workers_df.toPandas()"
   ]
  },
  {
   "cell_type": "code",
   "execution_count": 34,
   "id": "c09f52f2",
   "metadata": {},
   "outputs": [],
   "source": [
    "save_pandas_csv(exp_vs_social_workers_pd_df, \"csv_out/atlas+gmh\", \"exp_vs_social_workers_pd_df\")"
   ]
  },
  {
   "cell_type": "code",
   "execution_count": 35,
   "id": "83325041",
   "metadata": {},
   "outputs": [],
   "source": [
    "# exp_vs_social_workers_pd_df"
   ]
  },
  {
   "cell_type": "markdown",
   "id": "84c103f9",
   "metadata": {},
   "source": [
    "Facilities + programs score + mental health expenditure and preparedness"
   ]
  },
  {
   "cell_type": "code",
   "execution_count": 36,
   "id": "278ede26",
   "metadata": {},
   "outputs": [],
   "source": [
    "# Atlas facilities dataset\n",
    "atlas_facilities_schema = types.StructType([\n",
    "    types.StructField(\"facilities_country_code\", types.StringType()),\n",
    "    types.StructField(\"outpatient_facilities_attached_to_hospitals\", types.FloatType()),\n",
    "    types.StructField(\"outpatient_facilities_not_attached_to_hospitals\", types.FloatType()),\n",
    "    types.StructField(\"other_outpatient_facilities\", types.FloatType()),\n",
    "    types.StructField(\"children_specific_outpatient_facilities\", types.FloatType()),\n",
    "    types.StructField(\"inpatient_hospitals\", types.FloatType()),\n",
    "    types.StructField(\"inpatient_psychiatric_units\", types.FloatType()),\n",
    "    types.StructField(\"community_residential_facilities\", types.FloatType()),\n",
    "    types.StructField(\"children_specific_inpatient_facilities\", types.FloatType()),\n",
    "    types.StructField(\"mental_hospital_beds\", types.FloatType()),\n",
    "    types.StructField(\"psych_bed\", types.FloatType()),\n",
    "    types.StructField(\"community_beds\", types.FloatType()),\n",
    "    types.StructField(\"children_specific_beds\", types.FloatType()),\n",
    "    types.StructField(\"total_community_facilities\", types.FloatType()),\n",
    "])\n",
    "\n",
    "atlas_facilities_info = spark.read.csv(\"datasets_output/atlas_fact_dims/atlas_mental_health_facilities_info_dims/\", schema=atlas_facilities_schema)"
   ]
  },
  {
   "cell_type": "code",
   "execution_count": 37,
   "id": "180d548f",
   "metadata": {},
   "outputs": [],
   "source": [
    "atlas_facilities_info = atlas_facilities_info.fillna(-1)\n",
    "# atlas_facilities_info.show()"
   ]
  },
  {
   "cell_type": "code",
   "execution_count": 38,
   "id": "5c24f844",
   "metadata": {},
   "outputs": [],
   "source": [
    "# To assign scores to the countries, we want to take i*10-th percentiles and then sum for all facilities\n",
    "\n",
    "column_percentiles = {}\n",
    "for column in atlas_facilities_info.columns:\n",
    "    if column == \"facilities_country_code\":\n",
    "        continue\n",
    "    column_percentiles[column] = atlas_facilities_info.approxQuantile(column, [0.1, 0.2, 0.3, 0.4, 0.5, 0.6, 0.7, 0.8, 0.9], 0.001)"
   ]
  },
  {
   "cell_type": "code",
   "execution_count": 39,
   "id": "42bf1f6c",
   "metadata": {},
   "outputs": [],
   "source": [
    "@F.udf(returnType=types.FloatType())\n",
    "def convert_to_score(value, _array):\n",
    "    if value > _array[0][8]: # higher than the 90th-percentile\n",
    "        return 0.99\n",
    "    elif value > _array[0][7]:\n",
    "        return 0.88\n",
    "    elif value > _array[0][6]:\n",
    "        return 0.77\n",
    "    elif value > _array[0][5]:\n",
    "        return 0.66\n",
    "    elif value > _array[0][4]:\n",
    "        return 0.55\n",
    "    elif value > _array[0][3]:\n",
    "        return 0.44\n",
    "    elif value > _array[0][2]:\n",
    "        return 0.33\n",
    "    elif value > _array[0][1]:\n",
    "        return 0.22\n",
    "    elif value > _array[0][0]:\n",
    "        return 0.11\n",
    "    else:\n",
    "        return 0.0"
   ]
  },
  {
   "cell_type": "code",
   "execution_count": 40,
   "id": "738cb596",
   "metadata": {},
   "outputs": [],
   "source": [
    "atlas_facilities_info_scored = atlas_facilities_info\n",
    "for column in atlas_facilities_info.columns:\n",
    "    if column in [\"facilities_country_code\", \"mental_hospital_beds\", \"psych_bed\", \"community_beds\", \"children_specific_beds\"]:\n",
    "        continue\n",
    "    atlas_facilities_info_scored = atlas_facilities_info_scored.withColumn(column+\"_score\", convert_to_score(column, F.array(F.lit(column_percentiles[column]))))"
   ]
  },
  {
   "cell_type": "code",
   "execution_count": 41,
   "id": "32bada3b",
   "metadata": {
    "scrolled": true
   },
   "outputs": [
    {
     "name": "stdout",
     "output_type": "stream",
     "text": [
      "+-----------------------+----------------------+\n",
      "|facilities_country_code|total_facilities_score|\n",
      "+-----------------------+----------------------+\n",
      "|                    POL|                  6.71|\n",
      "|                    BHR|                  2.53|\n",
      "|                    IRN|             6.9299994|\n",
      "|                    BWA|                   1.1|\n",
      "|                    BIH|             3.9600003|\n",
      "|                    HUN|             5.9399996|\n",
      "|                    FJI|                  1.87|\n",
      "|                    THA|             5.6099997|\n",
      "|                    IDN|                  6.71|\n",
      "|                    IRL|                  5.17|\n",
      "|                    VUT|                  2.75|\n",
      "|                    COL|                  3.63|\n",
      "|                    GRC|                  6.05|\n",
      "|                    ERI|                  1.87|\n",
      "|                    SYR|             2.9699998|\n",
      "|                    BRA|             5.6099997|\n",
      "|                    ZWE|                  0.99|\n",
      "|                    BGR|             5.0600004|\n",
      "|                    DNK|                  2.97|\n",
      "|                    SRB|                  3.85|\n",
      "+-----------------------+----------------------+\n",
      "only showing top 20 rows\n",
      "\n"
     ]
    }
   ],
   "source": [
    "atlas_facilities_info_scored = atlas_facilities_info_scored.withColumn(\"total_facilities_score\", F.col(\"outpatient_facilities_attached_to_hospitals_score\")+F.col(\"children_specific_outpatient_facilities_score\")+F.col(\"inpatient_hospitals_score\")+F.col(\"inpatient_psychiatric_units_score\")+F.col(\"community_residential_facilities_score\")+F.col(\"children_specific_inpatient_facilities_score\")+F.col(\"total_community_facilities_score\")).select([\"facilities_country_code\", \"total_facilities_score\"])\n",
    "atlas_facilities_info_scored.show()"
   ]
  },
  {
   "cell_type": "code",
   "execution_count": 42,
   "id": "387783f2",
   "metadata": {},
   "outputs": [],
   "source": [
    "@F.udf(returnType=types.IntegerType())\n",
    "def convert_to_binary(value):\n",
    "    if value is None:\n",
    "        return 0\n",
    "    else:\n",
    "        return 1"
   ]
  },
  {
   "cell_type": "code",
   "execution_count": 43,
   "id": "4bc2b7f7",
   "metadata": {},
   "outputs": [],
   "source": [
    "atlas_programs_combined_binarized = atlas_programs_combined\n",
    "for column in atlas_programs_combined_binarized.columns:\n",
    "    if column in [\"program_country_code\", \"facts_country_name\", \"facts_country_code\", \"facts_un_region\"]:\n",
    "        continue\n",
    "    atlas_programs_combined_binarized = atlas_programs_combined_binarized.withColumn(column, convert_to_binary(F.col(column)))"
   ]
  },
  {
   "cell_type": "code",
   "execution_count": 44,
   "id": "41b6b990",
   "metadata": {},
   "outputs": [],
   "source": [
    "atlas_programs_scored = atlas_programs_combined_binarized.withColumn(\"total_program_score\", F.col(\"program_suicide_prevention_program\")+F.col(\"program_awareness_anti_stigma_program\")+F.col(\"program_early_child_development_program\")+F.col(\"program_school_based_program\")+F.col(\"program_parental_health_program\")+F.col(\"program_work_related_program\")+F.col(\"program_disaster_preparation_program\")).select([\"program_country_code\", \"facts_country_name\", \"total_program_score\", \"facts_un_region\"])"
   ]
  },
  {
   "cell_type": "code",
   "execution_count": 45,
   "id": "ce9dfa76",
   "metadata": {},
   "outputs": [],
   "source": [
    "# atlas_programs_scored.show()"
   ]
  },
  {
   "cell_type": "code",
   "execution_count": 46,
   "id": "29d0179a",
   "metadata": {},
   "outputs": [
    {
     "name": "stdout",
     "output_type": "stream",
     "text": [
      "+---------------+-------------------------------------------+\n",
      "|ep_country_code|total_govt_exp_mental_health_%_budget_score|\n",
      "+---------------+-------------------------------------------+\n",
      "|            IDN|                                       0.77|\n",
      "|            IRL|                                       0.99|\n",
      "|            VUT|                                       0.55|\n",
      "|            COL|                                       0.66|\n",
      "|            POL|                                       0.77|\n",
      "|            BHR|                                       0.88|\n",
      "|            IRN|                                        0.0|\n",
      "|            BWA|                                        0.0|\n",
      "|            NPL|                                       0.55|\n",
      "|            ZMB|                                       0.55|\n",
      "|            MMR|                                       0.66|\n",
      "|            SGP|                                        0.0|\n",
      "|            BIH|                                        0.0|\n",
      "|            HUN|                                       0.77|\n",
      "|            FJI|                                       0.55|\n",
      "|            THA|                                       0.77|\n",
      "|            UGA|                                       0.77|\n",
      "|            TKM|                                       0.66|\n",
      "|            FRA|                                       0.99|\n",
      "|            HND|                                       0.66|\n",
      "+---------------+-------------------------------------------+\n",
      "only showing top 20 rows\n",
      "\n"
     ]
    }
   ],
   "source": [
    "atlas_mh_expenditure_temp = atlas_exp_and_pay_df.select([\"ep_country_code\", \"govt_exp_mental_health_%_budget\"])\n",
    "column_percentiles[\"govt_exp_mental_health_%_budget\"] = atlas_mh_expenditure_temp.approxQuantile(\"govt_exp_mental_health_%_budget\", [0.1, 0.2, 0.3, 0.4, 0.5, 0.6, 0.7, 0.8, 0.9], 0.001)\n",
    "atlas_mh_expenditure_temp = atlas_mh_expenditure_temp.withColumn(\"total_govt_exp_mental_health_%_budget_score\", convert_to_score(\"govt_exp_mental_health_%_budget\", F.array(F.lit(column_percentiles[\"govt_exp_mental_health_%_budget\"])))).select([\"ep_country_code\", \"total_govt_exp_mental_health_%_budget_score\"])\n",
    "atlas_mh_expenditure_temp.show()"
   ]
  },
  {
   "cell_type": "code",
   "execution_count": 47,
   "id": "cd2477f0",
   "metadata": {},
   "outputs": [],
   "source": [
    "final_score_df = atlas_facilities_info_scored.join(atlas_programs_scored.hint(\"broadcast\"), (atlas_facilities_info_scored[\"facilities_country_code\"]==atlas_programs_scored[\"program_country_code\"])).join(atlas_mh_expenditure_temp, (atlas_facilities_info_scored[\"facilities_country_code\"]==atlas_mh_expenditure_temp[\"ep_country_code\"]))"
   ]
  },
  {
   "cell_type": "code",
   "execution_count": 48,
   "id": "061b267e",
   "metadata": {},
   "outputs": [],
   "source": [
    "final_score_df = final_score_df.withColumn(\"total_score\", F.col(\"total_facilities_score\")+F.col(\"total_program_score\")+F.col(\"total_govt_exp_mental_health_%_budget_score\")).select([\"facts_country_name\", \"facts_un_region\", \"total_score\"])"
   ]
  },
  {
   "cell_type": "code",
   "execution_count": 49,
   "id": "97b73e97",
   "metadata": {},
   "outputs": [],
   "source": [
    "# Save this\n",
    "final_score_df_pd = final_score_df.toPandas()"
   ]
  },
  {
   "cell_type": "code",
   "execution_count": 50,
   "id": "922d2576",
   "metadata": {},
   "outputs": [],
   "source": [
    "save_pandas_csv(final_score_df_pd, \"csv_out/atlas+gmh\", \"final_score_df_pd\")"
   ]
  },
  {
   "cell_type": "code",
   "execution_count": 51,
   "id": "ad112e02",
   "metadata": {},
   "outputs": [
    {
     "name": "stderr",
     "output_type": "stream",
     "text": [
      "                                                                                \r"
     ]
    }
   ],
   "source": [
    "final_score_df = final_score_df.orderBy(F.desc(F.col(\"total_score\")))\n",
    "top_5_countries = final_score_df.limit(5)\n",
    "bottom_5_countries = spark.createDataFrame(final_score_df.tail(5))"
   ]
  },
  {
   "cell_type": "code",
   "execution_count": 52,
   "id": "1cd7a7cd",
   "metadata": {},
   "outputs": [],
   "source": [
    "top_bottom_countries = top_5_countries.union(bottom_5_countries)"
   ]
  },
  {
   "cell_type": "code",
   "execution_count": 53,
   "id": "2a90bf49",
   "metadata": {
    "scrolled": true
   },
   "outputs": [
    {
     "name": "stdout",
     "output_type": "stream",
     "text": [
      "+--------------------------------+-------------------------+------------------+\n",
      "|facts_country_name              |facts_un_region          |total_score       |\n",
      "+--------------------------------+-------------------------+------------------+\n",
      "|Republic of Indonesia           |South-eastern Asia       |14.479999542236328|\n",
      "|Islamic Republic of Iran        |Southern Asia            |13.929999351501465|\n",
      "|Federal Republic of Germany     |Western Europe           |13.819999694824219|\n",
      "|Commonwealth of Australia       |Australia and New Zealand|13.600000381469727|\n",
      "|Republic of Ghana               |Western Africa           |13.489999771118164|\n",
      "|Kingdom of Cambodia             |South-eastern Asia       |0.2199999988079071|\n",
      "|Solomon Islands                 |Melanesia                |0.2199999988079071|\n",
      "|Republic of Equatorial Guinea   |Middle Africa            |0.0               |\n",
      "|Lao People's Democratic Republic|South-eastern Asia       |0.0               |\n",
      "|Republic of Burundi             |Eastern Africa           |0.0               |\n",
      "+--------------------------------+-------------------------+------------------+\n",
      "\n"
     ]
    }
   ],
   "source": [
    "top_bottom_countries.show(truncate=False)"
   ]
  },
  {
   "cell_type": "code",
   "execution_count": 54,
   "id": "06a1ea45",
   "metadata": {},
   "outputs": [],
   "source": [
    "# Save this\n",
    "top_bottom_countries_pd_df = top_bottom_countries.toPandas()"
   ]
  },
  {
   "cell_type": "code",
   "execution_count": 55,
   "id": "f383194f",
   "metadata": {},
   "outputs": [],
   "source": [
    "save_pandas_csv(top_bottom_countries_pd_df, \"csv_out/atlas+gmh\", \"top_bottom_countries_pd_df\")"
   ]
  }
 ],
 "metadata": {
  "kernelspec": {
   "display_name": "Python 3 (ipykernel)",
   "language": "python",
   "name": "python3"
  },
  "language_info": {
   "codemirror_mode": {
    "name": "ipython",
    "version": 3
   },
   "file_extension": ".py",
   "mimetype": "text/x-python",
   "name": "python",
   "nbconvert_exporter": "python",
   "pygments_lexer": "ipython3",
   "version": "3.8.15"
  }
 },
 "nbformat": 4,
 "nbformat_minor": 5
}
