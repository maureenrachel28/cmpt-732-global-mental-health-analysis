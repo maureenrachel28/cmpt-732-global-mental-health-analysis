{
 "cells": [
  {
   "cell_type": "code",
   "execution_count": null,
   "id": "339783a9",
   "metadata": {},
   "outputs": [],
   "source": [
    "import os\n",
    "from pyspark.sql import SparkSession, types\n",
    "from pyspark.sql import functions as F, Row\n",
    "\n",
    "spark = SparkSession.builder.getOrCreate()"
   ]
  },
  {
   "cell_type": "code",
   "execution_count": null,
   "id": "abe9236b",
   "metadata": {},
   "outputs": [],
   "source": [
    "import numpy as np\n",
    "import pandas as pd\n",
    "import matplotlib.pyplot as plt\n",
    "import seaborn as sns\n",
    "import mplcursors\n",
    "import plotly.express as px"
   ]
  },
  {
   "cell_type": "code",
   "execution_count": null,
   "id": "27ad6a33",
   "metadata": {},
   "outputs": [],
   "source": [
    "from countryguess import guess_country"
   ]
  },
  {
   "cell_type": "markdown",
   "id": "51d97187",
   "metadata": {},
   "source": [
    "# Global Health Data Analysis"
   ]
  },
  {
   "cell_type": "markdown",
   "id": "15342f58",
   "metadata": {},
   "source": [
    "TODO: Create a dimension table of country-code and join with relevant fact tables, otherwise it's just too messy"
   ]
  },
  {
   "cell_type": "markdown",
   "id": "a97afe59",
   "metadata": {},
   "source": [
    "<ol>\n",
    "    <li>Trend of schizophrenia, BPD, eating disorders, anxiety disorders, drug use disorders, depression, alcohol use disorders for each country over 1990-2019</li>\n",
    "    <li>Compare between countries in different regions</li>\n",
    "    <li>For each region/country, which is the fastest growing problem?</li>\n",
    "    <li>For each problem, which region/country shows the fastest growth?</li>\n",
    "    <li>Are there any correlations between problems? What countries support that correlation?</li>\n",
    "    <li>Effects of major events like COVID, war, economic crises etc.</li>\n",
    "</ol>"
   ]
  },
  {
   "cell_type": "markdown",
   "id": "fbd0321b",
   "metadata": {},
   "source": [
    "### Beginning data exploration bits"
   ]
  },
  {
   "cell_type": "code",
   "execution_count": null,
   "id": "f57fbd07",
   "metadata": {},
   "outputs": [],
   "source": [
    "input_data_dir = \"Datasets/Global Health Data Analysis 1990-2019/Mental health 2023/CSV\""
   ]
  },
  {
   "cell_type": "code",
   "execution_count": null,
   "id": "e92dc13a",
   "metadata": {},
   "outputs": [],
   "source": [
    "print(os.listdir(input_data_dir)) # List of data files"
   ]
  },
  {
   "cell_type": "markdown",
   "id": "404875d8",
   "metadata": {},
   "source": [
    "### Mental health depression disorder data"
   ]
  },
  {
   "cell_type": "code",
   "execution_count": null,
   "id": "4b8c43da",
   "metadata": {},
   "outputs": [],
   "source": [
    "# Read the file with the headers given, so that we don't have to specify a schema\n",
    "mhdd_df = spark.read.option(\"header\", True).csv(input_data_dir + \"/Mental health Depression disorder Data.csv\")"
   ]
  },
  {
   "cell_type": "code",
   "execution_count": null,
   "id": "dcd14e0a",
   "metadata": {},
   "outputs": [],
   "source": [
    "# Inspect the columns that are there\n",
    "mhdd_df.printSchema()"
   ]
  },
  {
   "cell_type": "code",
   "execution_count": null,
   "id": "6c9c45ad",
   "metadata": {},
   "outputs": [],
   "source": [
    "# Take a sample of the first 5 rows of the dataframe\n",
    "# mhdd_df.show(5, truncate=False)"
   ]
  },
  {
   "cell_type": "markdown",
   "id": "2db45161",
   "metadata": {},
   "source": [
    "Transformation 1: There are a lot of weird dates on the data. Some ranging all the way back to BCE. We want data only from 1990-2023 because it is more likely to be relevat and properly documented."
   ]
  },
  {
   "cell_type": "code",
   "execution_count": null,
   "id": "52700e06",
   "metadata": {},
   "outputs": [],
   "source": [
    "mhdd_df.select([\"Year\"]).distinct().show()"
   ]
  },
  {
   "cell_type": "code",
   "execution_count": null,
   "id": "324a843e",
   "metadata": {},
   "outputs": [],
   "source": [
    "date_filtered_mhdd_df = mhdd_df.filter(mhdd_df[\"Year\"].isin([str(i) for i in range(1990, 2024)])) # Filter for 1990-2023"
   ]
  },
  {
   "cell_type": "code",
   "execution_count": null,
   "id": "5913d98b",
   "metadata": {},
   "outputs": [],
   "source": [
    "date_filtered_mhdd_df.select([\"Year\"]).distinct().show()"
   ]
  },
  {
   "cell_type": "markdown",
   "id": "d107068b",
   "metadata": {},
   "source": [
    "Transformation 2: Inspect and get rid of rows that have values > 100% for any of the percentage occurrences"
   ]
  },
  {
   "cell_type": "code",
   "execution_count": null,
   "id": "55d44703",
   "metadata": {},
   "outputs": [],
   "source": [
    "erroneous_vals_filtered_mhdd_df = date_filtered_mhdd_df.filter(~((date_filtered_mhdd_df[\"Schizophrenia (%)\"]>100) | (date_filtered_mhdd_df[\"Bipolar disorder (%)\"]>100) | (date_filtered_mhdd_df[\"Eating disorders (%)\"]>100) | (date_filtered_mhdd_df[\"Drug use disorders (%)\"]>100) | (date_filtered_mhdd_df[\"Depression (%)\"]>100) | (date_filtered_mhdd_df[\"Alcohol use disorders (%)\"]>100)))"
   ]
  },
  {
   "cell_type": "code",
   "execution_count": null,
   "id": "23528fce",
   "metadata": {},
   "outputs": [],
   "source": [
    "erroneous_vals_filtered_mhdd_df.filter(date_filtered_mhdd_df[\"Entity\"]==\"Afghanistan\").show()"
   ]
  },
  {
   "cell_type": "markdown",
   "id": "4d4022ad",
   "metadata": {},
   "source": [
    "No null values! YAY!"
   ]
  },
  {
   "cell_type": "code",
   "execution_count": null,
   "id": "435573eb",
   "metadata": {},
   "outputs": [],
   "source": [
    "erroneous_vals_filtered_mhdd_df.filter((date_filtered_mhdd_df[\"Schizophrenia (%)\"].isNull()) | (date_filtered_mhdd_df[\"Bipolar disorder (%)\"].isNull()) | (date_filtered_mhdd_df[\"Eating disorders (%)\"].isNull()) | (date_filtered_mhdd_df[\"Drug use disorders (%)\"].isNull()) | (date_filtered_mhdd_df[\"Depression (%)\"].isNull()) | (date_filtered_mhdd_df[\"Alcohol use disorders (%)\"].isNull())).show()"
   ]
  },
  {
   "cell_type": "markdown",
   "id": "2774c5b2",
   "metadata": {},
   "source": [
    "Transformation 3: Select countries that are present in both datasets after unifying names across the board"
   ]
  },
  {
   "cell_type": "code",
   "execution_count": null,
   "id": "1711061e",
   "metadata": {},
   "outputs": [],
   "source": [
    "country_fact_schema = types.StructType([\n",
    "    types.StructField('country_name', types.StringType()),\n",
    "    types.StructField('country_code', types.StringType()),\n",
    "    types.StructField('un_region', types.StringType()),\n",
    "])"
   ]
  },
  {
   "cell_type": "code",
   "execution_count": null,
   "id": "55dff02f",
   "metadata": {},
   "outputs": [],
   "source": [
    "atlas_countries_df = spark.read.csv(\"Datasets/temp_atlas_outputs/atlas_countries_facts\", schema=country_fact_schema)"
   ]
  },
  {
   "cell_type": "code",
   "execution_count": null,
   "id": "1151a889",
   "metadata": {},
   "outputs": [],
   "source": [
    "atlas_countries_df.show()"
   ]
  },
  {
   "cell_type": "code",
   "execution_count": null,
   "id": "f30ffa01",
   "metadata": {},
   "outputs": [],
   "source": [
    "mhdd_df_countries = erroneous_vals_filtered_mhdd_df.select([\"Entity\"]).distinct().collect() # List of countries in MHDD\n",
    "mhdd_df_countries_list = [mhdd_df_countries[i][\"Entity\"] for i in range(len(mhdd_df_countries))]"
   ]
  },
  {
   "cell_type": "code",
   "execution_count": null,
   "id": "79b9b51b",
   "metadata": {},
   "outputs": [],
   "source": [
    "print(len(mhdd_df_countries_list))"
   ]
  },
  {
   "cell_type": "code",
   "execution_count": null,
   "id": "42a8ac6e",
   "metadata": {},
   "outputs": [],
   "source": [
    "atlas_countries_merged = erroneous_vals_filtered_mhdd_df.join(atlas_countries_df.hint(\"broadcast\"), (atlas_countries_df['country_code'] == erroneous_vals_filtered_mhdd_df['Code']))"
   ]
  },
  {
   "cell_type": "code",
   "execution_count": null,
   "id": "53729866",
   "metadata": {},
   "outputs": [],
   "source": [
    "atlas_countries_merged.printSchema()"
   ]
  },
  {
   "cell_type": "code",
   "execution_count": null,
   "id": "c4e84d29",
   "metadata": {},
   "outputs": [],
   "source": [
    "atlas_countries_merged = atlas_countries_merged.drop(\"Entity\").drop(\"index\").drop(\"Code\")\n",
    "atlas_countries_merged = atlas_countries_merged.withColumnsRenamed({\n",
    "    \"Year\": \"year\",\n",
    "    \"Schizophrenia (%)\": \"schizophrenia_%\",\n",
    "    \"Bipolar disorder (%)\": \"bipolar_disorder_%\",\n",
    "    \"Eating disorders (%)\": \"eating_disorders_%\",\n",
    "    \"Anxiety disorders (%)\": \"anxiety_disorders_%\",\n",
    "    \"Drug use disorders (%)\": \"drug_use_disorders_%\",\n",
    "    \"Depression (%)\": \"depression_%\",\n",
    "    \"Alcohol use disorders (%)\": \"alcohol_use_disorders_%\",\n",
    "}).select([\n",
    "    \"country_name\",\n",
    "    \"country_code\",\n",
    "    \"un_region\",\n",
    "    \"year\",\n",
    "    \"schizophrenia_%\",\n",
    "    \"bipolar_disorder_%\",\n",
    "    \"eating_disorders_%\",\n",
    "    \"anxiety_disorders_%\",\n",
    "    \"drug_use_disorders_%\",\n",
    "    \"depression_%\",\n",
    "    \"alcohol_use_disorders_%\"\n",
    "])"
   ]
  },
  {
   "cell_type": "code",
   "execution_count": null,
   "id": "5b66232c",
   "metadata": {
    "scrolled": true
   },
   "outputs": [],
   "source": [
    "atlas_countries_merged.show()"
   ]
  },
  {
   "cell_type": "code",
   "execution_count": null,
   "id": "f7a9c27e",
   "metadata": {},
   "outputs": [],
   "source": [
    "output_atlas_countries_merged = \"Datasets/global_mental_health_csvs/atlas_countries_merged\"\n",
    "atlas_countries_merged.write.csv(output_atlas_countries_merged, mode=\"overwrite\")"
   ]
  },
  {
   "cell_type": "markdown",
   "id": "6e723fa1",
   "metadata": {},
   "source": [
    "### Prevalence of depression (male vs. female)"
   ]
  },
  {
   "cell_type": "code",
   "execution_count": null,
   "id": "829987b7",
   "metadata": {},
   "outputs": [],
   "source": [
    "dep_mf_df = spark.read.option(\"header\", True).csv(input_data_dir + \"/prevalence-of-depression-males-vs-females.csv\")"
   ]
  },
  {
   "cell_type": "code",
   "execution_count": null,
   "id": "69df86cd",
   "metadata": {},
   "outputs": [],
   "source": [
    "dep_mf_df.printSchema() # Rename columns"
   ]
  },
  {
   "cell_type": "code",
   "execution_count": null,
   "id": "a5aeba0a",
   "metadata": {},
   "outputs": [],
   "source": [
    "dep_mf_df.show(5, truncate=False)"
   ]
  },
  {
   "cell_type": "code",
   "execution_count": null,
   "id": "94638940",
   "metadata": {},
   "outputs": [],
   "source": [
    "dep_mf_df.select([\"Entity\"]).distinct().count()"
   ]
  },
  {
   "cell_type": "code",
   "execution_count": null,
   "id": "fcdbc484",
   "metadata": {},
   "outputs": [],
   "source": [
    "dep_mf_df.select([\"Year\"]).distinct().show()"
   ]
  },
  {
   "cell_type": "markdown",
   "id": "bf291182",
   "metadata": {},
   "source": [
    "Transformation 1: There are a lot of weird dates on the data. Some ranging all the way back to BCE. We want data only from 1990-2023 because it is more likely to be relevat and properly documented."
   ]
  },
  {
   "cell_type": "code",
   "execution_count": null,
   "id": "020e019d",
   "metadata": {},
   "outputs": [],
   "source": [
    "date_filtered_dep_mf_df = dep_mf_df.filter(dep_mf_df[\"Year\"].isin([str(i) for i in range(1990, 2024)])) # Filter for 1990-2023"
   ]
  },
  {
   "cell_type": "code",
   "execution_count": null,
   "id": "c02a96a9",
   "metadata": {
    "scrolled": true
   },
   "outputs": [],
   "source": [
    "date_filtered_dep_mf_df.select([\"Year\"]).distinct().show()"
   ]
  },
  {
   "cell_type": "markdown",
   "id": "a95530b0",
   "metadata": {},
   "source": [
    "Transformation 2: Rename columns"
   ]
  },
  {
   "cell_type": "code",
   "execution_count": null,
   "id": "02c16eb3",
   "metadata": {},
   "outputs": [],
   "source": [
    "date_filtered_dep_mf_df = date_filtered_dep_mf_df.withColumnsRenamed({\n",
    "    \"Prevalence - Depressive disorders - Sex: Male - Age: Age-standardized (Percent)\": \"male_depression_prevalence_%\",\n",
    "    \"Prevalence - Depressive disorders - Sex: Female - Age: Age-standardized (Percent)\": \"female_depression_prevalence_%\",\n",
    "    \"Population (historical estimates)\": \"Population\"\n",
    "})"
   ]
  },
  {
   "cell_type": "code",
   "execution_count": null,
   "id": "7b2d84c7",
   "metadata": {},
   "outputs": [],
   "source": [
    "date_filtered_dep_mf_df.filter(date_filtered_dep_mf_df[\"Year\"]==2017).show()"
   ]
  },
  {
   "cell_type": "markdown",
   "id": "9701fac1",
   "metadata": {},
   "source": [
    "Transformation 3: Deal with null values"
   ]
  },
  {
   "cell_type": "code",
   "execution_count": null,
   "id": "4f84ffbf",
   "metadata": {},
   "outputs": [],
   "source": [
    "null_filtered_dep_mf_df = date_filtered_dep_mf_df.filter(~((date_filtered_dep_mf_df[\"male_depression_prevalence_%\"].isNull()) | (date_filtered_dep_mf_df[\"female_depression_prevalence_%\"].isNull())))"
   ]
  },
  {
   "cell_type": "code",
   "execution_count": null,
   "id": "47f44a42",
   "metadata": {},
   "outputs": [],
   "source": [
    "null_filtered_dep_mf_df.filter((null_filtered_dep_mf_df[\"Entity\"]==\"Nigeria\") & (null_filtered_dep_mf_df[\"Year\"]>2005)).show()"
   ]
  },
  {
   "cell_type": "markdown",
   "id": "3055869b",
   "metadata": {},
   "source": [
    "Transformation 4: Merge with countries in Atlas Dataset"
   ]
  },
  {
   "cell_type": "code",
   "execution_count": null,
   "id": "3d5db8af",
   "metadata": {},
   "outputs": [],
   "source": [
    "final_dep_mf_df = null_filtered_dep_mf_df.join(atlas_countries_df.hint(\"broadcast\"), (atlas_countries_df['country_code'] == null_filtered_dep_mf_df['Code']))"
   ]
  },
  {
   "cell_type": "code",
   "execution_count": null,
   "id": "7cabd1ce",
   "metadata": {},
   "outputs": [],
   "source": [
    "final_dep_mf_df.printSchema()"
   ]
  },
  {
   "cell_type": "code",
   "execution_count": null,
   "id": "be6115a0",
   "metadata": {},
   "outputs": [],
   "source": [
    "final_dep_mf_df = final_dep_mf_df.drop(\"Entity\").drop(\"index\").drop(\"Code\").drop(\"Continent\").drop(\"Population\")\n",
    "final_dep_mf_df = final_dep_mf_df.withColumnsRenamed({\n",
    "    \"Year\": \"year\",\n",
    "}).select([\n",
    "    \"country_name\",\n",
    "    \"country_code\",\n",
    "    \"un_region\",\n",
    "    \"year\",\n",
    "    \"male_depression_prevalence_%\",\n",
    "    \"female_depression_prevalence_%\"\n",
    "])"
   ]
  },
  {
   "cell_type": "code",
   "execution_count": null,
   "id": "eb101035",
   "metadata": {
    "scrolled": true
   },
   "outputs": [],
   "source": [
    "final_dep_mf_df.show()"
   ]
  },
  {
   "cell_type": "code",
   "execution_count": null,
   "id": "042c2edd",
   "metadata": {},
   "outputs": [],
   "source": [
    "output_dep_mf_atlas_countries_merged = \"Datasets/global_mental_health_csvs/dep_mf_atlas_countries_merged\"\n",
    "final_dep_mf_df.write.csv(output_dep_mf_atlas_countries_merged, mode=\"overwrite\")"
   ]
  },
  {
   "cell_type": "markdown",
   "id": "87ccfe43",
   "metadata": {},
   "source": [
    "### Prevalence of eating disorders (male vs. female)"
   ]
  },
  {
   "cell_type": "code",
   "execution_count": null,
   "id": "383ecf09",
   "metadata": {},
   "outputs": [],
   "source": [
    "ed_mf_df = spark.read.option(\"header\", True).csv(input_data_dir + \"/prevalence-of-eating-disorders-in-males-vs-females.csv\")"
   ]
  },
  {
   "cell_type": "code",
   "execution_count": null,
   "id": "ab1f2a14",
   "metadata": {},
   "outputs": [],
   "source": [
    "ed_mf_df.printSchema()"
   ]
  },
  {
   "cell_type": "code",
   "execution_count": null,
   "id": "23edbfcd",
   "metadata": {},
   "outputs": [],
   "source": [
    "ed_mf_df.show(5, truncate=False)"
   ]
  },
  {
   "cell_type": "code",
   "execution_count": null,
   "id": "46fd2fd3",
   "metadata": {},
   "outputs": [],
   "source": [
    "ed_mf_df.select([\"Entity\"]).distinct().count()"
   ]
  },
  {
   "cell_type": "code",
   "execution_count": null,
   "id": "7661178a",
   "metadata": {},
   "outputs": [],
   "source": [
    "ed_mf_df.select([\"Year\"]).distinct().show()"
   ]
  },
  {
   "cell_type": "markdown",
   "id": "c8c767c0",
   "metadata": {},
   "source": [
    "Transformation 1: There are a lot of weird dates on the data. Some ranging all the way back to BCE. We want data only from 1990-2023 because it is more likely to be relevat and properly documented."
   ]
  },
  {
   "cell_type": "code",
   "execution_count": null,
   "id": "04c3e68f",
   "metadata": {},
   "outputs": [],
   "source": [
    "date_filtered_ed_mf_df = ed_mf_df.filter(ed_mf_df[\"Year\"].isin([str(i) for i in range(1990, 2024)])) # Filter for 1990-2023"
   ]
  },
  {
   "cell_type": "code",
   "execution_count": null,
   "id": "fb8dfd2b",
   "metadata": {
    "scrolled": true
   },
   "outputs": [],
   "source": [
    "date_filtered_ed_mf_df.select([\"Year\"]).distinct().show()"
   ]
  },
  {
   "cell_type": "markdown",
   "id": "55b15053",
   "metadata": {},
   "source": [
    "Transformation 2: Rename columns"
   ]
  },
  {
   "cell_type": "code",
   "execution_count": null,
   "id": "7d8edc9f",
   "metadata": {},
   "outputs": [],
   "source": [
    "date_filtered_ed_mf_df = date_filtered_ed_mf_df.withColumnsRenamed({\n",
    "    \"Prevalence - Eating disorders - Sex: Male - Age: Age-standardized (Percent)\": \"male_eating_disorders_prevalence_%\",\n",
    "    \"Prevalence - Eating disorders - Sex: Female - Age: Age-standardized (Percent)\": \"female_eating_disorders_prevalence_%\",\n",
    "    \"Population (historical estimates)\": \"population\"\n",
    "})"
   ]
  },
  {
   "cell_type": "code",
   "execution_count": null,
   "id": "94c8a5b9",
   "metadata": {},
   "outputs": [],
   "source": [
    "date_filtered_ed_mf_df.filter(date_filtered_ed_mf_df[\"Year\"]==2017).show()"
   ]
  },
  {
   "cell_type": "markdown",
   "id": "1ff532e7",
   "metadata": {},
   "source": [
    "Transformation 3: Deal with null values"
   ]
  },
  {
   "cell_type": "code",
   "execution_count": null,
   "id": "f42c10bf",
   "metadata": {},
   "outputs": [],
   "source": [
    "null_filtered_ed_mf_df = date_filtered_ed_mf_df.filter(~((date_filtered_ed_mf_df[\"male_eating_disorders_prevalence_%\"].isNull()) | (date_filtered_ed_mf_df[\"female_eating_disorders_prevalence_%\"].isNull())))"
   ]
  },
  {
   "cell_type": "code",
   "execution_count": null,
   "id": "75a8bc75",
   "metadata": {},
   "outputs": [],
   "source": [
    "null_filtered_ed_mf_df.filter((null_filtered_ed_mf_df[\"Entity\"]==\"Nigeria\") & (null_filtered_ed_mf_df[\"Year\"]>2005)).show()"
   ]
  },
  {
   "cell_type": "markdown",
   "id": "6027dd46",
   "metadata": {},
   "source": [
    "Transformation 4: Merge with Atlas countries"
   ]
  },
  {
   "cell_type": "code",
   "execution_count": null,
   "id": "13149d66",
   "metadata": {},
   "outputs": [],
   "source": [
    "ed_final_df = null_filtered_ed_mf_df.join(atlas_countries_df.hint(\"broadcast\"), (null_filtered_ed_mf_df[\"Code\"] == atlas_countries_df[\"country_code\"]))"
   ]
  },
  {
   "cell_type": "code",
   "execution_count": null,
   "id": "e65534bd",
   "metadata": {},
   "outputs": [],
   "source": [
    "ed_final_df.select([\"Entity\"]).distinct().count()"
   ]
  },
  {
   "cell_type": "code",
   "execution_count": null,
   "id": "0efac308",
   "metadata": {},
   "outputs": [],
   "source": [
    "ed_final_df.printSchema()"
   ]
  },
  {
   "cell_type": "code",
   "execution_count": null,
   "id": "bc3677ca",
   "metadata": {},
   "outputs": [],
   "source": [
    "ed_final_df = ed_final_df.drop(\"index\").drop(\"Code\").drop(\"Entity\").drop(\"Continent\").drop(\"population\").withColumnsRenamed({\n",
    "    \"Year\": \"year\",\n",
    "}).select([\n",
    "    \"country_name\",\n",
    "    \"country_code\",\n",
    "    \"un_region\",\n",
    "    \"year\",\n",
    "    \"male_eating_disorders_prevalence_%\",\n",
    "    \"female_eating_disorders_prevalence_%\",\n",
    "])"
   ]
  },
  {
   "cell_type": "code",
   "execution_count": null,
   "id": "46d5cf54",
   "metadata": {},
   "outputs": [],
   "source": [
    "ed_final_df.show()"
   ]
  },
  {
   "cell_type": "code",
   "execution_count": null,
   "id": "33918e0c",
   "metadata": {},
   "outputs": [],
   "source": [
    "output_ed_mf_atlas_countries_merged = \"Datasets/global_mental_health_csvs/ed_mf_atlas_countries_merged\"\n",
    "ed_final_df.write.csv(output_ed_mf_atlas_countries_merged, mode=\"overwrite\")"
   ]
  },
  {
   "cell_type": "markdown",
   "id": "6e7ffe1c",
   "metadata": {},
   "source": [
    "### Prevalence of anxiety disorders (male vs. female)"
   ]
  },
  {
   "cell_type": "code",
   "execution_count": null,
   "id": "42e582b6",
   "metadata": {},
   "outputs": [],
   "source": [
    "ad_mf_df = spark.read.option(\"header\", True).csv(input_data_dir + \"/prevalence-of-anxiety-disorders-males-vs-females.csv\")"
   ]
  },
  {
   "cell_type": "code",
   "execution_count": null,
   "id": "4eb26a2a",
   "metadata": {},
   "outputs": [],
   "source": [
    "ad_mf_df.printSchema()"
   ]
  },
  {
   "cell_type": "code",
   "execution_count": null,
   "id": "d0645bbf",
   "metadata": {},
   "outputs": [],
   "source": [
    "ad_mf_df.show(5, truncate=False)"
   ]
  },
  {
   "cell_type": "code",
   "execution_count": null,
   "id": "af8cd6a2",
   "metadata": {},
   "outputs": [],
   "source": [
    "ad_mf_df.select([\"Entity\"]).distinct().count()"
   ]
  },
  {
   "cell_type": "code",
   "execution_count": null,
   "id": "6c669c5c",
   "metadata": {},
   "outputs": [],
   "source": [
    "ad_mf_df.select([\"Year\"]).distinct().show()"
   ]
  },
  {
   "cell_type": "markdown",
   "id": "94ab4965",
   "metadata": {},
   "source": [
    "Transformation 1: There are a lot of weird dates on the data. Some ranging all the way back to BCE. We want data only from 1990-2023 because it is more likely to be relevat and properly documented."
   ]
  },
  {
   "cell_type": "code",
   "execution_count": null,
   "id": "d4b60913",
   "metadata": {},
   "outputs": [],
   "source": [
    "date_filtered_ad_mf_df = ad_mf_df.filter(ad_mf_df[\"Year\"].isin([str(i) for i in range(1990, 2024)])) # Filter for 1990-2023"
   ]
  },
  {
   "cell_type": "code",
   "execution_count": null,
   "id": "c9351ea6",
   "metadata": {
    "scrolled": true
   },
   "outputs": [],
   "source": [
    "date_filtered_ad_mf_df.select([\"Year\"]).distinct().show()"
   ]
  },
  {
   "cell_type": "markdown",
   "id": "e3e30b3d",
   "metadata": {},
   "source": [
    "Transformation 2: Rename columns"
   ]
  },
  {
   "cell_type": "code",
   "execution_count": null,
   "id": "61b7a208",
   "metadata": {},
   "outputs": [],
   "source": [
    "date_filtered_ad_mf_df = date_filtered_ad_mf_df.withColumnsRenamed({\n",
    "    \"Prevalence - Anxiety disorders - Sex: Male - Age: Age-standardized (Percent)\": \"male_anxiety_disorders_prevalence_%\",\n",
    "    \"Prevalence - Anxiety disorders - Sex: Female - Age: Age-standardized (Percent)\": \"female_anxiety_disorders_prevalence_%\",\n",
    "    \"Population (historical estimates)\": \"population\"\n",
    "})"
   ]
  },
  {
   "cell_type": "code",
   "execution_count": null,
   "id": "15768c4e",
   "metadata": {},
   "outputs": [],
   "source": [
    "date_filtered_ad_mf_df.filter(date_filtered_ad_mf_df[\"Year\"]==2017).show()"
   ]
  },
  {
   "cell_type": "markdown",
   "id": "92a1055e",
   "metadata": {},
   "source": [
    "Transformation 3: Deal with null values"
   ]
  },
  {
   "cell_type": "code",
   "execution_count": null,
   "id": "e12b0c57",
   "metadata": {},
   "outputs": [],
   "source": [
    "null_filtered_ad_mf_df = date_filtered_ad_mf_df.filter(~((date_filtered_ad_mf_df[\"male_anxiety_disorders_prevalence_%\"].isNull()) | (date_filtered_ad_mf_df[\"female_anxiety_disorders_prevalence_%\"].isNull())))"
   ]
  },
  {
   "cell_type": "code",
   "execution_count": null,
   "id": "015f6006",
   "metadata": {},
   "outputs": [],
   "source": [
    "null_filtered_ad_mf_df.filter((null_filtered_ad_mf_df[\"Entity\"]==\"Nigeria\") & (null_filtered_ad_mf_df[\"Year\"]>2005)).show()"
   ]
  },
  {
   "cell_type": "markdown",
   "id": "aa19143f",
   "metadata": {},
   "source": [
    "Transformation 4: Merge with Atlas countries"
   ]
  },
  {
   "cell_type": "code",
   "execution_count": null,
   "id": "081a101e",
   "metadata": {},
   "outputs": [],
   "source": [
    "ad_final_df = null_filtered_ad_mf_df.join(atlas_countries_df.hint(\"broadcast\"), (null_filtered_ad_mf_df[\"Code\"] == atlas_countries_df[\"country_code\"]))"
   ]
  },
  {
   "cell_type": "code",
   "execution_count": null,
   "id": "fbb9fb46",
   "metadata": {},
   "outputs": [],
   "source": [
    "ad_final_df.select([\"Entity\"]).distinct().count()"
   ]
  },
  {
   "cell_type": "code",
   "execution_count": null,
   "id": "d82d90ed",
   "metadata": {},
   "outputs": [],
   "source": [
    "ad_final_df.printSchema()"
   ]
  },
  {
   "cell_type": "code",
   "execution_count": null,
   "id": "f2f6ece1",
   "metadata": {},
   "outputs": [],
   "source": [
    "ad_final_df = ad_final_df.drop(\"index\").drop(\"Code\").drop(\"Entity\").drop(\"Continent\").drop(\"population\").withColumnsRenamed({\n",
    "    \"Year\": \"year\",\n",
    "}).select([\n",
    "    \"country_name\",\n",
    "    \"country_code\",\n",
    "    \"un_region\",\n",
    "    \"year\",\n",
    "    \"male_anxiety_disorders_prevalence_%\",\n",
    "    \"female_anxiety_disorders_prevalence_%\",\n",
    "])"
   ]
  },
  {
   "cell_type": "code",
   "execution_count": null,
   "id": "8b3bae17",
   "metadata": {},
   "outputs": [],
   "source": [
    "ad_final_df.show()"
   ]
  },
  {
   "cell_type": "code",
   "execution_count": null,
   "id": "40323e80",
   "metadata": {},
   "outputs": [],
   "source": [
    "output_ad_mf_atlas_countries_merged = \"Datasets/global_mental_health_csvs/ad_mf_atlas_countries_merged\"\n",
    "ad_final_df.write.csv(output_ad_mf_atlas_countries_merged, mode=\"overwrite\")"
   ]
  },
  {
   "cell_type": "markdown",
   "id": "6dae6aea",
   "metadata": {},
   "source": [
    "### Prevalence of schizophrenia (male vs. female)"
   ]
  },
  {
   "cell_type": "code",
   "execution_count": null,
   "id": "d1b65c59",
   "metadata": {},
   "outputs": [],
   "source": [
    "sch_mf_df = spark.read.option(\"header\", True).csv(input_data_dir + \"/prevalence-of-schizophrenia-in-males-vs-females.csv\")"
   ]
  },
  {
   "cell_type": "code",
   "execution_count": null,
   "id": "e5c9d509",
   "metadata": {},
   "outputs": [],
   "source": [
    "sch_mf_df.printSchema()"
   ]
  },
  {
   "cell_type": "code",
   "execution_count": null,
   "id": "f256b50d",
   "metadata": {},
   "outputs": [],
   "source": [
    "sch_mf_df.show(5, truncate=False)"
   ]
  },
  {
   "cell_type": "code",
   "execution_count": null,
   "id": "6cf5d6b6",
   "metadata": {},
   "outputs": [],
   "source": [
    "sch_mf_df.select([\"Entity\"]).distinct().count()"
   ]
  },
  {
   "cell_type": "code",
   "execution_count": null,
   "id": "69df5ad0",
   "metadata": {},
   "outputs": [],
   "source": [
    "sch_mf_df.select([\"Year\"]).distinct().show()"
   ]
  },
  {
   "cell_type": "markdown",
   "id": "e00ef528",
   "metadata": {},
   "source": [
    "Transformation 1: There are a lot of weird dates on the data. Some ranging all the way back to BCE. We want data only from 1990-2023 because it is more likely to be relevat and properly documented."
   ]
  },
  {
   "cell_type": "code",
   "execution_count": null,
   "id": "afe73905",
   "metadata": {},
   "outputs": [],
   "source": [
    "date_filtered_sch_mf_df = sch_mf_df.filter(sch_mf_df[\"Year\"].isin([str(i) for i in range(1990, 2024)])) # Filter for 1990-2023"
   ]
  },
  {
   "cell_type": "code",
   "execution_count": null,
   "id": "9475d948",
   "metadata": {
    "scrolled": true
   },
   "outputs": [],
   "source": [
    "date_filtered_sch_mf_df.select([\"Year\"]).distinct().show()"
   ]
  },
  {
   "cell_type": "markdown",
   "id": "692c34a3",
   "metadata": {},
   "source": [
    "Transformation 2: Rename columns"
   ]
  },
  {
   "cell_type": "code",
   "execution_count": null,
   "id": "c4113845",
   "metadata": {},
   "outputs": [],
   "source": [
    "date_filtered_sch_mf_df = date_filtered_sch_mf_df.withColumnsRenamed({\n",
    "    \"Prevalence - Schizophrenia - Sex: Male - Age: Age-standardized (Percent)\": \"male_schizophrenia_prevalence_%\",\n",
    "    \"Prevalence - Schizophrenia - Sex: Female - Age: Age-standardized (Percent)\": \"female_schizophrenia_prevalence_%\",\n",
    "    \"Population (historical estimates)\": \"population\"\n",
    "})"
   ]
  },
  {
   "cell_type": "code",
   "execution_count": null,
   "id": "ca5dc843",
   "metadata": {},
   "outputs": [],
   "source": [
    "date_filtered_sch_mf_df.filter(date_filtered_sch_mf_df[\"Year\"]==2017).show()"
   ]
  },
  {
   "cell_type": "markdown",
   "id": "b28bacda",
   "metadata": {},
   "source": [
    "Transformation 3: Deal with null values"
   ]
  },
  {
   "cell_type": "code",
   "execution_count": null,
   "id": "e9f9e36c",
   "metadata": {},
   "outputs": [],
   "source": [
    "null_filtered_sch_mf_df = date_filtered_sch_mf_df.filter(~((date_filtered_sch_mf_df[\"male_schizophrenia_prevalence_%\"].isNull()) | (date_filtered_sch_mf_df[\"female_schizophrenia_prevalence_%\"].isNull())))"
   ]
  },
  {
   "cell_type": "code",
   "execution_count": null,
   "id": "d13066f2",
   "metadata": {},
   "outputs": [],
   "source": [
    "null_filtered_sch_mf_df.filter((null_filtered_sch_mf_df[\"Entity\"]==\"Nigeria\") & (null_filtered_sch_mf_df[\"Year\"]>2005)).show()"
   ]
  },
  {
   "cell_type": "markdown",
   "id": "61d9a81c",
   "metadata": {},
   "source": [
    "Transformation 4: Merge with Atlas countries"
   ]
  },
  {
   "cell_type": "code",
   "execution_count": null,
   "id": "9260602f",
   "metadata": {},
   "outputs": [],
   "source": [
    "sch_final_df = null_filtered_sch_mf_df.join(atlas_countries_df.hint(\"broadcast\"), (null_filtered_sch_mf_df[\"Code\"] == atlas_countries_df[\"country_code\"]))"
   ]
  },
  {
   "cell_type": "code",
   "execution_count": null,
   "id": "abc54047",
   "metadata": {},
   "outputs": [],
   "source": [
    "sch_final_df.select([\"Entity\"]).distinct().count()"
   ]
  },
  {
   "cell_type": "code",
   "execution_count": null,
   "id": "1104fc6b",
   "metadata": {},
   "outputs": [],
   "source": [
    "sch_final_df.printSchema()"
   ]
  },
  {
   "cell_type": "code",
   "execution_count": null,
   "id": "ccdcdb9d",
   "metadata": {},
   "outputs": [],
   "source": [
    "sch_final_df = sch_final_df.drop(\"index\").drop(\"Code\").drop(\"Entity\").drop(\"Continent\").drop(\"population\").withColumnsRenamed({\n",
    "    \"Year\": \"year\",\n",
    "}).select([\n",
    "    \"country_name\",\n",
    "    \"country_code\",\n",
    "    \"un_region\",\n",
    "    \"year\",\n",
    "    \"male_schizophrenia_prevalence_%\",\n",
    "    \"female_schizophrenia_prevalence_%\",\n",
    "])"
   ]
  },
  {
   "cell_type": "code",
   "execution_count": null,
   "id": "0b2102eb",
   "metadata": {},
   "outputs": [],
   "source": [
    "sch_final_df.show()"
   ]
  },
  {
   "cell_type": "code",
   "execution_count": null,
   "id": "9e13f407",
   "metadata": {},
   "outputs": [],
   "source": [
    "output_sch_mf_atlas_countries_merged = \"Datasets/global_mental_health_csvs/sch_mf_atlas_countries_merged\"\n",
    "sch_final_df.write.csv(output_sch_mf_atlas_countries_merged, mode=\"overwrite\")"
   ]
  },
  {
   "cell_type": "markdown",
   "id": "65454ec2",
   "metadata": {},
   "source": [
    "### Prevalence of bipolar disorder (male vs. female)"
   ]
  },
  {
   "cell_type": "code",
   "execution_count": null,
   "id": "7d9f54b1",
   "metadata": {},
   "outputs": [],
   "source": [
    "bpd_mf_df = spark.read.option(\"header\", True).csv(input_data_dir + \"/prevalence-of-bipolar-disorder-in-males-vs-females.csv\")"
   ]
  },
  {
   "cell_type": "code",
   "execution_count": null,
   "id": "6403861e",
   "metadata": {},
   "outputs": [],
   "source": [
    "bpd_mf_df.printSchema()"
   ]
  },
  {
   "cell_type": "code",
   "execution_count": null,
   "id": "c8755034",
   "metadata": {},
   "outputs": [],
   "source": [
    "bpd_mf_df.show(5, truncate=False)"
   ]
  },
  {
   "cell_type": "code",
   "execution_count": null,
   "id": "8a34956d",
   "metadata": {},
   "outputs": [],
   "source": [
    "bpd_mf_df.select([\"Entity\"]).distinct().count()"
   ]
  },
  {
   "cell_type": "code",
   "execution_count": null,
   "id": "c87f6e24",
   "metadata": {},
   "outputs": [],
   "source": [
    "bpd_mf_df.select([\"Year\"]).distinct().show()"
   ]
  },
  {
   "cell_type": "markdown",
   "id": "feee455f",
   "metadata": {},
   "source": [
    "Transformation 1: There are a lot of weird dates on the data. Some ranging all the way back to BCE. We want data only from 1990-2023 because it is more likely to be relevat and properly documented."
   ]
  },
  {
   "cell_type": "code",
   "execution_count": null,
   "id": "60c0bf51",
   "metadata": {},
   "outputs": [],
   "source": [
    "date_filtered_bpd_mf_df = bpd_mf_df.filter(bpd_mf_df[\"Year\"].isin([str(i) for i in range(1990, 2024)])) # Filter for 1990-2023"
   ]
  },
  {
   "cell_type": "code",
   "execution_count": null,
   "id": "b83bda6f",
   "metadata": {
    "scrolled": true
   },
   "outputs": [],
   "source": [
    "date_filtered_bpd_mf_df.select([\"Year\"]).distinct().show()"
   ]
  },
  {
   "cell_type": "markdown",
   "id": "0819549e",
   "metadata": {},
   "source": [
    "Transformation 2: Rename columns"
   ]
  },
  {
   "cell_type": "code",
   "execution_count": null,
   "id": "6e85f723",
   "metadata": {},
   "outputs": [],
   "source": [
    "date_filtered_bpd_mf_df = date_filtered_bpd_mf_df.withColumnsRenamed({\n",
    "    \"Prevalence - Bipolar disorder - Sex: Male - Age: Age-standardized (Percent)\": \"male_bipolar_disorder_prevalence_%\",\n",
    "    \"Prevalence - Bipolar disorder - Sex: Female - Age: Age-standardized (Percent)\": \"female_bipolar_disorder_prevalence_%\",\n",
    "    \"Population (historical estimates)\": \"population\"\n",
    "})"
   ]
  },
  {
   "cell_type": "code",
   "execution_count": null,
   "id": "c78c611c",
   "metadata": {},
   "outputs": [],
   "source": [
    "date_filtered_bpd_mf_df.filter(date_filtered_bpd_mf_df[\"Year\"]==2017).show()"
   ]
  },
  {
   "cell_type": "markdown",
   "id": "47b2c58c",
   "metadata": {},
   "source": [
    "Transformation 3: Deal with null values"
   ]
  },
  {
   "cell_type": "code",
   "execution_count": null,
   "id": "77b093c4",
   "metadata": {},
   "outputs": [],
   "source": [
    "null_filtered_bpd_mf_df = date_filtered_bpd_mf_df.filter(~((date_filtered_bpd_mf_df[\"male_bipolar_disorder_prevalence_%\"].isNull()) | (date_filtered_bpd_mf_df[\"female_bipolar_disorder_prevalence_%\"].isNull())))"
   ]
  },
  {
   "cell_type": "code",
   "execution_count": null,
   "id": "ee48de9a",
   "metadata": {},
   "outputs": [],
   "source": [
    "null_filtered_bpd_mf_df.filter((null_filtered_bpd_mf_df[\"Entity\"]==\"Nigeria\") & (null_filtered_bpd_mf_df[\"Year\"]>2005)).show()"
   ]
  },
  {
   "cell_type": "markdown",
   "id": "6ba40d5a",
   "metadata": {},
   "source": [
    "Transformation 4: Merge with Atlas countries"
   ]
  },
  {
   "cell_type": "code",
   "execution_count": null,
   "id": "e6cc97a9",
   "metadata": {},
   "outputs": [],
   "source": [
    "bpd_final_df = null_filtered_bpd_mf_df.join(atlas_countries_df.hint(\"broadcast\"), (null_filtered_bpd_mf_df[\"Code\"] == atlas_countries_df[\"country_code\"]))"
   ]
  },
  {
   "cell_type": "code",
   "execution_count": null,
   "id": "956b1943",
   "metadata": {},
   "outputs": [],
   "source": [
    "bpd_final_df.select([\"Entity\"]).distinct().count()"
   ]
  },
  {
   "cell_type": "code",
   "execution_count": null,
   "id": "de74eeff",
   "metadata": {},
   "outputs": [],
   "source": [
    "bpd_final_df.printSchema()"
   ]
  },
  {
   "cell_type": "code",
   "execution_count": null,
   "id": "1acdaa6d",
   "metadata": {},
   "outputs": [],
   "source": [
    "bpd_final_df = bpd_final_df.drop(\"index\").drop(\"Code\").drop(\"Entity\").drop(\"Continent\").drop(\"population\").withColumnsRenamed({\n",
    "    \"Year\": \"year\",\n",
    "}).select([\n",
    "    \"country_name\",\n",
    "    \"country_code\",\n",
    "    \"un_region\",\n",
    "    \"year\",\n",
    "    \"male_bipolar_disorder_prevalence_%\",\n",
    "    \"female_bipolar_disorder_prevalence_%\",\n",
    "])"
   ]
  },
  {
   "cell_type": "code",
   "execution_count": null,
   "id": "b712c91a",
   "metadata": {},
   "outputs": [],
   "source": [
    "bpd_final_df.show()"
   ]
  },
  {
   "cell_type": "code",
   "execution_count": null,
   "id": "151d617c",
   "metadata": {},
   "outputs": [],
   "source": [
    "output_bpd_mf_atlas_countries_merged = \"Datasets/global_mental_health_csvs/bpd_mf_atlas_countries_merged\"\n",
    "bpd_final_df.write.csv(output_bpd_mf_atlas_countries_merged, mode=\"overwrite\")"
   ]
  },
  {
   "cell_type": "markdown",
   "id": "2d618e32",
   "metadata": {},
   "source": [
    "### Suicide rate by country"
   ]
  },
  {
   "cell_type": "code",
   "execution_count": null,
   "id": "0b6d9741",
   "metadata": {},
   "outputs": [],
   "source": [
    "sui_2023_mf_df = spark.read.option(\"header\", True).csv(input_data_dir + \"/suicide-rate-by-country-2023.csv\")"
   ]
  },
  {
   "cell_type": "code",
   "execution_count": null,
   "id": "3707209a",
   "metadata": {},
   "outputs": [],
   "source": [
    "sui_2023_mf_df.printSchema()"
   ]
  },
  {
   "cell_type": "code",
   "execution_count": null,
   "id": "e272a0a8",
   "metadata": {},
   "outputs": [],
   "source": [
    "sui_2023_mf_df.show(5, truncate=False)"
   ]
  },
  {
   "cell_type": "code",
   "execution_count": null,
   "id": "31ff5d2e",
   "metadata": {},
   "outputs": [],
   "source": [
    "sui_2023_mf_df.select([\"Country\"]).distinct().count()"
   ]
  },
  {
   "cell_type": "code",
   "execution_count": null,
   "id": "70e86803",
   "metadata": {},
   "outputs": [],
   "source": [
    "# list_of_countries = sui_2023_mf_df.select([\"Country\"]).distinct().collect()\n",
    "# countries_list = [list_of_countries[i][\"Country\"] for i in range(len(list_of_countries))]\n",
    "# total_countries = set(countries_list)\n",
    "# country_dict_schema = types.StructType([\n",
    "#     types.StructField(\"country\", types.StringType()),\n",
    "# ])\n",
    "# rows = [Row(row) for row in total_countries]\n",
    "# country_dict_df = spark.createDataFrame(rows, schema=country_dict_schema)\n",
    "# country_dict_df = country_dict_df.withColumn(\"country_code\", get_country_code(F.col(\"Country\")))\n",
    "# country_dict_df.show()\n",
    "# country_dict_df.write.csv(\"gmh_sui_2023_country_dict\", mode=\"overwrite\")"
   ]
  },
  {
   "cell_type": "code",
   "execution_count": null,
   "id": "c79c648d",
   "metadata": {},
   "outputs": [],
   "source": [
    "# # To create a country_dict_df of country_name, official_name, iso3, un_region to avoid using countryguess\n",
    "# sui_2023_countries = sui_2023_mf_df.select([\"Country\"]).distinct().collect()\n",
    "# sui_2023_countries_list = [sui_2023_countries[i][\"Country\"] for i in range(len(sui_2023_countries))]\n",
    "# print(sui_2023_countries_list)"
   ]
  },
  {
   "cell_type": "markdown",
   "id": "2adb1124",
   "metadata": {},
   "source": [
    "Transformation 1: Rename columns"
   ]
  },
  {
   "cell_type": "code",
   "execution_count": null,
   "id": "407bfec2",
   "metadata": {},
   "outputs": [],
   "source": [
    "sui_2023_mf_df = sui_2023_mf_df.withColumnsRenamed({\n",
    "    \"rate2019both\": \"all_suicide_%\",\n",
    "    \"rate2019male\": \"male_suicide_%\",\n",
    "    \"rate2019female\": \"female_suicide_%\"\n",
    "}).withColumn(\"year\", F.lit(\"2019\"))"
   ]
  },
  {
   "cell_type": "markdown",
   "id": "3e0036b5",
   "metadata": {},
   "source": [
    "Transformation 2: Remove erroneous values (percentage > 100%)"
   ]
  },
  {
   "cell_type": "code",
   "execution_count": null,
   "id": "97e95165",
   "metadata": {},
   "outputs": [],
   "source": [
    "erroneous_val_filtered_sui_2023_mf_df = sui_2023_mf_df.filter(~((sui_2023_mf_df[\"all_suicide_%\"] > 100) | (sui_2023_mf_df[\"male_suicide_%\"] > 100) | (sui_2023_mf_df[\"female_suicide_%\"] > 100)))"
   ]
  },
  {
   "cell_type": "code",
   "execution_count": null,
   "id": "f1e46f92",
   "metadata": {},
   "outputs": [],
   "source": [
    "erroneous_val_filtered_sui_2023_mf_df.show()"
   ]
  },
  {
   "cell_type": "code",
   "execution_count": null,
   "id": "21fc8b77",
   "metadata": {},
   "outputs": [],
   "source": [
    "# @F.udf(returnType=types.StringType())\n",
    "# def get_country_code(country):\n",
    "#     return guess_country(country)[\"iso3\"]"
   ]
  },
  {
   "cell_type": "code",
   "execution_count": null,
   "id": "7f8614d2",
   "metadata": {},
   "outputs": [],
   "source": [
    "# erroneous_val_filtered_sui_2023_mf_df = erroneous_val_filtered_sui_2023_mf_df.withColumn(\"code\", get_country_code(F.col(\"country\")))"
   ]
  },
  {
   "cell_type": "code",
   "execution_count": null,
   "id": "23740919",
   "metadata": {},
   "outputs": [],
   "source": [
    "country_dict_df_schema = types.StructType([\n",
    "    types.StructField(\"country_dict_country\", types.StringType()),\n",
    "    types.StructField(\"country_dict_country_code\", types.StringType()),\n",
    "])\n",
    "country_dict_df = spark.read.csv(\"gmh_sui_2023_country_dict\", schema=country_dict_df_schema)"
   ]
  },
  {
   "cell_type": "code",
   "execution_count": null,
   "id": "bf53e750",
   "metadata": {},
   "outputs": [],
   "source": [
    "erroneous_val_filtered_sui_2023_mf_df = erroneous_val_filtered_sui_2023_mf_df.join(country_dict_df.hint(\"broadcast\"), (erroneous_val_filtered_sui_2023_mf_df[\"country\"]==country_dict_df[\"country_dict_country\"]), how=\"left\")"
   ]
  },
  {
   "cell_type": "code",
   "execution_count": null,
   "id": "0a24eb2e",
   "metadata": {},
   "outputs": [],
   "source": [
    "erroneous_val_filtered_sui_2023_mf_df = erroneous_val_filtered_sui_2023_mf_df.drop(\"country\").drop(\"country_dict_country\").withColumnsRenamed({\n",
    "    \"country_dict_country_code\": \"code\"\n",
    "})"
   ]
  },
  {
   "cell_type": "code",
   "execution_count": null,
   "id": "5399c20a",
   "metadata": {},
   "outputs": [],
   "source": [
    "erroneous_val_filtered_sui_2023_mf_df.count()"
   ]
  },
  {
   "cell_type": "code",
   "execution_count": null,
   "id": "f4ed6300",
   "metadata": {},
   "outputs": [],
   "source": [
    "final_sui_2023_mf_df = erroneous_val_filtered_sui_2023_mf_df.join(atlas_countries_df.hint(\"broadcast\"), (erroneous_val_filtered_sui_2023_mf_df[\"code\"]==atlas_countries_df[\"country_code\"]), how=\"right\")"
   ]
  },
  {
   "cell_type": "code",
   "execution_count": null,
   "id": "4a0fdaf0",
   "metadata": {},
   "outputs": [],
   "source": [
    "final_sui_2023_mf_df.select([\"country_name\"]).distinct().count()"
   ]
  },
  {
   "cell_type": "code",
   "execution_count": null,
   "id": "e8129577",
   "metadata": {},
   "outputs": [],
   "source": [
    "final_sui_2023_mf_df.printSchema()"
   ]
  },
  {
   "cell_type": "code",
   "execution_count": null,
   "id": "ca3deafa",
   "metadata": {},
   "outputs": [],
   "source": [
    "final_sui_2023_mf_df = final_sui_2023_mf_df.drop(\"country\").drop(\"code\").select([\n",
    "    \"country_name\",\n",
    "    \"country_code\",\n",
    "    \"un_region\",\n",
    "    \"year\",\n",
    "    \"all_suicide_%\",\n",
    "    \"male_suicide_%\",\n",
    "    \"female_suicide_%\"\n",
    "])"
   ]
  },
  {
   "cell_type": "code",
   "execution_count": null,
   "id": "253e4125",
   "metadata": {
    "scrolled": true
   },
   "outputs": [],
   "source": [
    "final_sui_2023_mf_df.show()"
   ]
  },
  {
   "cell_type": "code",
   "execution_count": null,
   "id": "0f52104f",
   "metadata": {},
   "outputs": [],
   "source": [
    "output_sui_mf_atlas_countries_merged = \"Datasets/global_mental_health_csvs/sui_mf_atlas_countries_merged\"\n",
    "final_sui_2023_mf_df.write.csv(output_sui_mf_atlas_countries_merged, mode=\"overwrite\")"
   ]
  }
 ],
 "metadata": {
  "kernelspec": {
   "display_name": "Python 3 (ipykernel)",
   "language": "python",
   "name": "python3"
  },
  "language_info": {
   "codemirror_mode": {
    "name": "ipython",
    "version": 3
   },
   "file_extension": ".py",
   "mimetype": "text/x-python",
   "name": "python",
   "nbconvert_exporter": "python",
   "pygments_lexer": "ipython3",
   "version": "3.8.15"
  }
 },
 "nbformat": 4,
 "nbformat_minor": 5
}
